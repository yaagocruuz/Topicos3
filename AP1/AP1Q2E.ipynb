{
  "cells": [
    {
      "metadata": {
        "_uuid": "8f2839f25d086af736a60e9eeb907d3b93b6e0e5",
        "_cell_guid": "b1076dfc-b9ad-4769-8c92-a6c4dae69d19",
        "trusted": true
      },
      "cell_type": "code",
      "source": "# This Python 3 environment comes with many helpful analytics libraries installed\n# It is defined by the kaggle/python docker image: https://github.com/kaggle/docker-python\n# For example, here's several helpful packages to load in \n\nimport numpy as np # linear algebra\nimport pandas as pd # data processing, CSV file I/O (e.g. pd.read_csv)\n\n# Input data files are available in the \"../input/\" directory.\n# For example, running this (by clicking run or pressing Shift+Enter) will list the files in the input directory\n\nimport os\nprint(os.listdir(\"../input\"))\n\n# Any results you write to the current directory are saved as output.",
      "execution_count": null,
      "outputs": []
    },
    {
      "metadata": {
        "_cell_guid": "79c7e3d0-c299-4dcb-8224-4455121ee9b0",
        "_uuid": "d629ff2d2480ee46fbb7e2d37f6b5fab8052498a",
        "trusted": true
      },
      "cell_type": "code",
      "source": "import keras\nfrom keras import layers\nfrom keras import models\nfrom keras.utils import to_categorical\nimport matplotlib.pyplot as plt\nfrom os import listdir, makedirs\nimport numpy as np\nfrom keras.preprocessing.image import ImageDataGenerator\nfrom keras.applications import VGG16\nfrom keras.models import Sequential\nfrom keras.layers import Dense, Flatten, Dropout\nfrom keras import optimizers, regularizers\nfrom keras import losses\nfrom keras.preprocessing import image\nfrom keras.datasets import mnist\n\nimport warnings\nwarnings.filterwarnings('ignore')",
      "execution_count": null,
      "outputs": []
    },
    {
      "metadata": {
        "trusted": true,
        "_uuid": "4b4651cc1337a4d33347100bd00491e28cdbd669"
      },
      "cell_type": "code",
      "source": "RESOLUTION = 150\nBATCH_SIZE = 20\n\n#if you need data augmentation processing\n#train_datagen = ImageDataGenerator(\n        #rescale=1./255,\n        #shear_range=0.2,\n        #zoom_range=0.2,\n        #horizontal_flip=True,\n        #validation_split=0.3)\n\ndata_datagen_e = ImageDataGenerator(rescale=1./255, validation_split=0.15)\n\ntrain_generator_e = data_datagen_e.flow_from_directory(\n        \"../input/the-simpsons-characters-dataset/simpsons_dataset/simpsons_dataset\",\n        classes=['homer_simpson', 'ned_flanders', 'moe_szyslak', 'lisa_simpson', \n                 'bart_simpson', 'marge_simpson', 'krusty_the_clown', \n                 'principal_skinner', 'charles_montgomery_burns', 'milhouse_van_houten'],\n        target_size=(RESOLUTION, RESOLUTION),\n        batch_size=BATCH_SIZE,\n        class_mode='categorical', subset=\"training\")\n\nval_generator_e = data_datagen_e.flow_from_directory(\n        \"../input/the-simpsons-characters-dataset/simpsons_dataset/simpsons_dataset\",\n        classes=['homer_simpson', 'ned_flanders', 'moe_szyslak', 'lisa_simpson', \n                 'bart_simpson', 'marge_simpson', 'krusty_the_clown', \n                 'principal_skinner', 'charles_montgomery_burns', 'milhouse_van_houten'],\n        target_size=(RESOLUTION, RESOLUTION),\n        batch_size=BATCH_SIZE,\n        class_mode='categorical', subset=\"validation\")",
      "execution_count": null,
      "outputs": []
    },
    {
      "metadata": {
        "trusted": true,
        "_uuid": "a5da27c982b002ecea9a54c4c85b8c4222fd45f6"
      },
      "cell_type": "code",
      "source": "conv_base = keras.applications.resnet50.ResNet50(include_top=False, input_shape=(150,150,3))",
      "execution_count": null,
      "outputs": []
    },
    {
      "metadata": {
        "trusted": true,
        "_uuid": "fa6a169a6de337af6c66b814fe062ba17abfbc31"
      },
      "cell_type": "code",
      "source": "def resnet50_pretrained_model(model_resnet50, dropout_=False, regularizer_=False, regularizer_weight=0.001):\n  \n    model = Sequential()\n    model.add(model_resnet50)\n    model.add(Flatten())\n    if dropout_:\n        model.add(Dropout(0.5))\n    if regularizer_:\n        model.add(Dense(256, activation='relu', \n                        kernel_regularizer=regularizers.l1_l2(l1=regularizer_weight,\n                                                            l2=regularizer_weight)))\n    else:\n        model.add(Dense(256, activation='relu'))\n    model.add(Dense(10, activation='softmax'))\n    model.summary()\n    model.compile(loss='categorical_crossentropy', \n                  optimizer=optimizers.adagrad(lr=0.001), metrics=['acc'])\n    return model\n",
      "execution_count": null,
      "outputs": []
    },
    {
      "metadata": {
        "trusted": true,
        "_uuid": "dc2e2160e85ed777842da24bcd32871e9607e34f"
      },
      "cell_type": "code",
      "source": "modele = resnet50_pretrained_model(conv_base, dropout_=False, regularizer_=False, regularizer_weight=0.001)",
      "execution_count": null,
      "outputs": []
    },
    {
      "metadata": {
        "trusted": true,
        "_uuid": "b8f7685547983ddc7ad434ace3accb2802d5975f"
      },
      "cell_type": "code",
      "source": "historye = modele.fit_generator(\n        train_generator_e,\n        steps_per_epoch=(11745 // BATCH_SIZE),\n        epochs=50,\n        validation_data=val_generator_e,\n        validation_steps=(2066 // BATCH_SIZE) \n    )",
      "execution_count": null,
      "outputs": []
    },
    {
      "metadata": {
        "trusted": true,
        "_uuid": "89efa1360c6b32ca342f26799bdac4abe793e9c4"
      },
      "cell_type": "code",
      "source": "acc = historye.history['acc']\nval_acc = historye.history['val_acc']\nloss = historye.history['loss']\nval_loss = historye.history['val_loss']\nepochs = range(1, len(acc) + 1)\nplt.plot(epochs, acc, 'bo', label='Training acc')\nplt.plot(epochs, val_acc, 'b', label='Validation acc')\nplt.title('Training and validation accuracy')\nplt.legend()\nplt.figure()\nplt.plot(epochs, loss, 'bo', label='Training loss')\nplt.plot(epochs, val_loss, 'b', label='Validation loss')\nplt.title('Training and validation loss')\nplt.legend()\nplt.show()",
      "execution_count": null,
      "outputs": []
    }
  ],
  "metadata": {
    "kernelspec": {
      "display_name": "Python 3",
      "language": "python",
      "name": "python3"
    },
    "language_info": {
      "name": "python",
      "version": "3.6.6",
      "mimetype": "text/x-python",
      "codemirror_mode": {
        "name": "ipython",
        "version": 3
      },
      "pygments_lexer": "ipython3",
      "nbconvert_exporter": "python",
      "file_extension": ".py"
    }
  },
  "nbformat": 4,
  "nbformat_minor": 1
}