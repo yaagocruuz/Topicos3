{
 "cells": [
  {
   "cell_type": "code",
   "execution_count": 1,
   "metadata": {
    "_cell_guid": "b1076dfc-b9ad-4769-8c92-a6c4dae69d19",
    "_uuid": "8f2839f25d086af736a60e9eeb907d3b93b6e0e5"
   },
   "outputs": [
    {
     "ename": "FileNotFoundError",
     "evalue": "[Errno 2] No such file or directory: '../input'",
     "output_type": "error",
     "traceback": [
      "\u001b[0;31m---------------------------------------------------------------------------\u001b[0m",
      "\u001b[0;31mFileNotFoundError\u001b[0m                         Traceback (most recent call last)",
      "\u001b[0;32m<ipython-input-1-677e5b8b0f88>\u001b[0m in \u001b[0;36m<module>\u001b[0;34m()\u001b[0m\n\u001b[1;32m     10\u001b[0m \u001b[0;34m\u001b[0m\u001b[0m\n\u001b[1;32m     11\u001b[0m \u001b[0;32mimport\u001b[0m \u001b[0mos\u001b[0m\u001b[0;34m\u001b[0m\u001b[0m\n\u001b[0;32m---> 12\u001b[0;31m \u001b[0mprint\u001b[0m\u001b[0;34m(\u001b[0m\u001b[0mos\u001b[0m\u001b[0;34m.\u001b[0m\u001b[0mlistdir\u001b[0m\u001b[0;34m(\u001b[0m\u001b[0;34m\"../input\"\u001b[0m\u001b[0;34m)\u001b[0m\u001b[0;34m)\u001b[0m\u001b[0;34m\u001b[0m\u001b[0m\n\u001b[0m\u001b[1;32m     13\u001b[0m \u001b[0;34m\u001b[0m\u001b[0m\n\u001b[1;32m     14\u001b[0m \u001b[0;31m# Any results you write to the current directory are saved as output.\u001b[0m\u001b[0;34m\u001b[0m\u001b[0;34m\u001b[0m\u001b[0m\n",
      "\u001b[0;31mFileNotFoundError\u001b[0m: [Errno 2] No such file or directory: '../input'"
     ]
    }
   ],
   "source": [
    "# This Python 3 environment comes with many helpful analytics libraries installed\n",
    "# It is defined by the kaggle/python docker image: https://github.com/kaggle/docker-python\n",
    "# For example, here's several helpful packages to load in \n",
    "\n",
    "import numpy as np # linear algebra\n",
    "import pandas as pd # data processing, CSV file I/O (e.g. pd.read_csv)\n",
    "\n",
    "# Input data files are available in the \"../input/\" directory.\n",
    "# For example, running this (by clicking run or pressing Shift+Enter) will list the files in the input directory\n",
    "\n",
    "import os\n",
    "print(os.listdir(\"../input\"))\n",
    "\n",
    "# Any results you write to the current directory are saved as output."
   ]
  },
  {
   "cell_type": "code",
   "execution_count": 2,
   "metadata": {
    "_cell_guid": "79c7e3d0-c299-4dcb-8224-4455121ee9b0",
    "_uuid": "d629ff2d2480ee46fbb7e2d37f6b5fab8052498a"
   },
   "outputs": [
    {
     "name": "stderr",
     "output_type": "stream",
     "text": [
      "Using TensorFlow backend.\n"
     ]
    }
   ],
   "source": [
    "import keras\n",
    "from keras import layers\n",
    "from keras import models\n",
    "from keras.utils import to_categorical\n",
    "import matplotlib.pyplot as plt\n",
    "from os import listdir, makedirs\n",
    "import numpy as np\n",
    "from keras.preprocessing.image import ImageDataGenerator\n",
    "from keras.applications import VGG16\n",
    "from keras.models import Sequential\n",
    "from keras.layers import Dense, Flatten, Dropout\n",
    "from keras import optimizers, regularizers\n",
    "from keras import losses\n",
    "from keras.preprocessing import image\n",
    "from keras.datasets import mnist\n",
    "\n",
    "import warnings\n",
    "warnings.filterwarnings('ignore')"
   ]
  },
  {
   "cell_type": "code",
   "execution_count": 3,
   "metadata": {
    "_uuid": "dd4d0e35b3d32e2039d597ccd671c9e40b3b6e55"
   },
   "outputs": [],
   "source": [
    "data = pd.read_csv(\"../input/the-simpsons-characters-dataset/number_pic_char.csv\")"
   ]
  },
  {
   "cell_type": "code",
   "execution_count": 4,
   "metadata": {
    "_uuid": "5878b796389059319932a732ecefe88df9b42b88"
   },
   "outputs": [
    {
     "data": {
      "text/html": [
       "<div>\n",
       "<style scoped>\n",
       "    .dataframe tbody tr th:only-of-type {\n",
       "        vertical-align: middle;\n",
       "    }\n",
       "\n",
       "    .dataframe tbody tr th {\n",
       "        vertical-align: top;\n",
       "    }\n",
       "\n",
       "    .dataframe thead th {\n",
       "        text-align: right;\n",
       "    }\n",
       "</style>\n",
       "<table border=\"1\" class=\"dataframe\">\n",
       "  <thead>\n",
       "    <tr style=\"text-align: right;\">\n",
       "      <th></th>\n",
       "      <th>Unnamed: 0</th>\n",
       "      <th>name</th>\n",
       "      <th>total</th>\n",
       "      <th>train</th>\n",
       "      <th>test</th>\n",
       "      <th>bounding_box</th>\n",
       "    </tr>\n",
       "  </thead>\n",
       "  <tbody>\n",
       "    <tr>\n",
       "      <th>0</th>\n",
       "      <td>0</td>\n",
       "      <td>Homer Simpson</td>\n",
       "      <td>2246</td>\n",
       "      <td>1909</td>\n",
       "      <td>337</td>\n",
       "      <td>612</td>\n",
       "    </tr>\n",
       "    <tr>\n",
       "      <th>1</th>\n",
       "      <td>1</td>\n",
       "      <td>Ned Flanders</td>\n",
       "      <td>1454</td>\n",
       "      <td>1236</td>\n",
       "      <td>218</td>\n",
       "      <td>595</td>\n",
       "    </tr>\n",
       "    <tr>\n",
       "      <th>2</th>\n",
       "      <td>2</td>\n",
       "      <td>Moe Szyslak</td>\n",
       "      <td>1452</td>\n",
       "      <td>1234</td>\n",
       "      <td>218</td>\n",
       "      <td>215</td>\n",
       "    </tr>\n",
       "    <tr>\n",
       "      <th>3</th>\n",
       "      <td>3</td>\n",
       "      <td>Lisa Simpson</td>\n",
       "      <td>1354</td>\n",
       "      <td>1151</td>\n",
       "      <td>203</td>\n",
       "      <td>562</td>\n",
       "    </tr>\n",
       "    <tr>\n",
       "      <th>4</th>\n",
       "      <td>4</td>\n",
       "      <td>Bart Simpson</td>\n",
       "      <td>1342</td>\n",
       "      <td>1141</td>\n",
       "      <td>201</td>\n",
       "      <td>554</td>\n",
       "    </tr>\n",
       "    <tr>\n",
       "      <th>5</th>\n",
       "      <td>5</td>\n",
       "      <td>Marge Simpson</td>\n",
       "      <td>1291</td>\n",
       "      <td>1097</td>\n",
       "      <td>194</td>\n",
       "      <td>557</td>\n",
       "    </tr>\n",
       "    <tr>\n",
       "      <th>6</th>\n",
       "      <td>6</td>\n",
       "      <td>Krusty The Clown</td>\n",
       "      <td>1206</td>\n",
       "      <td>1025</td>\n",
       "      <td>181</td>\n",
       "      <td>226</td>\n",
       "    </tr>\n",
       "    <tr>\n",
       "      <th>7</th>\n",
       "      <td>7</td>\n",
       "      <td>Principal Skinner</td>\n",
       "      <td>1194</td>\n",
       "      <td>1015</td>\n",
       "      <td>179</td>\n",
       "      <td>506</td>\n",
       "    </tr>\n",
       "    <tr>\n",
       "      <th>8</th>\n",
       "      <td>8</td>\n",
       "      <td>Charles Montgomery Burns</td>\n",
       "      <td>1193</td>\n",
       "      <td>1014</td>\n",
       "      <td>179</td>\n",
       "      <td>650</td>\n",
       "    </tr>\n",
       "    <tr>\n",
       "      <th>9</th>\n",
       "      <td>9</td>\n",
       "      <td>Milhouse Van Houten</td>\n",
       "      <td>1079</td>\n",
       "      <td>917</td>\n",
       "      <td>162</td>\n",
       "      <td>210</td>\n",
       "    </tr>\n",
       "  </tbody>\n",
       "</table>\n",
       "</div>"
      ],
      "text/plain": [
       "   Unnamed: 0                      name      ...       test  bounding_box\n",
       "0           0             Homer Simpson      ...        337           612\n",
       "1           1              Ned Flanders      ...        218           595\n",
       "2           2               Moe Szyslak      ...        218           215\n",
       "3           3              Lisa Simpson      ...        203           562\n",
       "4           4              Bart Simpson      ...        201           554\n",
       "5           5             Marge Simpson      ...        194           557\n",
       "6           6          Krusty The Clown      ...        181           226\n",
       "7           7         Principal Skinner      ...        179           506\n",
       "8           8  Charles Montgomery Burns      ...        179           650\n",
       "9           9       Milhouse Van Houten      ...        162           210\n",
       "\n",
       "[10 rows x 6 columns]"
      ]
     },
     "execution_count": 4,
     "metadata": {},
     "output_type": "execute_result"
    }
   ],
   "source": [
    "data.head(10)"
   ]
  },
  {
   "cell_type": "code",
   "execution_count": 5,
   "metadata": {
    "_uuid": "c10b6af60f328ac49673dcaa71fdde458f17f45c"
   },
   "outputs": [
    {
     "name": "stdout",
     "output_type": "stream",
     "text": [
      "Found 11745 images belonging to 10 classes.\n",
      "Found 2066 images belonging to 10 classes.\n"
     ]
    }
   ],
   "source": [
    "RESOLUTION = 150\n",
    "BATCH_SIZE = 20\n",
    "\n",
    "#if you need data augmentation processing\n",
    "#train_datagen = ImageDataGenerator(\n",
    "        #rescale=1./255,\n",
    "        #shear_range=0.2,\n",
    "        #zoom_range=0.2,\n",
    "        #horizontal_flip=True,\n",
    "        #validation_split=0.3)\n",
    "\n",
    "data_datagen = ImageDataGenerator(rescale=1./255, validation_split=0.15)\n",
    "\n",
    "train_generator = data_datagen.flow_from_directory(\n",
    "        \"../input/the-simpsons-characters-dataset/simpsons_dataset/simpsons_dataset\",\n",
    "        classes=['homer_simpson', 'ned_flanders', 'moe_szyslak', 'lisa_simpson', \n",
    "                 'bart_simpson', 'marge_simpson', 'krusty_the_clown', \n",
    "                 'principal_skinner', 'charles_montgomery_burns', 'milhouse_van_houten'],\n",
    "        target_size=(RESOLUTION, RESOLUTION),\n",
    "        batch_size=BATCH_SIZE,\n",
    "        class_mode='categorical', subset=\"training\")\n",
    "\n",
    "val_generator = data_datagen.flow_from_directory(\n",
    "        \"../input/the-simpsons-characters-dataset/simpsons_dataset/simpsons_dataset\",\n",
    "        classes=['homer_simpson', 'ned_flanders', 'moe_szyslak', 'lisa_simpson', \n",
    "                 'bart_simpson', 'marge_simpson', 'krusty_the_clown', \n",
    "                 'principal_skinner', 'charles_montgomery_burns', 'milhouse_van_houten'],\n",
    "        target_size=(RESOLUTION, RESOLUTION),\n",
    "        batch_size=BATCH_SIZE,\n",
    "        class_mode='categorical', subset=\"validation\")"
   ]
  },
  {
   "cell_type": "code",
   "execution_count": 6,
   "metadata": {
    "_uuid": "1d2c0ce0b5701f42627500eb2e34e2fd847640b7"
   },
   "outputs": [
    {
     "name": "stdout",
     "output_type": "stream",
     "text": [
      "_________________________________________________________________\n",
      "Layer (type)                 Output Shape              Param #   \n",
      "=================================================================\n",
      "conv2d_1 (Conv2D)            (None, 146, 146, 100)     7600      \n",
      "_________________________________________________________________\n",
      "conv2d_2 (Conv2D)            (None, 142, 142, 100)     250100    \n",
      "_________________________________________________________________\n",
      "max_pooling2d_1 (MaxPooling2 (None, 35, 35, 100)       0         \n",
      "_________________________________________________________________\n",
      "flatten_1 (Flatten)          (None, 122500)            0         \n",
      "_________________________________________________________________\n",
      "dense_1 (Dense)              (None, 64)                7840064   \n",
      "_________________________________________________________________\n",
      "dense_2 (Dense)              (None, 10)                650       \n",
      "=================================================================\n",
      "Total params: 8,098,414\n",
      "Trainable params: 8,098,414\n",
      "Non-trainable params: 0\n",
      "_________________________________________________________________\n"
     ]
    }
   ],
   "source": [
    "model = models.Sequential()\n",
    "model.add(layers.Conv2D(filters= 100, kernel_size=(5, 5), activation='relu', input_shape=(150, 150, 3))) #(image_height, image_width, image_channels) (not including the batch dimension).\n",
    "model.add(layers.Conv2D(filters= 100, kernel_size=(5, 5), activation='relu'))\n",
    "model.add(layers.MaxPooling2D((4, 4)))\n",
    "model.add(layers.Flatten()) # Output_shape=(None, 3*3*64)\n",
    "model.add(layers.Dense(64, activation='relu'))\n",
    "model.add(layers.Dense(10, activation='relu'))\n",
    "\n",
    "model.summary()"
   ]
  },
  {
   "cell_type": "markdown",
   "metadata": {
    "_uuid": "fea99ffb527da96a103666add86e632e310e7ad1"
   },
   "source": []
  },
  {
   "cell_type": "markdown",
   "metadata": {
    "_uuid": "35ff832eb06a8e8fd81054268c229ebb9e49bd5d"
   },
   "source": [
    "## ep = 10\n",
    "### lr = 0.001 "
   ]
  },
  {
   "cell_type": "code",
   "execution_count": 7,
   "metadata": {
    "_uuid": "4f23757d55479676154c6a983190aca24c7bbe0d",
    "scrolled": true
   },
   "outputs": [
    {
     "name": "stdout",
     "output_type": "stream",
     "text": [
      "Epoch 1/10\n",
      "587/587 [==============================] - 188s 320ms/step - loss: 3.0617 - acc: 0.2146 - val_loss: 2.1607 - val_acc: 0.1850\n",
      "Epoch 2/10\n",
      "587/587 [==============================] - 184s 313ms/step - loss: 2.0724 - acc: 0.3017 - val_loss: 2.0653 - val_acc: 0.3118\n",
      "Epoch 3/10\n",
      "587/587 [==============================] - 183s 311ms/step - loss: 2.0324 - acc: 0.3248 - val_loss: 2.2455 - val_acc: 0.0894\n",
      "Epoch 4/10\n",
      "587/587 [==============================] - 183s 311ms/step - loss: 2.1028 - acc: 0.1319 - val_loss: 2.1206 - val_acc: 0.1632\n",
      "Epoch 5/10\n",
      "587/587 [==============================] - 183s 312ms/step - loss: 2.0341 - acc: 0.2598 - val_loss: 2.0683 - val_acc: 0.2708\n",
      "Epoch 6/10\n",
      "587/587 [==============================] - 183s 312ms/step - loss: 1.9358 - acc: 0.3858 - val_loss: 2.1019 - val_acc: 0.3353\n",
      "Epoch 7/10\n",
      "587/587 [==============================] - 183s 311ms/step - loss: 1.8860 - acc: 0.3572 - val_loss: 2.0752 - val_acc: 0.3289\n",
      "Epoch 8/10\n",
      "587/587 [==============================] - 183s 311ms/step - loss: 1.9053 - acc: 0.4063 - val_loss: 2.0463 - val_acc: 0.3060\n",
      "Epoch 9/10\n",
      "587/587 [==============================] - 183s 312ms/step - loss: 1.8256 - acc: 0.3917 - val_loss: 2.1535 - val_acc: 0.3187\n",
      "Epoch 10/10\n",
      "587/587 [==============================] - 183s 312ms/step - loss: 1.7836 - acc: 0.4296 - val_loss: 2.1186 - val_acc: 0.3568\n"
     ]
    }
   ],
   "source": [
    "model1 = model\n",
    "model1.compile(loss='categorical_crossentropy', optimizer=optimizers.adagrad(lr=0.001), metrics=['acc'])\n",
    "\n",
    "history = model1.fit_generator(\n",
    "        train_generator,\n",
    "        steps_per_epoch=(11745 // BATCH_SIZE),\n",
    "        epochs=10,\n",
    "        validation_data=val_generator,\n",
    "        validation_steps=(2066 // BATCH_SIZE) \n",
    "    )"
   ]
  },
  {
   "cell_type": "code",
   "execution_count": 8,
   "metadata": {
    "_uuid": "b147a33d006f0ce91da967e351fe80aeabe1493f"
   },
   "outputs": [
    {
     "data": {
      "image/png": "[encoded data removed]",
      "text/plain": [
       "<Figure size 432x288 with 1 Axes>"
      ]
     },
     "metadata": {
      "needs_background": "light"
     },
     "output_type": "display_data"
    },
    {
     "data": {
      "image/png": "[encoded data removed]",
      "text/plain": [
       "<Figure size 432x288 with 1 Axes>"
      ]
     },
     "metadata": {
      "needs_background": "light"
     },
     "output_type": "display_data"
    }
   ],
   "source": [
    "acc = history.history['acc']\n",
    "val_acc = history.history['val_acc']\n",
    "loss = history.history['loss']\n",
    "val_loss = history.history['val_loss']\n",
    "epochs = range(1, len(acc) + 1)\n",
    "plt.plot(epochs, acc, 'bo', label='Training acc')\n",
    "plt.plot(epochs, val_acc, 'b', label='Validation acc')\n",
    "plt.title('Training and validation accuracy')\n",
    "plt.legend()\n",
    "plt.figure()\n",
    "plt.plot(epochs, loss, 'bo', label='Training loss')\n",
    "plt.plot(epochs, val_loss, 'b', label='Validation loss')\n",
    "plt.title('Training and validation loss')\n",
    "plt.legend()\n",
    "plt.show()"
   ]
  },
  {
   "cell_type": "markdown",
   "metadata": {
    "_uuid": "6ba00c3000a7cb6398888077a978906d0bc9d42e"
   },
   "source": [
    "## ep = 10\n",
    "### lr = 0.01 "
   ]
  },
  {
   "cell_type": "code",
   "execution_count": 9,
   "metadata": {
    "_uuid": "74abf95fc6d08980010acd7e9f60e54a86252266"
   },
   "outputs": [
    {
     "name": "stdout",
     "output_type": "stream",
     "text": [
      "Epoch 1/10\n",
      "587/587 [==============================] - 178s 303ms/step - loss: 8.7619 - acc: 0.1544 - val_loss: 8.6429 - val_acc: 0.1626\n",
      "Epoch 2/10\n",
      "587/587 [==============================] - 178s 302ms/step - loss: 5.0131 - acc: 0.1601 - val_loss: 3.4078 - val_acc: 0.2121\n",
      "Epoch 3/10\n",
      "587/587 [==============================] - 178s 303ms/step - loss: 3.3676 - acc: 0.2063 - val_loss: 3.4681 - val_acc: 0.2053\n",
      "Epoch 4/10\n",
      "587/587 [==============================] - 178s 304ms/step - loss: 3.3013 - acc: 0.2207 - val_loss: 3.3514 - val_acc: 0.2234\n",
      "Epoch 5/10\n",
      "587/587 [==============================] - 178s 304ms/step - loss: 3.3544 - acc: 0.2132 - val_loss: 3.4622 - val_acc: 0.1720\n",
      "Epoch 6/10\n",
      "587/587 [==============================] - 179s 304ms/step - loss: 3.3221 - acc: 0.2343 - val_loss: 3.3677 - val_acc: 0.2317\n",
      "Epoch 7/10\n",
      "587/587 [==============================] - 179s 304ms/step - loss: 3.2318 - acc: 0.2996 - val_loss: 3.4151 - val_acc: 0.1984\n",
      "Epoch 8/10\n",
      "587/587 [==============================] - 179s 304ms/step - loss: 3.2518 - acc: 0.2893 - val_loss: 3.3889 - val_acc: 0.1911\n",
      "Epoch 9/10\n",
      "587/587 [==============================] - 179s 305ms/step - loss: 3.2383 - acc: 0.3096 - val_loss: 3.4885 - val_acc: 0.2898\n",
      "Epoch 10/10\n",
      "587/587 [==============================] - 179s 305ms/step - loss: 3.2871 - acc: 0.2684 - val_loss: 3.3540 - val_acc: 0.2771\n"
     ]
    }
   ],
   "source": [
    "model2 = model\n",
    "model2.compile(loss='categorical_crossentropy', optimizer=optimizers.adagrad(lr=0.01), metrics=['acc'])\n",
    "\n",
    "history2 = model2.fit_generator(\n",
    "        train_generator,\n",
    "        steps_per_epoch=(11745 // BATCH_SIZE),\n",
    "        epochs=10,\n",
    "        validation_data=val_generator,\n",
    "        validation_steps=(2066 // BATCH_SIZE) \n",
    "    )"
   ]
  },
  {
   "cell_type": "code",
   "execution_count": 10,
   "metadata": {
    "_uuid": "b93146cbe5dc5f81c22e7ca5539de5c48fc63a66"
   },
   "outputs": [
    {
     "data": {
      "image/png": "[encoded data removed]",
      "text/plain": [
       "<Figure size 432x288 with 1 Axes>"
      ]
     },
     "metadata": {
      "needs_background": "light"
     },
     "output_type": "display_data"
    },
    {
     "data": {
      "image/png": "[encoded data removed]",
      "text/plain": [
       "<Figure size 432x288 with 1 Axes>"
      ]
     },
     "metadata": {
      "needs_background": "light"
     },
     "output_type": "display_data"
    }
   ],
   "source": [
    "acc = history2.history['acc']\n",
    "val_acc = history2.history['val_acc']\n",
    "loss = history2.history['loss']\n",
    "val_loss = history2.history['val_loss']\n",
    "epochs = range(1, len(acc) + 1)\n",
    "plt.plot(epochs, acc, 'bo', label='Training acc')\n",
    "plt.plot(epochs, val_acc, 'b', label='Validation acc')\n",
    "plt.title('Training and validation accuracy')\n",
    "plt.legend()\n",
    "plt.figure()\n",
    "plt.plot(epochs, loss, 'bo', label='Training loss')\n",
    "plt.plot(epochs, val_loss, 'b', label='Validation loss')\n",
    "plt.title('Training and validation loss')\n",
    "plt.legend()\n",
    "plt.show()"
   ]
  },
  {
   "cell_type": "markdown",
   "metadata": {
    "_uuid": "633a95bb02bbeac1b56f74655cf430bdf7917a31"
   },
   "source": [
    "## ep = 10\n",
    "### lr = 0.1 "
   ]
  },
  {
   "cell_type": "code",
   "execution_count": 11,
   "metadata": {
    "_uuid": "b52405877903fe806bcc7e61059d18835fa90b85"
   },
   "outputs": [
    {
     "name": "stdout",
     "output_type": "stream",
     "text": [
      "Epoch 1/10\n",
      "587/587 [==============================] - 178s 303ms/step - loss: 14.6913 - acc: 0.0879 - val_loss: 14.7175 - val_acc: 0.0869\n",
      "Epoch 2/10\n",
      "587/587 [==============================] - 176s 300ms/step - loss: 14.7095 - acc: 0.0874 - val_loss: 14.7001 - val_acc: 0.0880\n",
      "Epoch 3/10\n",
      "587/587 [==============================] - 176s 300ms/step - loss: 14.7136 - acc: 0.0871 - val_loss: 14.7158 - val_acc: 0.0870\n",
      "Epoch 4/10\n",
      "587/587 [==============================] - 176s 300ms/step - loss: 14.7095 - acc: 0.0874 - val_loss: 14.7080 - val_acc: 0.0875\n",
      "Epoch 5/10\n",
      "587/587 [==============================] - 176s 300ms/step - loss: 14.6999 - acc: 0.0880 - val_loss: 14.7158 - val_acc: 0.0870\n",
      "Epoch 6/10\n",
      "587/587 [==============================] - 176s 300ms/step - loss: 14.7177 - acc: 0.0869 - val_loss: 14.7158 - val_acc: 0.0870\n",
      "Epoch 7/10\n",
      "587/587 [==============================] - 176s 300ms/step - loss: 14.7136 - acc: 0.0871 - val_loss: 14.7237 - val_acc: 0.0865\n",
      "Epoch 8/10\n",
      "587/587 [==============================] - 176s 300ms/step - loss: 14.7081 - acc: 0.0875 - val_loss: 14.7316 - val_acc: 0.0860\n",
      "Epoch 9/10\n",
      "587/587 [==============================] - 176s 300ms/step - loss: 14.7136 - acc: 0.0871 - val_loss: 14.7001 - val_acc: 0.0880\n",
      "Epoch 10/10\n",
      "587/587 [==============================] - 176s 300ms/step - loss: 14.7067 - acc: 0.0876 - val_loss: 14.7552 - val_acc: 0.0846\n"
     ]
    }
   ],
   "source": [
    "model3 = model\n",
    "model3.compile(loss='categorical_crossentropy', optimizer=optimizers.adagrad(lr=0.1), metrics=['acc'])\n",
    "\n",
    "history3 = model3.fit_generator(\n",
    "        train_generator,\n",
    "        steps_per_epoch=(11745 // BATCH_SIZE),\n",
    "        epochs=10,\n",
    "        validation_data=val_generator,\n",
    "        validation_steps=(2066 // BATCH_SIZE) \n",
    "    )"
   ]
  },
  {
   "cell_type": "code",
   "execution_count": 12,
   "metadata": {
    "_uuid": "0dfe3d834031aa5a5658c4c69d3d9c40d60972b7"
   },
   "outputs": [
    {
     "data": {
      "image/png": "[encoded data removed]",
      "text/plain": [
       "<Figure size 432x288 with 1 Axes>"
      ]
     },
     "metadata": {
      "needs_background": "light"
     },
     "output_type": "display_data"
    },
    {
     "data": {
      "image/png": "[encoded data removed]",
      "text/plain": [
       "<Figure size 432x288 with 1 Axes>"
      ]
     },
     "metadata": {
      "needs_background": "light"
     },
     "output_type": "display_data"
    }
   ],
   "source": [
    "acc = history3.history['acc']\n",
    "val_acc = history3.history['val_acc']\n",
    "loss = history3.history['loss']\n",
    "val_loss = history3.history['val_loss']\n",
    "epochs = range(1, len(acc) + 1)\n",
    "plt.plot(epochs, acc, 'bo', label='Training acc')\n",
    "plt.plot(epochs, val_acc, 'b', label='Validation acc')\n",
    "plt.title('Training and validation accuracy')\n",
    "plt.legend()\n",
    "plt.figure()\n",
    "plt.plot(epochs, loss, 'bo', label='Training loss')\n",
    "plt.plot(epochs, val_loss, 'b', label='Validation loss')\n",
    "plt.title('Training and validation loss')\n",
    "plt.legend()\n",
    "plt.show()"
   ]
  },
  {
   "cell_type": "markdown",
   "metadata": {
    "_uuid": "c46dd207197ceea7117869529522cb0944424ede"
   },
   "source": [
    "## ep=50\n",
    "### lr = 0.001"
   ]
  },
  {
   "cell_type": "code",
   "execution_count": null,
   "metadata": {
    "_uuid": "a0587561db5b0bf33b09ee2547ce4b9abc761b22"
   },
   "outputs": [
    {
     "name": "stdout",
     "output_type": "stream",
     "text": [
      "Epoch 1/50\n"
     ]
    }
   ],
   "source": [
    "model4 = model\n",
    "model4.compile(loss='categorical_crossentropy', optimizer=optimizers.adagrad(lr=0.001), metrics=['acc'])\n",
    "\n",
    "history4 = model4.fit_generator(\n",
    "        train_generator,\n",
    "        steps_per_epoch=(11745 // BATCH_SIZE),\n",
    "        epochs=50,\n",
    "        validation_data=val_generator,\n",
    "        validation_steps=(2066 // BATCH_SIZE) \n",
    "    )"
   ]
  },
  {
   "cell_type": "code",
   "execution_count": null,
   "metadata": {
    "_uuid": "9d95d0310f4c21a05526102d77c81135ecdfa2a8"
   },
   "outputs": [],
   "source": [
    "acc = history4.history['acc']\n",
    "val_acc = history4.history['val_acc']\n",
    "loss = history4.history['loss']\n",
    "val_loss = history4.history['val_loss']\n",
    "epochs = range(1, len(acc) + 1)\n",
    "plt.plot(epochs, acc, 'bo', label='Training acc')\n",
    "plt.plot(epochs, val_acc, 'b', label='Validation acc')\n",
    "plt.title('Training and validation accuracy')\n",
    "plt.legend()\n",
    "plt.figure()\n",
    "plt.plot(epochs, loss, 'bo', label='Training loss')\n",
    "plt.plot(epochs, val_loss, 'b', label='Validation loss')\n",
    "plt.title('Training and validation loss')\n",
    "plt.legend()\n",
    "plt.show()"
   ]
  },
  {
   "cell_type": "markdown",
   "metadata": {
    "_uuid": "24017e5075ea814b23aefcae474528015e6d9e75"
   },
   "source": [
    "## ep=50\n",
    "### lr = 0.01"
   ]
  },
  {
   "cell_type": "code",
   "execution_count": null,
   "metadata": {
    "_uuid": "d42263654d719dd8a2818a2b384193e935647442"
   },
   "outputs": [],
   "source": [
    "model5 = model\n",
    "model5.compile(loss='categorical_crossentropy', optimizer=optimizers.adagrad(lr=0.01), metrics=['acc'])\n",
    "\n",
    "history5 = model5.fit_generator(\n",
    "        train_generator,\n",
    "        steps_per_epoch=(11745 // BATCH_SIZE),\n",
    "        epochs=50,\n",
    "        validation_data=val_generator,\n",
    "        validation_steps=(2066 // BATCH_SIZE) \n",
    "    )"
   ]
  },
  {
   "cell_type": "code",
   "execution_count": null,
   "metadata": {
    "_uuid": "b5858fc62656762cb1ce8347edb03556fc456cc2"
   },
   "outputs": [],
   "source": [
    "acc = history5.history['acc']\n",
    "val_acc = history5.history['val_acc']\n",
    "loss = history5.history['loss']\n",
    "val_loss = history5.history['val_loss']\n",
    "epochs = range(1, len(acc) + 1)\n",
    "plt.plot(epochs, acc, 'bo', label='Training acc')\n",
    "plt.plot(epochs, val_acc, 'b', label='Validation acc')\n",
    "plt.title('Training and validation accuracy')\n",
    "plt.legend()\n",
    "plt.figure()\n",
    "plt.plot(epochs, loss, 'bo', label='Training loss')\n",
    "plt.plot(epochs, val_loss, 'b', label='Validation loss')\n",
    "plt.title('Training and validation loss')\n",
    "plt.legend()\n",
    "plt.show()"
   ]
  },
  {
   "cell_type": "markdown",
   "metadata": {
    "_uuid": "798859459e1a50f9416113416e5addfaad0800e4"
   },
   "source": [
    "## ep=50\n",
    "### lr = 0.1"
   ]
  },
  {
   "cell_type": "code",
   "execution_count": null,
   "metadata": {
    "_uuid": "97b360a795ba8fdf112ecdc83114818e5daf0e70"
   },
   "outputs": [],
   "source": [
    "model6 = model\n",
    "model6.compile(loss='categorical_crossentropy', optimizer=optimizers.adagrad(lr=0.1), metrics=['acc'])\n",
    "\n",
    "history6 = model6.fit_generator(\n",
    "        train_generator,\n",
    "        steps_per_epoch=(11745 // BATCH_SIZE),\n",
    "        epochs=50,\n",
    "        validation_data=val_generator,\n",
    "        validation_steps=(2066 // BATCH_SIZE) \n",
    "    )"
   ]
  },
  {
   "cell_type": "code",
   "execution_count": null,
   "metadata": {
    "_uuid": "22188adb1be1c55f79710c8f38d86483501ab603"
   },
   "outputs": [],
   "source": [
    "acc = history6.history['acc']\n",
    "val_acc = history6.history['val_acc']\n",
    "loss = history6.history['loss']\n",
    "val_loss = history6.history['val_loss']\n",
    "epochs = range(1, len(acc) + 1)\n",
    "plt.plot(epochs, acc, 'bo', label='Training acc')\n",
    "plt.plot(epochs, val_acc, 'b', label='Validation acc')\n",
    "plt.title('Training and validation accuracy')\n",
    "plt.legend()\n",
    "plt.figure()\n",
    "plt.plot(epochs, loss, 'bo', label='Training loss')\n",
    "plt.plot(epochs, val_loss, 'b', label='Validation loss')\n",
    "plt.title('Training and validation loss')\n",
    "plt.legend()\n",
    "plt.show()"
   ]
  },
  {
   "cell_type": "markdown",
   "metadata": {
    "_uuid": "a1bf8f2207bff730613f4f672011674e0acf052a"
   },
   "source": [
    "## ep = 100\n",
    "### lr = 0.001"
   ]
  },
  {
   "cell_type": "code",
   "execution_count": null,
   "metadata": {
    "_uuid": "7cc48b6e62e099132a0fed25aecea4bfee737120"
   },
   "outputs": [],
   "source": [
    "model7 = model\n",
    "model7.compile(loss='categorical_crossentropy', optimizer=optimizers.adagrad(lr=0.001), metrics=['acc'])\n",
    "\n",
    "history7 = model7.fit_generator(\n",
    "        train_generator,\n",
    "        steps_per_epoch=(11745 // BATCH_SIZE),\n",
    "        epochs=100,\n",
    "        validation_data=val_generator,\n",
    "        validation_steps=(2066 // BATCH_SIZE) \n",
    "    )"
   ]
  },
  {
   "cell_type": "code",
   "execution_count": null,
   "metadata": {
    "_uuid": "414054c9e8701143a53009f0c68561b277d619f4"
   },
   "outputs": [],
   "source": [
    "acc = history7.history['acc']\n",
    "val_acc = history7.history['val_acc']\n",
    "loss = history7.history['loss']\n",
    "val_loss = history7.history['val_loss']\n",
    "epochs = range(1, len(acc) + 1)\n",
    "plt.plot(epochs, acc, 'bo', label='Training acc')\n",
    "plt.plot(epochs, val_acc, 'b', label='Validation acc')\n",
    "plt.title('Training and validation accuracy')\n",
    "plt.legend()\n",
    "plt.figure()\n",
    "plt.plot(epochs, loss, 'bo', label='Training loss')\n",
    "plt.plot(epochs, val_loss, 'b', label='Validation loss')\n",
    "plt.title('Training and validation loss')\n",
    "plt.legend()\n",
    "plt.show()"
   ]
  },
  {
   "cell_type": "markdown",
   "metadata": {
    "_uuid": "380eb8807c264de3f3eb6b8fa6a86e569f5971d0"
   },
   "source": [
    "## ep = 100\n",
    "### lr = 0.01"
   ]
  },
  {
   "cell_type": "code",
   "execution_count": null,
   "metadata": {
    "_uuid": "9d2858e15dbadb0e4d3080cd90ef6af8b1bb3ce3"
   },
   "outputs": [],
   "source": [
    "model8 = model\n",
    "model8.compile(loss='categorical_crossentropy', optimizer=optimizers.adagrad(lr=0.01), metrics=['acc'])\n",
    "\n",
    "history8 = model8.fit_generator(\n",
    "        train_generator,\n",
    "        steps_per_epoch=(11745 // BATCH_SIZE),\n",
    "        epochs=10,\n",
    "        validation_data=val_generator,\n",
    "        validation_steps=(2066 // BATCH_SIZE) \n",
    "    )"
   ]
  },
  {
   "cell_type": "code",
   "execution_count": null,
   "metadata": {
    "_uuid": "a9c3fd53ccdbd7364ff60ca4eff7f77dc6367972"
   },
   "outputs": [],
   "source": [
    "acc = history8.history['acc']\n",
    "val_acc = history8.history['val_acc']\n",
    "loss = history8.history['loss']\n",
    "val_loss = history8.history['val_loss']\n",
    "epochs = range(1, len(acc) + 1)\n",
    "plt.plot(epochs, acc, 'bo', label='Training acc')\n",
    "plt.plot(epochs, val_acc, 'b', label='Validation acc')\n",
    "plt.title('Training and validation accuracy')\n",
    "plt.legend()\n",
    "plt.figure()\n",
    "plt.plot(epochs, loss, 'bo', label='Training loss')\n",
    "plt.plot(epochs, val_loss, 'b', label='Validation loss')\n",
    "plt.title('Training and validation loss')\n",
    "plt.legend()\n",
    "plt.show()"
   ]
  },
  {
   "cell_type": "markdown",
   "metadata": {
    "_uuid": "a59192d66620735cf7d76faa38132fd1e6bb321d"
   },
   "source": [
    "## ep = 100\n",
    "### lr = 0.1"
   ]
  },
  {
   "cell_type": "code",
   "execution_count": null,
   "metadata": {
    "_uuid": "e95047c2bd77015092da7acea6c1ca10d4de944e"
   },
   "outputs": [],
   "source": [
    "model9 = model\n",
    "model9.compile(loss='categorical_crossentropy', optimizer=optimizers.adagrad(lr=0.1), metrics=['acc'])\n",
    "\n",
    "history9 = model9.fit_generator(\n",
    "        train_generator,\n",
    "        steps_per_epoch=(11745 // BATCH_SIZE),\n",
    "        epochs=100,\n",
    "        validation_data=val_generator,\n",
    "        validation_steps=(2066 // BATCH_SIZE) \n",
    "    )"
   ]
  },
  {
   "cell_type": "code",
   "execution_count": null,
   "metadata": {
    "_uuid": "efe014a477d6ca0cc593502a09daa9ffb39cf5e9"
   },
   "outputs": [],
   "source": [
    "acc = history9.history['acc']\n",
    "val_acc = history9.history['val_acc']\n",
    "loss = history9.history['loss']\n",
    "val_loss = history9.history['val_loss']\n",
    "epochs = range(1, len(acc) + 1)\n",
    "plt.plot(epochs, acc, 'bo', label='Training acc')\n",
    "plt.plot(epochs, val_acc, 'b', label='Validation acc')\n",
    "plt.title('Training and validation accuracy')\n",
    "plt.legend()\n",
    "plt.figure()\n",
    "plt.plot(epochs, loss, 'bo', label='Training loss')\n",
    "plt.plot(epochs, val_loss, 'b', label='Validation loss')\n",
    "plt.title('Training and validation loss')\n",
    "plt.legend()\n",
    "plt.show()"
   ]
  },
  {
   "cell_type": "code",
   "execution_count": null,
   "metadata": {
    "_uuid": "43dcec439a3b6fb729edea74ed4632f0188e91b6"
   },
   "outputs": [],
   "source": []
  }
 ],
 "metadata": {
  "kernelspec": {
   "display_name": "Python 3",
   "language": "python",
   "name": "python3"
  },
  "language_info": {
   "codemirror_mode": {
    "name": "ipython",
    "version": 3
   },
   "file_extension": ".py",
   "mimetype": "text/x-python",
   "name": "python",
   "nbconvert_exporter": "python",
   "pygments_lexer": "ipython3",
   "version": "3.6.5"
  }
 },
 "nbformat": 4,
 "nbformat_minor": 1
}
