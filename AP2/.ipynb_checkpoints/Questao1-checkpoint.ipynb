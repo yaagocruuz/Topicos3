{
 "cells": [
  {
   "cell_type": "code",
   "execution_count": 1,
   "metadata": {
    "_uuid": "d2f9ae02c53474ae8b59680263a79cfa1543626f"
   },
   "outputs": [
    {
     "name": "stderr",
     "output_type": "stream",
     "text": [
      "/home/yaagocruuz/anaconda3/lib/python3.6/site-packages/h5py/__init__.py:36: FutureWarning: Conversion of the second argument of issubdtype from `float` to `np.floating` is deprecated. In future, it will be treated as `np.float64 == np.dtype(float).type`.\n",
      "  from ._conv import register_converters as _register_converters\n",
      "Using TensorFlow backend.\n"
     ]
    },
    {
     "name": "stdout",
     "output_type": "stream",
     "text": [
      "[nltk_data] Downloading package stopwords to\n",
      "[nltk_data]     /home/yaagocruuz/nltk_data...\n",
      "[nltk_data]   Package stopwords is already up-to-date!\n"
     ]
    }
   ],
   "source": [
    "import os\n",
    "import numpy as np\n",
    "import pandas as pd \n",
    "from keras.preprocessing.text import Tokenizer\n",
    "from keras.preprocessing.sequence import pad_sequences\n",
    "import re\n",
    "import nltk\n",
    "from nltk.corpus import stopwords\n",
    "nltk.download('stopwords')\n",
    "from nltk.stem import PorterStemmer\n",
    "from sklearn.feature_extraction.text import CountVectorizer, TfidfTransformer\n",
    "from sklearn.model_selection import train_test_split\n",
    "from sklearn.neural_network import MLPClassifier\n",
    "from sklearn import preprocessing\n",
    "from keras.models import Sequential\n",
    "from keras.layers import Embedding, Flatten, Dense, Bidirectional\n",
    "import matplotlib.pyplot as plt\n",
    "from keras.layers import LSTM\n",
    "from sklearn import metrics"
   ]
  },
  {
   "cell_type": "code",
   "execution_count": 2,
   "metadata": {
    "_uuid": "a0b976f23078c358f200f752346ab68901ba6afc"
   },
   "outputs": [],
   "source": [
    "df = pd.read_csv('Womens Clothing E-Commerce Reviews.csv')"
   ]
  },
  {
   "cell_type": "code",
   "execution_count": 3,
   "metadata": {
    "_uuid": "8a8e9092c81d6f98cdff269c9d1ac3f59a4e2a77"
   },
   "outputs": [
    {
     "data": {
      "text/plain": [
       "23486"
      ]
     },
     "execution_count": 3,
     "metadata": {},
     "output_type": "execute_result"
    }
   ],
   "source": [
    "#quantidade de textos\n",
    "len(df)"
   ]
  },
  {
   "cell_type": "code",
   "execution_count": 4,
   "metadata": {
    "_uuid": "16ebd6b6d3af09e0b85419c958c2833ab4ab4b4e"
   },
   "outputs": [
    {
     "data": {
      "text/html": [
       "<div>\n",
       "<style scoped>\n",
       "    .dataframe tbody tr th:only-of-type {\n",
       "        vertical-align: middle;\n",
       "    }\n",
       "\n",
       "    .dataframe tbody tr th {\n",
       "        vertical-align: top;\n",
       "    }\n",
       "\n",
       "    .dataframe thead th {\n",
       "        text-align: right;\n",
       "    }\n",
       "</style>\n",
       "<table border=\"1\" class=\"dataframe\">\n",
       "  <thead>\n",
       "    <tr style=\"text-align: right;\">\n",
       "      <th></th>\n",
       "      <th>Review Text</th>\n",
       "      <th>Rating</th>\n",
       "    </tr>\n",
       "  </thead>\n",
       "  <tbody>\n",
       "    <tr>\n",
       "      <th>0</th>\n",
       "      <td>Absolutely wonderful - silky and sexy and comf...</td>\n",
       "      <td>4</td>\n",
       "    </tr>\n",
       "    <tr>\n",
       "      <th>1</th>\n",
       "      <td>Love this dress!  it's sooo pretty.  i happene...</td>\n",
       "      <td>5</td>\n",
       "    </tr>\n",
       "    <tr>\n",
       "      <th>2</th>\n",
       "      <td>I had such high hopes for this dress and reall...</td>\n",
       "      <td>3</td>\n",
       "    </tr>\n",
       "    <tr>\n",
       "      <th>3</th>\n",
       "      <td>I love, love, love this jumpsuit. it's fun, fl...</td>\n",
       "      <td>5</td>\n",
       "    </tr>\n",
       "    <tr>\n",
       "      <th>4</th>\n",
       "      <td>This shirt is very flattering to all due to th...</td>\n",
       "      <td>5</td>\n",
       "    </tr>\n",
       "  </tbody>\n",
       "</table>\n",
       "</div>"
      ],
      "text/plain": [
       "                                         Review Text  Rating\n",
       "0  Absolutely wonderful - silky and sexy and comf...       4\n",
       "1  Love this dress!  it's sooo pretty.  i happene...       5\n",
       "2  I had such high hopes for this dress and reall...       3\n",
       "3  I love, love, love this jumpsuit. it's fun, fl...       5\n",
       "4  This shirt is very flattering to all due to th...       5"
      ]
     },
     "execution_count": 4,
     "metadata": {},
     "output_type": "execute_result"
    }
   ],
   "source": [
    "df = df[['Review Text','Rating']]\n",
    "df.head()"
   ]
  },
  {
   "cell_type": "code",
   "execution_count": 5,
   "metadata": {
    "_uuid": "a3c5e1044eb29074461b8d66f9cf7b8027806af0"
   },
   "outputs": [],
   "source": [
    "df = df.dropna(how='any',axis=0)"
   ]
  },
  {
   "cell_type": "code",
   "execution_count": 6,
   "metadata": {
    "_cell_guid": "79c7e3d0-c299-4dcb-8224-4455121ee9b0",
    "_uuid": "d629ff2d2480ee46fbb7e2d37f6b5fab8052498a"
   },
   "outputs": [],
   "source": [
    "X = df.iloc[:,0].values\n",
    "y = df.iloc[:,1].values"
   ]
  },
  {
   "cell_type": "code",
   "execution_count": 7,
   "metadata": {
    "_uuid": "ea975b8a045a683ebc90e3b691a2298957f2049d"
   },
   "outputs": [
    {
     "data": {
      "text/plain": [
       "'Love this dress!  it\\'s sooo pretty.  i happened to find it in a store, and i\\'m glad i did bc i never would have ordered it online bc it\\'s petite.  i bought a petite and am 5\\'8\".  i love the length on me- hits just a little below the knee.  would definitely be a true midi on someone who is truly petite.'"
      ]
     },
     "execution_count": 7,
     "metadata": {},
     "output_type": "execute_result"
    }
   ],
   "source": [
    "X[1]"
   ]
  },
  {
   "cell_type": "code",
   "execution_count": 8,
   "metadata": {
    "_uuid": "b7adf1bbacbc9ffe151990feae1c941fff8f7dbb"
   },
   "outputs": [
    {
     "data": {
      "text/plain": [
       "5"
      ]
     },
     "execution_count": 8,
     "metadata": {},
     "output_type": "execute_result"
    }
   ],
   "source": [
    "y[1]"
   ]
  },
  {
   "cell_type": "code",
   "execution_count": 9,
   "metadata": {
    "_uuid": "bfa60837a6dacc11d60ce410663cacccd8999ac7"
   },
   "outputs": [],
   "source": [
    "le = preprocessing.LabelEncoder()\n",
    "y = le.fit_transform(y)"
   ]
  },
  {
   "cell_type": "code",
   "execution_count": 10,
   "metadata": {
    "_uuid": "8f4ab552bf69c10da23964b79b188dd827ae051c"
   },
   "outputs": [
    {
     "data": {
      "text/plain": [
       "array([[  0,   0,   0, ..., 662,   3,  68],\n",
       "       [  0,   0,   0, ...,   6, 772,  95],\n",
       "       [  0,   0,   0, ..., 469,   5, 688],\n",
       "       ...,\n",
       "       [  0,   0,   0, ...,  24, 166,  34],\n",
       "       [  0,   0,   0, ..., 129, 206, 185],\n",
       "       [  0,   0,   0, ...,  35, 433, 205]], dtype=int32)"
      ]
     },
     "execution_count": 10,
     "metadata": {},
     "output_type": "execute_result"
    }
   ],
   "source": [
    "max_words = 1000\n",
    "max_len = 200\n",
    "tok = Tokenizer(num_words=max_words)\n",
    "tok.fit_on_texts(X)\n",
    "sequences = tok.texts_to_sequences(X)\n",
    "sequences_matrix = pad_sequences(sequences,maxlen=max_len)\n",
    "sequences_matrix"
   ]
  },
  {
   "cell_type": "code",
   "execution_count": 11,
   "metadata": {
    "_uuid": "c57ea12a592c870f00894fdeec43dece11da0098"
   },
   "outputs": [],
   "source": [
    "X_total, X_test, y_total, y_test = train_test_split(sequences_matrix, y, \n",
    "                                                    test_size=0.1, random_state=42)"
   ]
  },
  {
   "cell_type": "code",
   "execution_count": 12,
   "metadata": {
    "_uuid": "ff70b7183ac0347fdb028fbab246cdaec90047af"
   },
   "outputs": [],
   "source": [
    "X_train, X_val, y_train, y_val = train_test_split(X_total, y_total, \n",
    "                                                    test_size=0.1, random_state=42)"
   ]
  },
  {
   "cell_type": "code",
   "execution_count": 13,
   "metadata": {
    "_uuid": "26dfc16e03d925fc5e81f0ea34b67171b8e3b556"
   },
   "outputs": [
    {
     "name": "stdout",
     "output_type": "stream",
     "text": [
      "_________________________________________________________________\n",
      "Layer (type)                 Output Shape              Param #   \n",
      "=================================================================\n",
      "embedding_1 (Embedding)      (None, None, 32)          32000     \n",
      "_________________________________________________________________\n",
      "lstm_1 (LSTM)                (None, 32)                8320      \n",
      "_________________________________________________________________\n",
      "dense_1 (Dense)              (None, 32)                1056      \n",
      "_________________________________________________________________\n",
      "dense_2 (Dense)              (None, 5)                 165       \n",
      "=================================================================\n",
      "Total params: 41,541\n",
      "Trainable params: 41,541\n",
      "Non-trainable params: 0\n",
      "_________________________________________________________________\n"
     ]
    }
   ],
   "source": [
    "model = Sequential()\n",
    "model.add(Embedding(max_words, 32))\n",
    "model.add(LSTM(32, dropout=0.3))\n",
    "model.add(Dense(32, activation=\"relu\"))\n",
    "model.add(Dense(5, activation=\"softmax\"))\n",
    "model.summary()"
   ]
  },
  {
   "cell_type": "code",
   "execution_count": 14,
   "metadata": {
    "_uuid": "892994fec71f3ff8800d0736da96daa07e710577"
   },
   "outputs": [
    {
     "name": "stdout",
     "output_type": "stream",
     "text": [
      "Train on 18338 samples, validate on 2038 samples\n",
      "Epoch 1/20\n",
      "18338/18338 [==============================] - 63s 3ms/step - loss: 1.1222 - acc: 0.5590 - val_loss: 0.9858 - val_acc: 0.5864\n",
      "Epoch 2/20\n",
      "18338/18338 [==============================] - 75s 4ms/step - loss: 0.9482 - acc: 0.6106 - val_loss: 0.9661 - val_acc: 0.5962\n",
      "Epoch 3/20\n",
      "18338/18338 [==============================] - 58s 3ms/step - loss: 0.9058 - acc: 0.6223 - val_loss: 0.9274 - val_acc: 0.6060\n",
      "Epoch 4/20\n",
      "18338/18338 [==============================] - 60s 3ms/step - loss: 0.8919 - acc: 0.6253 - val_loss: 0.9289 - val_acc: 0.6055\n",
      "Epoch 5/20\n",
      "18338/18338 [==============================] - 58s 3ms/step - loss: 0.8770 - acc: 0.6315 - val_loss: 0.9144 - val_acc: 0.5937\n",
      "Epoch 6/20\n",
      "18338/18338 [==============================] - 57s 3ms/step - loss: 0.8642 - acc: 0.6356 - val_loss: 0.9034 - val_acc: 0.6114\n",
      "Epoch 7/20\n",
      "18338/18338 [==============================] - 60s 3ms/step - loss: 0.8451 - acc: 0.6431 - val_loss: 0.9130 - val_acc: 0.6168\n",
      "Epoch 8/20\n",
      "18338/18338 [==============================] - 57s 3ms/step - loss: 0.8312 - acc: 0.6514 - val_loss: 0.8945 - val_acc: 0.6217\n",
      "Epoch 9/20\n",
      "18338/18338 [==============================] - 58s 3ms/step - loss: 0.8168 - acc: 0.6559 - val_loss: 0.8909 - val_acc: 0.6374\n",
      "Epoch 10/20\n",
      "18338/18338 [==============================] - 58s 3ms/step - loss: 0.8030 - acc: 0.6614 - val_loss: 1.0029 - val_acc: 0.6197\n",
      "Epoch 11/20\n",
      "18338/18338 [==============================] - 57s 3ms/step - loss: 0.7935 - acc: 0.6663 - val_loss: 0.9154 - val_acc: 0.6389\n",
      "Epoch 12/20\n",
      "18338/18338 [==============================] - 57s 3ms/step - loss: 0.7841 - acc: 0.6688 - val_loss: 0.8934 - val_acc: 0.6403\n",
      "Epoch 13/20\n",
      "18338/18338 [==============================] - 58s 3ms/step - loss: 0.7794 - acc: 0.6725 - val_loss: 0.9095 - val_acc: 0.6330\n",
      "Epoch 14/20\n",
      "18338/18338 [==============================] - 58s 3ms/step - loss: 0.7722 - acc: 0.6764 - val_loss: 0.8814 - val_acc: 0.6364\n",
      "Epoch 15/20\n",
      "18338/18338 [==============================] - 58s 3ms/step - loss: 0.7699 - acc: 0.6764 - val_loss: 0.9244 - val_acc: 0.6423\n",
      "Epoch 16/20\n",
      "18338/18338 [==============================] - 58s 3ms/step - loss: 0.7621 - acc: 0.6798 - val_loss: 0.9016 - val_acc: 0.6384\n",
      "Epoch 17/20\n",
      "18338/18338 [==============================] - 58s 3ms/step - loss: 0.7586 - acc: 0.6832 - val_loss: 0.8931 - val_acc: 0.6369\n",
      "Epoch 18/20\n",
      "18338/18338 [==============================] - 58s 3ms/step - loss: 0.7580 - acc: 0.6822 - val_loss: 0.9368 - val_acc: 0.6320\n",
      "Epoch 19/20\n",
      "18338/18338 [==============================] - 58s 3ms/step - loss: 0.7526 - acc: 0.6852 - val_loss: 0.9523 - val_acc: 0.6320\n",
      "Epoch 20/20\n",
      "18338/18338 [==============================] - 58s 3ms/step - loss: 0.7471 - acc: 0.6860 - val_loss: 0.9065 - val_acc: 0.6344\n"
     ]
    }
   ],
   "source": [
    "model.compile(optimizer='rmsprop',loss='sparse_categorical_crossentropy',metrics=['acc'])\n",
    "history = model.fit(X_train, y_train, epochs=20, \n",
    "                    batch_size=128, validation_data=(X_val, y_val))"
   ]
  },
  {
   "cell_type": "code",
   "execution_count": 15,
   "metadata": {},
   "outputs": [
    {
     "data": {
      "image/png": "[encoded data removed]",
      "text/plain": [
       "<Figure size 432x288 with 1 Axes>"
      ]
     },
     "metadata": {},
     "output_type": "display_data"
    },
    {
     "data": {
      "image/png": "[encoded data removed]",
      "text/plain": [
       "<Figure size 432x288 with 1 Axes>"
      ]
     },
     "metadata": {},
     "output_type": "display_data"
    }
   ],
   "source": [
    "acc = history.history['acc']\n",
    "val_acc = history.history['val_acc']\n",
    "loss = history.history['loss']\n",
    "val_loss = history.history['val_loss']\n",
    "epochs = range(1, len(acc) + 1)\n",
    "plt.plot(epochs, acc, 'bo', label='Training acc')\n",
    "plt.plot(epochs, val_acc, 'b', label='Validation acc')\n",
    "plt.title('Training and validation accuracy')\n",
    "plt.legend()\n",
    "plt.figure()\n",
    "plt.plot(epochs, loss, 'bo', label='Training loss')\n",
    "plt.plot(epochs, val_loss, 'b', label='Validation loss')\n",
    "plt.title('Training and validation loss')\n",
    "plt.legend()\n",
    "plt.show()"
   ]
  },
  {
   "cell_type": "code",
   "execution_count": 16,
   "metadata": {},
   "outputs": [
    {
     "name": "stdout",
     "output_type": "stream",
     "text": [
      "2265/2265 [==============================] - 1s 548us/step\n"
     ]
    },
    {
     "data": {
      "text/plain": [
       "(0.8991278994951817, 0.6326710817566508)"
      ]
     },
     "execution_count": 16,
     "metadata": {},
     "output_type": "execute_result"
    }
   ],
   "source": [
    "loss, acc = model.evaluate(X_test, y_test)\n",
    "loss, acc"
   ]
  },
  {
   "cell_type": "markdown",
   "metadata": {},
   "source": [
    "# questao 1 e"
   ]
  },
  {
   "cell_type": "code",
   "execution_count": 17,
   "metadata": {},
   "outputs": [
    {
     "data": {
      "text/plain": [
       "array([[  0,   0,   0, ..., 662,   3,  68],\n",
       "       [  0,   0,   0, ...,   6, 772,  95],\n",
       "       [  0,   0,   0, ..., 469,   5, 688],\n",
       "       ...,\n",
       "       [  0,   0,   0, ...,  24, 166,  34],\n",
       "       [  0,   0,   0, ..., 129, 206, 185],\n",
       "       [  0,   0,   0, ...,  35, 433, 205]], dtype=int32)"
      ]
     },
     "execution_count": 17,
     "metadata": {},
     "output_type": "execute_result"
    }
   ],
   "source": [
    "max_words = 1000\n",
    "max_len = 200 #dobrar o numero de 200 pra 400\n",
    "tok = Tokenizer(num_words=max_words)\n",
    "tok.fit_on_texts(X)\n",
    "sequences = tok.texts_to_sequences(X)\n",
    "sequences_matrix = pad_sequences(sequences,maxlen=max_len)\n",
    "sequences_matrix"
   ]
  },
  {
   "cell_type": "code",
   "execution_count": 18,
   "metadata": {},
   "outputs": [],
   "source": [
    "X_total, X_test, y_total, y_test = train_test_split(sequences_matrix, y, \n",
    "                                                    test_size=0.1, random_state=42)"
   ]
  },
  {
   "cell_type": "code",
   "execution_count": 19,
   "metadata": {},
   "outputs": [],
   "source": [
    "X_train, X_val, y_train, y_val = train_test_split(X_total, y_total, \n",
    "                                                    test_size=0.1, random_state=42)"
   ]
  },
  {
   "cell_type": "code",
   "execution_count": 20,
   "metadata": {},
   "outputs": [
    {
     "name": "stdout",
     "output_type": "stream",
     "text": [
      "_________________________________________________________________\n",
      "Layer (type)                 Output Shape              Param #   \n",
      "=================================================================\n",
      "embedding_2 (Embedding)      (None, None, 32)          32000     \n",
      "_________________________________________________________________\n",
      "lstm_2 (LSTM)                (None, 64)                24832     \n",
      "_________________________________________________________________\n",
      "dense_3 (Dense)              (None, 32)                2080      \n",
      "_________________________________________________________________\n",
      "dense_4 (Dense)              (None, 5)                 165       \n",
      "=================================================================\n",
      "Total params: 59,077\n",
      "Trainable params: 59,077\n",
      "Non-trainable params: 0\n",
      "_________________________________________________________________\n"
     ]
    }
   ],
   "source": [
    "model = Sequential()\n",
    "model.add(Embedding(max_words, 32))\n",
    "model.add(LSTM(64, dropout=0.3))\n",
    "model.add(Dense(32, activation=\"relu\"))\n",
    "model.add(Dense(5, activation=\"softmax\"))\n",
    "model.summary()"
   ]
  },
  {
   "cell_type": "code",
   "execution_count": 21,
   "metadata": {},
   "outputs": [
    {
     "name": "stdout",
     "output_type": "stream",
     "text": [
      "Train on 18338 samples, validate on 2038 samples\n",
      "Epoch 1/20\n",
      "18338/18338 [==============================] - 70s 4ms/step - loss: 1.1118 - acc: 0.5739 - val_loss: 0.9947 - val_acc: 0.5815\n",
      "Epoch 2/20\n",
      "18338/18338 [==============================] - 69s 4ms/step - loss: 0.9431 - acc: 0.6130 - val_loss: 0.9659 - val_acc: 0.5986\n",
      "Epoch 3/20\n",
      "18338/18338 [==============================] - 64s 4ms/step - loss: 0.9059 - acc: 0.6246 - val_loss: 0.9220 - val_acc: 0.6060\n",
      "Epoch 4/20\n",
      "18338/18338 [==============================] - 64s 4ms/step - loss: 0.8885 - acc: 0.6278 - val_loss: 0.9414 - val_acc: 0.5937\n",
      "Epoch 5/20\n",
      "18338/18338 [==============================] - 64s 3ms/step - loss: 0.8743 - acc: 0.6321 - val_loss: 0.9147 - val_acc: 0.6055\n",
      "Epoch 6/20\n",
      "18338/18338 [==============================] - 64s 4ms/step - loss: 0.8552 - acc: 0.6340 - val_loss: 0.8870 - val_acc: 0.6237\n",
      "Epoch 7/20\n",
      "18338/18338 [==============================] - 64s 4ms/step - loss: 0.8368 - acc: 0.6447 - val_loss: 0.9004 - val_acc: 0.6315\n",
      "Epoch 8/20\n",
      "18338/18338 [==============================] - 80s 4ms/step - loss: 0.8188 - acc: 0.6530 - val_loss: 0.8855 - val_acc: 0.6384\n",
      "Epoch 9/20\n",
      "18338/18338 [==============================] - 67s 4ms/step - loss: 0.8098 - acc: 0.6567 - val_loss: 0.8795 - val_acc: 0.6227\n",
      "Epoch 10/20\n",
      "18338/18338 [==============================] - 64s 3ms/step - loss: 0.7998 - acc: 0.6603 - val_loss: 0.8805 - val_acc: 0.6384\n",
      "Epoch 11/20\n",
      "18338/18338 [==============================] - 79s 4ms/step - loss: 0.7918 - acc: 0.6670 - val_loss: 0.9004 - val_acc: 0.6251\n",
      "Epoch 12/20\n",
      "18338/18338 [==============================] - 68s 4ms/step - loss: 0.7834 - acc: 0.6704 - val_loss: 0.9093 - val_acc: 0.6325\n",
      "Epoch 13/20\n",
      "18338/18338 [==============================] - 62s 3ms/step - loss: 0.7768 - acc: 0.6704 - val_loss: 0.9132 - val_acc: 0.6276\n",
      "Epoch 14/20\n",
      "18338/18338 [==============================] - 62s 3ms/step - loss: 0.7741 - acc: 0.6740 - val_loss: 0.9043 - val_acc: 0.6379\n",
      "Epoch 15/20\n",
      "18338/18338 [==============================] - 62s 3ms/step - loss: 0.7634 - acc: 0.6803 - val_loss: 0.8806 - val_acc: 0.6354\n",
      "Epoch 16/20\n",
      "18338/18338 [==============================] - 62s 3ms/step - loss: 0.7601 - acc: 0.6803 - val_loss: 0.8836 - val_acc: 0.6320\n",
      "Epoch 17/20\n",
      "18338/18338 [==============================] - 81s 4ms/step - loss: 0.7545 - acc: 0.6827 - val_loss: 0.9079 - val_acc: 0.6379\n",
      "Epoch 18/20\n",
      "18338/18338 [==============================] - 77s 4ms/step - loss: 0.7478 - acc: 0.6860 - val_loss: 0.9045 - val_acc: 0.6384\n",
      "Epoch 19/20\n",
      "18338/18338 [==============================] - 101s 6ms/step - loss: 0.7423 - acc: 0.6874 - val_loss: 1.0414 - val_acc: 0.6354\n",
      "Epoch 20/20\n",
      "18338/18338 [==============================] - 67s 4ms/step - loss: 0.7378 - acc: 0.6928 - val_loss: 0.9130 - val_acc: 0.6305\n"
     ]
    }
   ],
   "source": [
    "model.compile(optimizer='rmsprop',\n",
    "loss='sparse_categorical_crossentropy',\n",
    "metrics=['acc'])\n",
    "\n",
    "history = model.fit(X_train, y_train,\n",
    "epochs=20,\n",
    "batch_size=128,\n",
    "validation_data=(X_val, y_val))"
   ]
  },
  {
   "cell_type": "code",
   "execution_count": 22,
   "metadata": {},
   "outputs": [
    {
     "data": {
      "image/png": "[encoded data removed]",
      "text/plain": [
       "<Figure size 432x288 with 1 Axes>"
      ]
     },
     "metadata": {},
     "output_type": "display_data"
    },
    {
     "data": {
      "image/png": "[encoded data removed]",
      "text/plain": [
       "<Figure size 432x288 with 1 Axes>"
      ]
     },
     "metadata": {},
     "output_type": "display_data"
    }
   ],
   "source": [
    "acc = history.history['acc']\n",
    "val_acc = history.history['val_acc']\n",
    "loss = history.history['loss']\n",
    "val_loss = history.history['val_loss']\n",
    "epochs = range(1, len(acc) + 1)\n",
    "plt.plot(epochs, acc, 'bo', label='Training acc')\n",
    "plt.plot(epochs, val_acc, 'b', label='Validation acc')\n",
    "plt.title('Training and validation accuracy')\n",
    "plt.legend()\n",
    "plt.figure()\n",
    "plt.plot(epochs, loss, 'bo', label='Training loss')\n",
    "plt.plot(epochs, val_loss, 'b', label='Validation loss')\n",
    "plt.title('Training and validation loss')\n",
    "plt.legend()\n",
    "plt.show()"
   ]
  },
  {
   "cell_type": "code",
   "execution_count": 23,
   "metadata": {},
   "outputs": [
    {
     "name": "stdout",
     "output_type": "stream",
     "text": [
      "2265/2265 [==============================] - 3s 1ms/step\n"
     ]
    },
    {
     "data": {
      "text/plain": [
       "(0.8925093954762087, 0.6415011036474974)"
      ]
     },
     "execution_count": 23,
     "metadata": {},
     "output_type": "execute_result"
    }
   ],
   "source": [
    "loss, acc = model.evaluate(X_test, y_test)\n",
    "loss, acc"
   ]
  },
  {
   "cell_type": "code",
   "execution_count": 24,
   "metadata": {},
   "outputs": [
    {
     "name": "stdout",
     "output_type": "stream",
     "text": [
      "_________________________________________________________________\n",
      "Layer (type)                 Output Shape              Param #   \n",
      "=================================================================\n",
      "embedding_3 (Embedding)      (None, None, 32)          32000     \n",
      "_________________________________________________________________\n",
      "lstm_3 (LSTM)                (None, 16)                3136      \n",
      "_________________________________________________________________\n",
      "dense_5 (Dense)              (None, 32)                544       \n",
      "_________________________________________________________________\n",
      "dense_6 (Dense)              (None, 5)                 165       \n",
      "=================================================================\n",
      "Total params: 35,845\n",
      "Trainable params: 35,845\n",
      "Non-trainable params: 0\n",
      "_________________________________________________________________\n"
     ]
    }
   ],
   "source": [
    "model = Sequential()\n",
    "model.add(Embedding(max_words, 32))\n",
    "model.add(LSTM(16, dropout=0.3))\n",
    "model.add(Dense(32, activation=\"relu\"))\n",
    "model.add(Dense(5, activation=\"softmax\"))\n",
    "model.summary()"
   ]
  },
  {
   "cell_type": "code",
   "execution_count": 25,
   "metadata": {},
   "outputs": [
    {
     "name": "stdout",
     "output_type": "stream",
     "text": [
      "Train on 18338 samples, validate on 2038 samples\n",
      "Epoch 1/20\n",
      "18338/18338 [==============================] - 48s 3ms/step - loss: 1.1557 - acc: 0.5592 - val_loss: 1.0026 - val_acc: 0.5648\n",
      "Epoch 2/20\n",
      "18338/18338 [==============================] - 67s 4ms/step - loss: 0.9516 - acc: 0.6065 - val_loss: 0.9947 - val_acc: 0.5721\n",
      "Epoch 3/20\n",
      "18338/18338 [==============================] - 44s 2ms/step - loss: 0.9150 - acc: 0.6195 - val_loss: 0.9429 - val_acc: 0.5932\n",
      "Epoch 4/20\n",
      "18338/18338 [==============================] - 43s 2ms/step - loss: 0.8961 - acc: 0.6247 - val_loss: 0.9688 - val_acc: 0.6040\n",
      "Epoch 5/20\n",
      "18338/18338 [==============================] - 43s 2ms/step - loss: 0.8868 - acc: 0.6293 - val_loss: 0.9204 - val_acc: 0.6016\n",
      "Epoch 6/20\n",
      "18338/18338 [==============================] - 58s 3ms/step - loss: 0.8755 - acc: 0.6305 - val_loss: 0.9135 - val_acc: 0.6065\n",
      "Epoch 7/20\n",
      "18338/18338 [==============================] - 56s 3ms/step - loss: 0.8645 - acc: 0.6381 - val_loss: 0.9769 - val_acc: 0.6119\n",
      "Epoch 8/20\n",
      "18338/18338 [==============================] - 63s 3ms/step - loss: 0.8475 - acc: 0.6432 - val_loss: 0.8970 - val_acc: 0.6183\n",
      "Epoch 9/20\n",
      "18338/18338 [==============================] - 52s 3ms/step - loss: 0.8347 - acc: 0.6475 - val_loss: 0.9122 - val_acc: 0.6207\n",
      "Epoch 10/20\n",
      "18338/18338 [==============================] - 47s 3ms/step - loss: 0.8253 - acc: 0.6537 - val_loss: 0.9313 - val_acc: 0.6300\n",
      "Epoch 11/20\n",
      "18338/18338 [==============================] - 45s 2ms/step - loss: 0.8105 - acc: 0.6612 - val_loss: 0.8921 - val_acc: 0.6192\n",
      "Epoch 12/20\n",
      "18338/18338 [==============================] - 46s 3ms/step - loss: 0.8001 - acc: 0.6630 - val_loss: 0.9048 - val_acc: 0.6168\n",
      "Epoch 13/20\n",
      "18338/18338 [==============================] - 45s 2ms/step - loss: 0.7938 - acc: 0.6674 - val_loss: 0.8832 - val_acc: 0.6286\n",
      "Epoch 14/20\n",
      "18338/18338 [==============================] - 46s 3ms/step - loss: 0.7861 - acc: 0.6704 - val_loss: 0.8875 - val_acc: 0.6192\n",
      "Epoch 15/20\n",
      "18338/18338 [==============================] - 49s 3ms/step - loss: 0.7770 - acc: 0.6738 - val_loss: 0.8988 - val_acc: 0.6065\n",
      "Epoch 16/20\n",
      "18338/18338 [==============================] - 47s 3ms/step - loss: 0.7738 - acc: 0.6766 - val_loss: 0.9193 - val_acc: 0.6384\n",
      "Epoch 17/20\n",
      "18338/18338 [==============================] - 47s 3ms/step - loss: 0.7643 - acc: 0.6794 - val_loss: 0.8914 - val_acc: 0.6173\n",
      "Epoch 18/20\n",
      "18338/18338 [==============================] - 44s 2ms/step - loss: 0.7629 - acc: 0.6804 - val_loss: 0.9334 - val_acc: 0.5922\n",
      "Epoch 19/20\n",
      "18338/18338 [==============================] - 45s 2ms/step - loss: 0.7580 - acc: 0.6836 - val_loss: 0.8980 - val_acc: 0.6300\n",
      "Epoch 20/20\n",
      "18338/18338 [==============================] - 45s 2ms/step - loss: 0.7526 - acc: 0.6869 - val_loss: 0.8918 - val_acc: 0.6359\n"
     ]
    }
   ],
   "source": [
    "model.compile(optimizer='rmsprop',\n",
    "loss='sparse_categorical_crossentropy',\n",
    "metrics=['acc'])\n",
    "\n",
    "history = model.fit(X_train, y_train,\n",
    "epochs=20,\n",
    "batch_size=128,\n",
    "validation_data=(X_val, y_val))"
   ]
  },
  {
   "cell_type": "code",
   "execution_count": 26,
   "metadata": {
    "scrolled": true
   },
   "outputs": [
    {
     "data": {
      "image/png": "[encoded data removed]",
      "text/plain": [
       "<Figure size 432x288 with 1 Axes>"
      ]
     },
     "metadata": {},
     "output_type": "display_data"
    },
    {
     "data": {
      "image/png": "[encoded data removed]",
      "text/plain": [
       "<Figure size 432x288 with 1 Axes>"
      ]
     },
     "metadata": {},
     "output_type": "display_data"
    }
   ],
   "source": [
    "acc = history.history['acc']\n",
    "val_acc = history.history['val_acc']\n",
    "loss = history.history['loss']\n",
    "val_loss = history.history['val_loss']\n",
    "epochs = range(1, len(acc) + 1)\n",
    "plt.plot(epochs, acc, 'bo', label='Training acc')\n",
    "plt.plot(epochs, val_acc, 'b', label='Validation acc')\n",
    "plt.title('Training and validation accuracy')\n",
    "plt.legend()\n",
    "plt.figure()\n",
    "plt.plot(epochs, loss, 'bo', label='Training loss')\n",
    "plt.plot(epochs, val_loss, 'b', label='Validation loss')\n",
    "plt.title('Training and validation loss')\n",
    "plt.legend()\n",
    "plt.show()"
   ]
  },
  {
   "cell_type": "code",
   "execution_count": 27,
   "metadata": {},
   "outputs": [
    {
     "name": "stdout",
     "output_type": "stream",
     "text": [
      "2265/2265 [==============================] - 1s 489us/step\n"
     ]
    },
    {
     "data": {
      "text/plain": [
       "(0.8820110356044559, 0.623841059497387)"
      ]
     },
     "execution_count": 27,
     "metadata": {},
     "output_type": "execute_result"
    }
   ],
   "source": [
    "loss, acc = model.evaluate(X_test, y_test)\n",
    "loss, acc"
   ]
  },
  {
   "cell_type": "markdown",
   "metadata": {
    "_uuid": "f9ffaa10fea84704e7315c7b80b6572440c9bd38"
   },
   "source": [
    "## questao 1 f"
   ]
  },
  {
   "cell_type": "code",
   "execution_count": 28,
   "metadata": {
    "_uuid": "2fbc378bda4e29b904377a6165656d215cffe358"
   },
   "outputs": [
    {
     "data": {
      "text/plain": [
       "array([[  0,   0,   0, ..., 662,   3,  68],\n",
       "       [  0,   0,   0, ...,   6, 772,  95],\n",
       "       [  0,   0,   0, ..., 469,   5, 688],\n",
       "       ...,\n",
       "       [  0,   0,   0, ...,  24, 166,  34],\n",
       "       [  0,   0,   0, ..., 129, 206, 185],\n",
       "       [  0,   0,   0, ...,  35, 433, 205]], dtype=int32)"
      ]
     },
     "execution_count": 28,
     "metadata": {},
     "output_type": "execute_result"
    }
   ],
   "source": [
    "max_words = 1000\n",
    "max_len = 400 #dobrar o numero de 200 pra 400\n",
    "tok = Tokenizer(num_words=max_words)\n",
    "tok.fit_on_texts(X)\n",
    "sequences = tok.texts_to_sequences(X)\n",
    "sequences_matrix = pad_sequences(sequences,maxlen=max_len)\n",
    "sequences_matrix"
   ]
  },
  {
   "cell_type": "code",
   "execution_count": 29,
   "metadata": {},
   "outputs": [],
   "source": [
    "X_total, X_test, y_total, y_test = train_test_split(sequences_matrix, y, \n",
    "                                                    test_size=0.1, random_state=42)"
   ]
  },
  {
   "cell_type": "code",
   "execution_count": 30,
   "metadata": {},
   "outputs": [],
   "source": [
    "X_train, X_val, y_train, y_val = train_test_split(X_total, y_total, \n",
    "                                                    test_size=0.1, random_state=42)"
   ]
  },
  {
   "cell_type": "code",
   "execution_count": 31,
   "metadata": {
    "_uuid": "30e7f7c7ea825ba1b6172fdb3f1e082f060d0150"
   },
   "outputs": [
    {
     "name": "stdout",
     "output_type": "stream",
     "text": [
      "_________________________________________________________________\n",
      "Layer (type)                 Output Shape              Param #   \n",
      "=================================================================\n",
      "embedding_4 (Embedding)      (None, None, 32)          32000     \n",
      "_________________________________________________________________\n",
      "lstm_4 (LSTM)                (None, 32)                8320      \n",
      "_________________________________________________________________\n",
      "dense_7 (Dense)              (None, 32)                1056      \n",
      "_________________________________________________________________\n",
      "dense_8 (Dense)              (None, 5)                 165       \n",
      "=================================================================\n",
      "Total params: 41,541\n",
      "Trainable params: 41,541\n",
      "Non-trainable params: 0\n",
      "_________________________________________________________________\n"
     ]
    }
   ],
   "source": [
    "model = Sequential()\n",
    "model.add(Embedding(max_words, 32))\n",
    "model.add(LSTM(32, dropout=0.3))\n",
    "model.add(Dense(32, activation=\"relu\"))\n",
    "model.add(Dense(5, activation=\"softmax\"))\n",
    "model.summary()"
   ]
  },
  {
   "cell_type": "code",
   "execution_count": 32,
   "metadata": {
    "_uuid": "59fd85bfe0bb4ae1f3ab17a6a9568d5366321215"
   },
   "outputs": [
    {
     "name": "stdout",
     "output_type": "stream",
     "text": [
      "Train on 18338 samples, validate on 2038 samples\n",
      "Epoch 1/20\n",
      "18338/18338 [==============================] - 113s 6ms/step - loss: 1.1064 - acc: 0.5676 - val_loss: 1.0127 - val_acc: 0.5756\n",
      "Epoch 2/20\n",
      "18338/18338 [==============================] - 119s 7ms/step - loss: 0.9440 - acc: 0.6112 - val_loss: 1.0019 - val_acc: 0.5864\n",
      "Epoch 3/20\n",
      "18338/18338 [==============================] - 113s 6ms/step - loss: 0.9156 - acc: 0.6174 - val_loss: 0.9305 - val_acc: 0.6070\n",
      "Epoch 4/20\n",
      "18338/18338 [==============================] - 110s 6ms/step - loss: 0.8943 - acc: 0.6254 - val_loss: 0.9436 - val_acc: 0.6153\n",
      "Epoch 5/20\n",
      "18338/18338 [==============================] - 111s 6ms/step - loss: 0.8808 - acc: 0.6279 - val_loss: 0.9370 - val_acc: 0.6183\n",
      "Epoch 6/20\n",
      "18338/18338 [==============================] - 121s 7ms/step - loss: 0.8708 - acc: 0.6345 - val_loss: 1.0925 - val_acc: 0.6016\n",
      "Epoch 7/20\n",
      "18338/18338 [==============================] - 115s 6ms/step - loss: 0.8586 - acc: 0.6350 - val_loss: 0.9611 - val_acc: 0.6232\n",
      "Epoch 8/20\n",
      "18338/18338 [==============================] - 117s 6ms/step - loss: 0.8502 - acc: 0.6422 - val_loss: 0.9280 - val_acc: 0.6104\n",
      "Epoch 9/20\n",
      "18338/18338 [==============================] - 106s 6ms/step - loss: 0.8405 - acc: 0.6438 - val_loss: 0.9003 - val_acc: 0.6124\n",
      "Epoch 10/20\n",
      "18338/18338 [==============================] - 107s 6ms/step - loss: 0.8303 - acc: 0.6511 - val_loss: 0.9086 - val_acc: 0.6094\n",
      "Epoch 11/20\n",
      "18338/18338 [==============================] - 107s 6ms/step - loss: 0.8192 - acc: 0.6554 - val_loss: 0.8890 - val_acc: 0.6168\n",
      "Epoch 12/20\n",
      "18338/18338 [==============================] - 106s 6ms/step - loss: 0.8075 - acc: 0.6602 - val_loss: 0.8963 - val_acc: 0.6300\n",
      "Epoch 13/20\n",
      "18338/18338 [==============================] - 113s 6ms/step - loss: 0.7955 - acc: 0.6643 - val_loss: 0.9221 - val_acc: 0.6359\n",
      "Epoch 14/20\n",
      "18338/18338 [==============================] - 111s 6ms/step - loss: 0.7886 - acc: 0.6695 - val_loss: 0.9442 - val_acc: 0.6354\n",
      "Epoch 15/20\n",
      "18338/18338 [==============================] - 115s 6ms/step - loss: 0.7800 - acc: 0.6730 - val_loss: 0.8876 - val_acc: 0.6138\n",
      "Epoch 16/20\n",
      "18338/18338 [==============================] - 126s 7ms/step - loss: 0.7715 - acc: 0.6767 - val_loss: 0.8959 - val_acc: 0.6266\n",
      "Epoch 17/20\n",
      "18338/18338 [==============================] - 124s 7ms/step - loss: 0.7640 - acc: 0.6819 - val_loss: 0.8811 - val_acc: 0.6266\n",
      "Epoch 18/20\n",
      "18338/18338 [==============================] - 124s 7ms/step - loss: 0.7582 - acc: 0.6815 - val_loss: 0.8947 - val_acc: 0.6173\n",
      "Epoch 19/20\n",
      "18338/18338 [==============================] - 134s 7ms/step - loss: 0.7508 - acc: 0.6896 - val_loss: 0.8881 - val_acc: 0.6344\n",
      "Epoch 20/20\n",
      "18338/18338 [==============================] - 113s 6ms/step - loss: 0.7452 - acc: 0.6900 - val_loss: 0.9205 - val_acc: 0.6030\n"
     ]
    }
   ],
   "source": [
    "model.compile(optimizer='rmsprop',\n",
    "loss='sparse_categorical_crossentropy',\n",
    "metrics=['acc'])\n",
    "\n",
    "history = model.fit(X_train, y_train,\n",
    "epochs=20,\n",
    "batch_size=128,\n",
    "validation_data=(X_val, y_val))"
   ]
  },
  {
   "cell_type": "code",
   "execution_count": 33,
   "metadata": {
    "_uuid": "da75ef3c410199721a7315ef8c645b35a3678b66"
   },
   "outputs": [
    {
     "data": {
      "image/png": "[encoded data removed]",
      "text/plain": [
       "<Figure size 432x288 with 1 Axes>"
      ]
     },
     "metadata": {},
     "output_type": "display_data"
    },
    {
     "data": {
      "image/png": "[encoded data removed]",
      "text/plain": [
       "<Figure size 432x288 with 1 Axes>"
      ]
     },
     "metadata": {},
     "output_type": "display_data"
    }
   ],
   "source": [
    "acc = history.history['acc']\n",
    "val_acc = history.history['val_acc']\n",
    "loss = history.history['loss']\n",
    "val_loss = history.history['val_loss']\n",
    "epochs = range(1, len(acc) + 1)\n",
    "plt.plot(epochs, acc, 'bo', label='Training acc')\n",
    "plt.plot(epochs, val_acc, 'b', label='Validation acc')\n",
    "plt.title('Training and validation accuracy')\n",
    "plt.legend()\n",
    "plt.figure()\n",
    "plt.plot(epochs, loss, 'bo', label='Training loss')\n",
    "plt.plot(epochs, val_loss, 'b', label='Validation loss')\n",
    "plt.title('Training and validation loss')\n",
    "plt.legend()\n",
    "plt.show()"
   ]
  },
  {
   "cell_type": "code",
   "execution_count": 34,
   "metadata": {},
   "outputs": [
    {
     "name": "stdout",
     "output_type": "stream",
     "text": [
      "2265/2265 [==============================] - 3s 1ms/step\n"
     ]
    },
    {
     "data": {
      "text/plain": [
       "(0.9164378898296398, 0.5969094923526772)"
      ]
     },
     "execution_count": 34,
     "metadata": {},
     "output_type": "execute_result"
    }
   ],
   "source": [
    "loss, acc = model.evaluate(X_test, y_test)\n",
    "loss, acc"
   ]
  },
  {
   "cell_type": "markdown",
   "metadata": {
    "_uuid": "645b87629cc4168b49346ce6d92106a1e0fdb200"
   },
   "source": [
    "#######################################"
   ]
  },
  {
   "cell_type": "code",
   "execution_count": 35,
   "metadata": {
    "_uuid": "91241129237280999cc48cedf26a3bfd368d5e1b"
   },
   "outputs": [
    {
     "data": {
      "text/plain": [
       "array([[  0,   0,   0, ..., 662,   3,  68],\n",
       "       [  0,   0,   0, ...,   6, 772,  95],\n",
       "       [  0,   0,   0, ..., 469,   5, 688],\n",
       "       ...,\n",
       "       [  0,   0,   0, ...,  24, 166,  34],\n",
       "       [  0,   0,   0, ..., 129, 206, 185],\n",
       "       [  0,   0,   0, ...,  35, 433, 205]], dtype=int32)"
      ]
     },
     "execution_count": 35,
     "metadata": {},
     "output_type": "execute_result"
    }
   ],
   "source": [
    "max_words = 1000\n",
    "max_len = 100 # reduzir metade o numero de 200 pra 100\n",
    "tok = Tokenizer(num_words=max_words)\n",
    "tok.fit_on_texts(X)\n",
    "sequences = tok.texts_to_sequences(X)\n",
    "sequences_matrix = pad_sequences(sequences,maxlen=max_len)\n",
    "sequences_matrix"
   ]
  },
  {
   "cell_type": "code",
   "execution_count": 36,
   "metadata": {},
   "outputs": [],
   "source": [
    "X_total, X_test, y_total, y_test = train_test_split(sequences_matrix, y, \n",
    "                                                    test_size=0.1, random_state=42)"
   ]
  },
  {
   "cell_type": "code",
   "execution_count": 37,
   "metadata": {},
   "outputs": [],
   "source": [
    "X_train, X_val, y_train, y_val = train_test_split(X_total, y_total, \n",
    "                                                    test_size=0.1, random_state=42)"
   ]
  },
  {
   "cell_type": "code",
   "execution_count": 38,
   "metadata": {
    "_uuid": "e8db449bf1d844d29cb2bde413595de6fc7bb2ec"
   },
   "outputs": [
    {
     "name": "stdout",
     "output_type": "stream",
     "text": [
      "_________________________________________________________________\n",
      "Layer (type)                 Output Shape              Param #   \n",
      "=================================================================\n",
      "embedding_5 (Embedding)      (None, None, 32)          32000     \n",
      "_________________________________________________________________\n",
      "lstm_5 (LSTM)                (None, 32)                8320      \n",
      "_________________________________________________________________\n",
      "dense_9 (Dense)              (None, 32)                1056      \n",
      "_________________________________________________________________\n",
      "dense_10 (Dense)             (None, 5)                 165       \n",
      "=================================================================\n",
      "Total params: 41,541\n",
      "Trainable params: 41,541\n",
      "Non-trainable params: 0\n",
      "_________________________________________________________________\n"
     ]
    }
   ],
   "source": [
    "model = Sequential()\n",
    "model.add(Embedding(max_words, 32))\n",
    "model.add(LSTM(32, dropout=0.3))\n",
    "model.add(Dense(32, activation=\"relu\"))\n",
    "model.add(Dense(5, activation=\"softmax\"))\n",
    "model.summary()"
   ]
  },
  {
   "cell_type": "code",
   "execution_count": 39,
   "metadata": {
    "_uuid": "cfa966f72d068353f592144bf4f817e205a8c5ca"
   },
   "outputs": [
    {
     "name": "stdout",
     "output_type": "stream",
     "text": [
      "Train on 18338 samples, validate on 2038 samples\n",
      "Epoch 1/20\n",
      "18338/18338 [==============================] - 36s 2ms/step - loss: 1.1236 - acc: 0.5651 - val_loss: 1.0882 - val_acc: 0.5795\n",
      "Epoch 2/20\n",
      "18338/18338 [==============================] - 35s 2ms/step - loss: 0.9470 - acc: 0.6091 - val_loss: 1.0844 - val_acc: 0.5819\n",
      "Epoch 3/20\n",
      "18338/18338 [==============================] - 35s 2ms/step - loss: 0.9092 - acc: 0.6205 - val_loss: 1.0057 - val_acc: 0.5824\n",
      "Epoch 4/20\n",
      "18338/18338 [==============================] - 35s 2ms/step - loss: 0.8937 - acc: 0.6241 - val_loss: 1.2155 - val_acc: 0.5746\n",
      "Epoch 5/20\n",
      "18338/18338 [==============================] - 34s 2ms/step - loss: 0.8833 - acc: 0.6303 - val_loss: 0.9643 - val_acc: 0.6050\n",
      "Epoch 6/20\n",
      "18338/18338 [==============================] - 35s 2ms/step - loss: 0.8719 - acc: 0.6305 - val_loss: 0.9781 - val_acc: 0.6075\n",
      "Epoch 7/20\n",
      "18338/18338 [==============================] - 35s 2ms/step - loss: 0.8593 - acc: 0.6376 - val_loss: 0.9116 - val_acc: 0.6133\n",
      "Epoch 8/20\n",
      "18338/18338 [==============================] - 35s 2ms/step - loss: 0.8435 - acc: 0.6375 - val_loss: 0.9117 - val_acc: 0.6089\n",
      "Epoch 9/20\n",
      "18338/18338 [==============================] - 35s 2ms/step - loss: 0.8259 - acc: 0.6479 - val_loss: 0.8837 - val_acc: 0.6349\n",
      "Epoch 10/20\n",
      "18338/18338 [==============================] - 35s 2ms/step - loss: 0.8126 - acc: 0.6567 - val_loss: 0.8965 - val_acc: 0.6305\n",
      "Epoch 11/20\n",
      "18338/18338 [==============================] - 35s 2ms/step - loss: 0.7981 - acc: 0.6620 - val_loss: 0.8889 - val_acc: 0.6227\n",
      "Epoch 12/20\n",
      "18338/18338 [==============================] - 35s 2ms/step - loss: 0.7890 - acc: 0.6647 - val_loss: 0.9214 - val_acc: 0.6168\n",
      "Epoch 13/20\n",
      "18338/18338 [==============================] - 35s 2ms/step - loss: 0.7792 - acc: 0.6690 - val_loss: 0.8935 - val_acc: 0.6261\n",
      "Epoch 14/20\n",
      "18338/18338 [==============================] - 35s 2ms/step - loss: 0.7716 - acc: 0.6749 - val_loss: 0.9420 - val_acc: 0.6212\n",
      "Epoch 15/20\n",
      "18338/18338 [==============================] - 39s 2ms/step - loss: 0.7683 - acc: 0.6763 - val_loss: 0.9104 - val_acc: 0.6153\n",
      "Epoch 16/20\n",
      "18338/18338 [==============================] - 37s 2ms/step - loss: 0.7587 - acc: 0.6794 - val_loss: 0.9281 - val_acc: 0.6070\n",
      "Epoch 17/20\n",
      "18338/18338 [==============================] - 36s 2ms/step - loss: 0.7591 - acc: 0.6794 - val_loss: 0.8958 - val_acc: 0.6374\n",
      "Epoch 18/20\n",
      "18338/18338 [==============================] - 35s 2ms/step - loss: 0.7537 - acc: 0.6808 - val_loss: 0.9849 - val_acc: 0.6290\n",
      "Epoch 19/20\n",
      "18338/18338 [==============================] - 37s 2ms/step - loss: 0.7462 - acc: 0.6856 - val_loss: 0.9220 - val_acc: 0.6349\n",
      "Epoch 20/20\n",
      "18338/18338 [==============================] - 35s 2ms/step - loss: 0.7436 - acc: 0.6860 - val_loss: 0.8878 - val_acc: 0.6428\n"
     ]
    }
   ],
   "source": [
    "model.compile(optimizer='rmsprop',\n",
    "loss='sparse_categorical_crossentropy',\n",
    "metrics=['acc'])\n",
    "\n",
    "history = model.fit(X_train, y_train,\n",
    "epochs=20,\n",
    "batch_size=128,\n",
    "validation_data=(X_val, y_val))"
   ]
  },
  {
   "cell_type": "code",
   "execution_count": 40,
   "metadata": {
    "_uuid": "68f6c7f8af57d4a01353c6aef5c67b7a76b0a970"
   },
   "outputs": [
    {
     "data": {
      "image/png": "[encoded data removed]",
      "text/plain": [
       "<Figure size 432x288 with 1 Axes>"
      ]
     },
     "metadata": {},
     "output_type": "display_data"
    },
    {
     "data": {
      "image/png": "[encoded data removed]",
      "text/plain": [
       "<Figure size 432x288 with 1 Axes>"
      ]
     },
     "metadata": {},
     "output_type": "display_data"
    }
   ],
   "source": [
    "acc = history.history['acc']\n",
    "val_acc = history.history['val_acc']\n",
    "loss = history.history['loss']\n",
    "val_loss = history.history['val_loss']\n",
    "epochs = range(1, len(acc) + 1)\n",
    "plt.plot(epochs, acc, 'bo', label='Training acc')\n",
    "plt.plot(epochs, val_acc, 'b', label='Validation acc')\n",
    "plt.title('Training and validation accuracy')\n",
    "plt.legend()\n",
    "plt.figure()\n",
    "plt.plot(epochs, loss, 'bo', label='Training loss')\n",
    "plt.plot(epochs, val_loss, 'b', label='Validation loss')\n",
    "plt.title('Training and validation loss')\n",
    "plt.legend()\n",
    "plt.show()"
   ]
  },
  {
   "cell_type": "code",
   "execution_count": 41,
   "metadata": {},
   "outputs": [
    {
     "name": "stdout",
     "output_type": "stream",
     "text": [
      "2265/2265 [==============================] - 1s 326us/step\n"
     ]
    },
    {
     "data": {
      "text/plain": [
       "(0.8860491424206867, 0.6233995588146825)"
      ]
     },
     "execution_count": 41,
     "metadata": {},
     "output_type": "execute_result"
    }
   ],
   "source": [
    "loss, acc = model.evaluate(X_test, y_test)\n",
    "loss, acc"
   ]
  }
 ],
 "metadata": {
  "kernelspec": {
   "display_name": "Python 3",
   "language": "python",
   "name": "python3"
  },
  "language_info": {
   "codemirror_mode": {
    "name": "ipython",
    "version": 3
   },
   "file_extension": ".py",
   "mimetype": "text/x-python",
   "name": "python",
   "nbconvert_exporter": "python",
   "pygments_lexer": "ipython3",
   "version": "3.6.5"
  }
 },
 "nbformat": 4,
 "nbformat_minor": 1
}
