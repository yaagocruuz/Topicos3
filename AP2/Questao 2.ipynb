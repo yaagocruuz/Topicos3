{
  "cells": [
    {
      "metadata": {
        "trusted": true,
        "_uuid": "36a574e6de9f64e2fb5cc3bc04f096d1f2fb4c22"
      },
      "cell_type": "code",
      "source": "# This Python 3 environment comes with many helpful analytics libraries installed\n# It is defined by the kaggle/python docker image: https://github.com/kaggle/docker-python\n# For example, here's several helpful packages to load in \n\nimport numpy as np # linear algebra\nimport pandas as pd # data processing, CSV file I/O (e.g. pd.read_csv)\n\n# Input data files are available in the \"../input/\" directory.\n# For example, running this (by clicking run or pressing Shift+Enter) will list the files in the input directory\n\nimport os\nprint(os.listdir(\"../input\"))\n\n# Any results you write to the current directory are saved as output.",
      "execution_count": 68,
      "outputs": [
        {
          "output_type": "stream",
          "text": "['Womens Clothing E-Commerce Reviews.csv']\n",
          "name": "stdout"
        }
      ]
    },
    {
      "metadata": {
        "trusted": true,
        "_uuid": "748a2311718922f28871a8682cf5569a429b5795"
      },
      "cell_type": "code",
      "source": "from keras.preprocessing.text import Tokenizer\nfrom keras.preprocessing.sequence import pad_sequences\nimport re\nimport nltk\nfrom nltk.corpus import stopwords\nnltk.download('stopwords')\nfrom nltk.stem import PorterStemmer\nfrom sklearn.feature_extraction.text import CountVectorizer, TfidfTransformer\nfrom sklearn.model_selection import train_test_split\nfrom sklearn.neural_network import MLPClassifier\nfrom sklearn import preprocessing\nfrom keras.models import Sequential\nfrom keras.layers import Embedding, Flatten, Dense, Bidirectional\nimport matplotlib.pyplot as plt\nfrom keras.layers import LSTM\nfrom sklearn import metrics\n\nfrom keras.models import Sequential\nfrom keras.layers import Dense, Conv1D, Flatten",
      "execution_count": 69,
      "outputs": [
        {
          "output_type": "stream",
          "text": "[nltk_data] Downloading package stopwords to /usr/share/nltk_data...\n[nltk_data]   Package stopwords is already up-to-date!\n",
          "name": "stdout"
        }
      ]
    },
    {
      "metadata": {
        "trusted": true,
        "_uuid": "cf1bb08d0a6d47f4af747a464c2ac05efb6c69cc"
      },
      "cell_type": "code",
      "source": "df = pd.read_csv('../input/Womens Clothing E-Commerce Reviews.csv')",
      "execution_count": 70,
      "outputs": []
    },
    {
      "metadata": {
        "trusted": true,
        "_uuid": "6ca1daa2efca3e817ce234bb7b726c5ab9fd7993"
      },
      "cell_type": "code",
      "source": "df = df[['Review Text','Rating']]\ndf.head()",
      "execution_count": 71,
      "outputs": [
        {
          "output_type": "execute_result",
          "execution_count": 71,
          "data": {
            "text/plain": "                                         Review Text  Rating\n0  Absolutely wonderful - silky and sexy and comf...       4\n1  Love this dress!  it's sooo pretty.  i happene...       5\n2  I had such high hopes for this dress and reall...       3\n3  I love, love, love this jumpsuit. it's fun, fl...       5\n4  This shirt is very flattering to all due to th...       5",
            "text/html": "<div>\n<style scoped>\n    .dataframe tbody tr th:only-of-type {\n        vertical-align: middle;\n    }\n\n    .dataframe tbody tr th {\n        vertical-align: top;\n    }\n\n    .dataframe thead th {\n        text-align: right;\n    }\n</style>\n<table border=\"1\" class=\"dataframe\">\n  <thead>\n    <tr style=\"text-align: right;\">\n      <th></th>\n      <th>Review Text</th>\n      <th>Rating</th>\n    </tr>\n  </thead>\n  <tbody>\n    <tr>\n      <th>0</th>\n      <td>Absolutely wonderful - silky and sexy and comf...</td>\n      <td>4</td>\n    </tr>\n    <tr>\n      <th>1</th>\n      <td>Love this dress!  it's sooo pretty.  i happene...</td>\n      <td>5</td>\n    </tr>\n    <tr>\n      <th>2</th>\n      <td>I had such high hopes for this dress and reall...</td>\n      <td>3</td>\n    </tr>\n    <tr>\n      <th>3</th>\n      <td>I love, love, love this jumpsuit. it's fun, fl...</td>\n      <td>5</td>\n    </tr>\n    <tr>\n      <th>4</th>\n      <td>This shirt is very flattering to all due to th...</td>\n      <td>5</td>\n    </tr>\n  </tbody>\n</table>\n</div>"
          },
          "metadata": {}
        }
      ]
    },
    {
      "metadata": {
        "trusted": true,
        "_uuid": "f4307e733bc36fac2adc7bfd65eb3501ee1ea4ec"
      },
      "cell_type": "code",
      "source": "df = df.dropna(how='any',axis=0)",
      "execution_count": 72,
      "outputs": []
    },
    {
      "metadata": {
        "trusted": true,
        "_uuid": "c6cb2e73b579db3f7ccaf3a9b2ed15818786842a"
      },
      "cell_type": "code",
      "source": "X = df.iloc[:,0].values\ny = df.iloc[:,1].values",
      "execution_count": 73,
      "outputs": []
    },
    {
      "metadata": {
        "trusted": true,
        "_uuid": "feef1f554f708931a4274ba2c85e89a264bd4ff0"
      },
      "cell_type": "code",
      "source": "le = preprocessing.LabelEncoder()\ny = le.fit_transform(y)",
      "execution_count": 74,
      "outputs": []
    },
    {
      "metadata": {
        "trusted": true,
        "_uuid": "706062f577e2005b13fdd9352b39b6e5db8caf5d"
      },
      "cell_type": "code",
      "source": "stop = stopwords.words('english')\ndef ponctuation(text):\n    text = re.sub('<[^>]*>', '', text)\n    emoticons = re.findall('(?::|;|=)(?:-)?(?:\\)|\\(|D|P)',\n                           text)\n    text = (re.sub('[\\W]+', ' ', text.lower()) +\n            ' '.join(emoticons).replace('-', ''))    \n    return text",
      "execution_count": 75,
      "outputs": []
    },
    {
      "metadata": {
        "trusted": true,
        "_uuid": "01ea1561136713f87d30a1be78663e2693a90406"
      },
      "cell_type": "code",
      "source": "for i in range(0,len(X)):\n    X[i] = ponctuation(X[i])",
      "execution_count": 76,
      "outputs": []
    },
    {
      "metadata": {
        "trusted": true,
        "_uuid": "8c2988923445497a6c8a42d874747c5fd7f60e6a"
      },
      "cell_type": "code",
      "source": "X[1]",
      "execution_count": 77,
      "outputs": [
        {
          "output_type": "execute_result",
          "execution_count": 77,
          "data": {
            "text/plain": "'love this dress it s sooo pretty i happened to find it in a store and i m glad i did bc i never would have ordered it online bc it s petite i bought a petite and am 5 8 i love the length on me hits just a little below the knee would definitely be a true midi on someone who is truly petite '"
          },
          "metadata": {}
        }
      ]
    },
    {
      "metadata": {
        "trusted": true,
        "_uuid": "5c4521927b1d1e9dfe355636e95d720e68b1d69c"
      },
      "cell_type": "code",
      "source": "stemmer = PorterStemmer()\ndef stemmering(text):\n    return [stemmer.stem(w) for w in text.split()]",
      "execution_count": 78,
      "outputs": []
    },
    {
      "metadata": {
        "trusted": true,
        "_uuid": "6ef67ab6179a9dfc6237bf2f9fad06653fc3d9de"
      },
      "cell_type": "code",
      "source": "def stem(text):\n    text_stem = [w for w in stemmering(text) if w not in stop]\n    new_text = ''\n    for i in text_stem[0:]:\n        new_text = new_text + i + ' '\n    return new_text",
      "execution_count": 79,
      "outputs": []
    },
    {
      "metadata": {
        "trusted": true,
        "_uuid": "1294813101211f4c9ecf5125b6ec51ea8e398436"
      },
      "cell_type": "code",
      "source": "for i in range(0,len(X)):\n    X[i] = stem(X[i])",
      "execution_count": 80,
      "outputs": []
    },
    {
      "metadata": {
        "trusted": true,
        "_uuid": "360f0ecf37f412a3c9f134cae69e9b51553f763b"
      },
      "cell_type": "code",
      "source": "X[1]",
      "execution_count": 81,
      "outputs": [
        {
          "output_type": "execute_result",
          "execution_count": 81,
          "data": {
            "text/plain": "'love thi dress sooo pretti happen find store glad bc never would order onlin bc petit bought petit 5 8 love length hit littl knee would definit true midi someon truli petit '"
          },
          "metadata": {}
        }
      ]
    },
    {
      "metadata": {
        "trusted": true,
        "_uuid": "62cc87890ee001aabfde82510d3706152e1c570e"
      },
      "cell_type": "code",
      "source": "count_vect = CountVectorizer()\nX_counts = count_vect.fit_transform(X)",
      "execution_count": 82,
      "outputs": []
    },
    {
      "metadata": {
        "trusted": true,
        "_uuid": "d102e8a12f6a3e1326b1b20741528aa021b2f88c"
      },
      "cell_type": "code",
      "source": "tfidf_transformer = TfidfTransformer()\nX_tfidf = tfidf_transformer.fit_transform(X_counts)\nX_tfidf.shape",
      "execution_count": 83,
      "outputs": [
        {
          "output_type": "execute_result",
          "execution_count": 83,
          "data": {
            "text/plain": "(22641, 9781)"
          },
          "metadata": {}
        }
      ]
    },
    {
      "metadata": {
        "_uuid": "05bda3e7723990a90268c5e731c3a1ee7c7491a6"
      },
      "cell_type": "markdown",
      "source": "## Questao 2 b"
    },
    {
      "metadata": {
        "trusted": true,
        "_uuid": "40ad3be47b50c20e99e2dd28014bbeb2372cf3ec"
      },
      "cell_type": "code",
      "source": "X_t = X_tfidf.toarray()",
      "execution_count": 84,
      "outputs": []
    },
    {
      "metadata": {
        "trusted": true,
        "_uuid": "7de35b7ef1036b1a9bb0717b0a076748201aa84c"
      },
      "cell_type": "code",
      "source": "X_total, X_test, y_total, y_test = train_test_split(X_t,y,test_size=0.1,random_state=42)",
      "execution_count": 85,
      "outputs": []
    },
    {
      "metadata": {
        "trusted": true,
        "_uuid": "9ac9b442460696b8248572eea9ca1420a51fc177"
      },
      "cell_type": "code",
      "source": "X_train, X_val, y_train, y_val = train_test_split(X_total,y_total,test_size=0.1,random_state=42)",
      "execution_count": 86,
      "outputs": []
    },
    {
      "metadata": {
        "trusted": true,
        "_uuid": "4ae2ab0208d1de974c9010372cf3ad29b9a7526d"
      },
      "cell_type": "code",
      "source": "model = MLPClassifier()",
      "execution_count": 20,
      "outputs": []
    },
    {
      "metadata": {
        "trusted": true,
        "_uuid": "850186f9b390216bc50f60c70af5a415db0b217f"
      },
      "cell_type": "code",
      "source": "model.fit(X_train, y_train).score(X_val, y_val)",
      "execution_count": 27,
      "outputs": [
        {
          "output_type": "execute_result",
          "execution_count": 27,
          "data": {
            "text/plain": "0.5686947988223748"
          },
          "metadata": {}
        }
      ]
    },
    {
      "metadata": {
        "trusted": true,
        "_uuid": "34bb19c4425f99fb50978517f49c62a8aa82805c"
      },
      "cell_type": "code",
      "source": "y_pred = model.score(X_test,y_test)\ny_pred",
      "execution_count": 28,
      "outputs": [
        {
          "output_type": "execute_result",
          "execution_count": 28,
          "data": {
            "text/plain": "0.5766004415011038"
          },
          "metadata": {}
        }
      ]
    },
    {
      "metadata": {
        "_uuid": "41372aeeb0dd2930ed8aed5cc8039c5af81386ec"
      },
      "cell_type": "markdown",
      "source": "# questao 2 c"
    },
    {
      "metadata": {
        "trusted": true,
        "_uuid": "c828953ce5aef0b9c4349cea3901eb5a0fecf832"
      },
      "cell_type": "code",
      "source": "model_f = Sequential()\nmodel_f.add(Conv1D(64, 5, input_shape=(9781, 1)))\nmodel_f.add(Conv1D(32, 5))\nmodel_f.add(Dense(5, activation='softmax'))\nmodel_f.summary()",
      "execution_count": 100,
      "outputs": [
        {
          "output_type": "stream",
          "text": "_________________________________________________________________\nLayer (type)                 Output Shape              Param #   \n=================================================================\nconv1d_29 (Conv1D)           (None, 9777, 64)          384       \n_________________________________________________________________\nconv1d_30 (Conv1D)           (None, 9773, 32)          10272     \n_________________________________________________________________\ndense_29 (Dense)             (None, 9773, 5)           165       \n=================================================================\nTotal params: 10,821\nTrainable params: 10,821\nNon-trainable params: 0\n_________________________________________________________________\n",
          "name": "stdout"
        }
      ]
    },
    {
      "metadata": {
        "trusted": true,
        "_uuid": "7f7138642e78d3c31ebfb263534b8a6b8a27876e"
      },
      "cell_type": "code",
      "source": "X_train = np.expand_dims(X_train, axis=2) \nX_val = np.expand_dims(X_val, axis=2) \nX_test = np.expand_dims(X_test, axis=2)",
      "execution_count": 87,
      "outputs": []
    },
    {
      "metadata": {
        "trusted": true,
        "_uuid": "9334bd1fc49c3225ff0ed919d2b95821a38c5302"
      },
      "cell_type": "code",
      "source": "X_train.shape, X_val.shape, X_test.shape",
      "execution_count": 98,
      "outputs": [
        {
          "output_type": "execute_result",
          "execution_count": 98,
          "data": {
            "text/plain": "((18338, 9781, 1), (2038, 9781, 1), (2265, 9781, 1))"
          },
          "metadata": {}
        }
      ]
    },
    {
      "metadata": {
        "trusted": true,
        "_uuid": "a75557db9d590962e7f19a6a003e864dd7724c71"
      },
      "cell_type": "code",
      "source": "model_f.compile(optimizer='rmsprop',loss='sparse_categorical_crossentropy', metrics=['acc'])\nhistory = model_f.fit(X_train, y_train, \n                    epochs=20, \n                    batch_size=128,\n                    validation_data=(X_val,y_val))",
      "execution_count": 101,
      "outputs": [
        {
          "output_type": "error",
          "ename": "ValueError",
          "evalue": "Error when checking target: expected dense_29 to have 3 dimensions, but got array with shape (18338, 1)",
          "traceback": [
            "\u001b[0;31m---------------------------------------------------------------------------\u001b[0m",
            "\u001b[0;31mValueError\u001b[0m                                Traceback (most recent call last)",
            "\u001b[0;32m<ipython-input-101-6b43bf641b17>\u001b[0m in \u001b[0;36m<module>\u001b[0;34m\u001b[0m\n\u001b[1;32m      3\u001b[0m                     \u001b[0mepochs\u001b[0m\u001b[0;34m=\u001b[0m\u001b[0;36m20\u001b[0m\u001b[0;34m,\u001b[0m\u001b[0;34m\u001b[0m\u001b[0m\n\u001b[1;32m      4\u001b[0m                     \u001b[0mbatch_size\u001b[0m\u001b[0;34m=\u001b[0m\u001b[0;36m128\u001b[0m\u001b[0;34m,\u001b[0m\u001b[0;34m\u001b[0m\u001b[0m\n\u001b[0;32m----> 5\u001b[0;31m                     validation_data=(X_val,y_val))\n\u001b[0m",
            "\u001b[0;32m/opt/conda/lib/python3.6/site-packages/Keras-2.2.4-py3.6.egg/keras/engine/training.py\u001b[0m in \u001b[0;36mfit\u001b[0;34m(self, x, y, batch_size, epochs, verbose, callbacks, validation_split, validation_data, shuffle, class_weight, sample_weight, initial_epoch, steps_per_epoch, validation_steps, **kwargs)\u001b[0m\n\u001b[1;32m    950\u001b[0m             \u001b[0msample_weight\u001b[0m\u001b[0;34m=\u001b[0m\u001b[0msample_weight\u001b[0m\u001b[0;34m,\u001b[0m\u001b[0;34m\u001b[0m\u001b[0m\n\u001b[1;32m    951\u001b[0m             \u001b[0mclass_weight\u001b[0m\u001b[0;34m=\u001b[0m\u001b[0mclass_weight\u001b[0m\u001b[0;34m,\u001b[0m\u001b[0;34m\u001b[0m\u001b[0m\n\u001b[0;32m--> 952\u001b[0;31m             batch_size=batch_size)\n\u001b[0m\u001b[1;32m    953\u001b[0m         \u001b[0;31m# Prepare validation data.\u001b[0m\u001b[0;34m\u001b[0m\u001b[0;34m\u001b[0m\u001b[0m\n\u001b[1;32m    954\u001b[0m         \u001b[0mdo_validation\u001b[0m \u001b[0;34m=\u001b[0m \u001b[0;32mFalse\u001b[0m\u001b[0;34m\u001b[0m\u001b[0m\n",
            "\u001b[0;32m/opt/conda/lib/python3.6/site-packages/Keras-2.2.4-py3.6.egg/keras/engine/training.py\u001b[0m in \u001b[0;36m_standardize_user_data\u001b[0;34m(self, x, y, sample_weight, class_weight, check_array_lengths, batch_size)\u001b[0m\n\u001b[1;32m    787\u001b[0m                 \u001b[0mfeed_output_shapes\u001b[0m\u001b[0;34m,\u001b[0m\u001b[0;34m\u001b[0m\u001b[0m\n\u001b[1;32m    788\u001b[0m                 \u001b[0mcheck_batch_axis\u001b[0m\u001b[0;34m=\u001b[0m\u001b[0;32mFalse\u001b[0m\u001b[0;34m,\u001b[0m  \u001b[0;31m# Don't enforce the batch size.\u001b[0m\u001b[0;34m\u001b[0m\u001b[0m\n\u001b[0;32m--> 789\u001b[0;31m                 exception_prefix='target')\n\u001b[0m\u001b[1;32m    790\u001b[0m \u001b[0;34m\u001b[0m\u001b[0m\n\u001b[1;32m    791\u001b[0m             \u001b[0;31m# Generate sample-wise weight values given the `sample_weight` and\u001b[0m\u001b[0;34m\u001b[0m\u001b[0;34m\u001b[0m\u001b[0m\n",
            "\u001b[0;32m/opt/conda/lib/python3.6/site-packages/Keras-2.2.4-py3.6.egg/keras/engine/training_utils.py\u001b[0m in \u001b[0;36mstandardize_input_data\u001b[0;34m(data, names, shapes, check_batch_axis, exception_prefix)\u001b[0m\n\u001b[1;32m    126\u001b[0m                         \u001b[0;34m': expected '\u001b[0m \u001b[0;34m+\u001b[0m \u001b[0mnames\u001b[0m\u001b[0;34m[\u001b[0m\u001b[0mi\u001b[0m\u001b[0;34m]\u001b[0m \u001b[0;34m+\u001b[0m \u001b[0;34m' to have '\u001b[0m \u001b[0;34m+\u001b[0m\u001b[0;34m\u001b[0m\u001b[0m\n\u001b[1;32m    127\u001b[0m                         \u001b[0mstr\u001b[0m\u001b[0;34m(\u001b[0m\u001b[0mlen\u001b[0m\u001b[0;34m(\u001b[0m\u001b[0mshape\u001b[0m\u001b[0;34m)\u001b[0m\u001b[0;34m)\u001b[0m \u001b[0;34m+\u001b[0m \u001b[0;34m' dimensions, but got array '\u001b[0m\u001b[0;34m\u001b[0m\u001b[0m\n\u001b[0;32m--> 128\u001b[0;31m                         'with shape ' + str(data_shape))\n\u001b[0m\u001b[1;32m    129\u001b[0m                 \u001b[0;32mif\u001b[0m \u001b[0;32mnot\u001b[0m \u001b[0mcheck_batch_axis\u001b[0m\u001b[0;34m:\u001b[0m\u001b[0;34m\u001b[0m\u001b[0m\n\u001b[1;32m    130\u001b[0m                     \u001b[0mdata_shape\u001b[0m \u001b[0;34m=\u001b[0m \u001b[0mdata_shape\u001b[0m\u001b[0;34m[\u001b[0m\u001b[0;36m1\u001b[0m\u001b[0;34m:\u001b[0m\u001b[0;34m]\u001b[0m\u001b[0;34m\u001b[0m\u001b[0m\n",
            "\u001b[0;31mValueError\u001b[0m: Error when checking target: expected dense_29 to have 3 dimensions, but got array with shape (18338, 1)"
          ]
        }
      ]
    }
  ],
  "metadata": {
    "kernelspec": {
      "display_name": "Python 3",
      "language": "python",
      "name": "python3"
    },
    "language_info": {
      "name": "python",
      "version": "3.6.6",
      "mimetype": "text/x-python",
      "codemirror_mode": {
        "name": "ipython",
        "version": 3
      },
      "pygments_lexer": "ipython3",
      "nbconvert_exporter": "python",
      "file_extension": ".py"
    }
  },
  "nbformat": 4,
  "nbformat_minor": 1
}