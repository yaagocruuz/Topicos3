{
 "cells": [
  {
   "cell_type": "code",
   "execution_count": 1,
   "metadata": {},
   "outputs": [
    {
     "name": "stderr",
     "output_type": "stream",
     "text": [
      "/home/yaagocruuz/anaconda3/lib/python3.6/site-packages/h5py/__init__.py:36: FutureWarning: Conversion of the second argument of issubdtype from `float` to `np.floating` is deprecated. In future, it will be treated as `np.float64 == np.dtype(float).type`.\n",
      "  from ._conv import register_converters as _register_converters\n",
      "Using TensorFlow backend.\n"
     ]
    },
    {
     "name": "stdout",
     "output_type": "stream",
     "text": [
      "['retrain.py', '.ipynb_checkpoints', 'sem_finetuning.ipynb', 'dataset', 'Trabalho Final.ipynb']\n"
     ]
    }
   ],
   "source": [
    "# This Python 3 environment comes with many helpful analytics libraries installed\n",
    "# It is defined by the kaggle/python docker image: https://github.com/kaggle/docker-python\n",
    "# For example, here's several helpful packages to load in \n",
    "\n",
    "import numpy as np # linear algebra\n",
    "import pandas as pd # data processing, CSV file I/O (e.g. pd.read_csv)\n",
    "\n",
    "# Input data files are available in the \"../input/\" directory.\n",
    "# For example, running this (by clicking run or pressing Shift+Enter) will list the files in the input directory\n",
    "\n",
    "import os\n",
    "from os import listdir, makedirs\n",
    "import matplotlib.pyplot as plt\n",
    "from keras import layers, models, optimizers, regularizers, losses\n",
    "from keras.utils import to_categorical\n",
    "from keras.preprocessing.image import ImageDataGenerator\n",
    "from keras.applications.inception_v3 import InceptionV3\n",
    "from keras.models import Model, Sequential\n",
    "from keras.preprocessing import image\n",
    "from keras.datasets import mnist\n",
    "from keras.layers import Dense, GlobalAveragePooling2D, Flatten, Dropout\n",
    "from keras import backend as K\n",
    "\n",
    "import warnings\n",
    "warnings.filterwarnings('ignore')\n",
    "print(os.listdir(\"/home/yaagocruuz/Documentos/git/Topicos3/Trabalho Final/\"))"
   ]
  },
  {
   "cell_type": "code",
   "execution_count": 11,
   "metadata": {},
   "outputs": [
    {
     "name": "stdout",
     "output_type": "stream",
     "text": [
      "Found 228 images belonging to 11 classes.\n",
      "Found 53 images belonging to 11 classes.\n"
     ]
    }
   ],
   "source": [
    "RESOLUTION = 139\n",
    "BATCH_SIZE = 64\n",
    "\n",
    "\n",
    "data_datagen = ImageDataGenerator(rescale=1./255, shear_range=0.2, zoom_range=0.2,\n",
    "                                  horizontal_flip=True, validation_split=0.20)\n",
    "\n",
    "train_generator = data_datagen.flow_from_directory(\n",
    "        \"dataset/\",\n",
    "        classes=['Caroline_Kennedy', 'Edward_Moore_Kennedy', 'Eunice_Kennedy_Shriver', 'Jacqueline_Lee_Bouvier', \n",
    "                 'John_F_Kennedy_Jr', 'John_Fitzgerald_Kennedy', \n",
    "                 'Joseph_P_Kennedy_Sr', 'Robert_Francis_Kennedy', 'Rose_Elizabeth_Fitzgerald', \n",
    "                 'Rosemary_Kenndy', 'Outros'],\n",
    "        target_size=(RESOLUTION, RESOLUTION),\n",
    "        batch_size=BATCH_SIZE,\n",
    "        class_mode='categorical', subset=\"training\")\n",
    "\n",
    "val_generator = data_datagen.flow_from_directory(\n",
    "        \"dataset/\",\n",
    "        classes=['Caroline_Kennedy', 'Edward_Moore_Kennedy', 'Eunice_Kennedy_Shriver', 'Jacqueline_Lee_Bouvier', \n",
    "                 'John_F_Kennedy_Jr', 'John_Fitzgerald_Kennedy', \n",
    "                 'Joseph_P_Kennedy_Sr', 'Robert_Francis_Kennedy', 'Rose_Elizabeth_Fitzgerald', \n",
    "                 'Rosemary_Kenndy', 'Outros'],\n",
    "        target_size=(RESOLUTION, RESOLUTION),\n",
    "        batch_size=BATCH_SIZE,\n",
    "        class_mode='categorical', subset=\"validation\")"
   ]
  },
  {
   "cell_type": "code",
   "execution_count": 12,
   "metadata": {},
   "outputs": [
    {
     "data": {
      "text/plain": [
       "{'Caroline_Kennedy': 0,\n",
       " 'Edward_Moore_Kennedy': 1,\n",
       " 'Eunice_Kennedy_Shriver': 2,\n",
       " 'Jacqueline_Lee_Bouvier': 3,\n",
       " 'John_F_Kennedy_Jr': 4,\n",
       " 'John_Fitzgerald_Kennedy': 5,\n",
       " 'Joseph_P_Kennedy_Sr': 6,\n",
       " 'Robert_Francis_Kennedy': 7,\n",
       " 'Rose_Elizabeth_Fitzgerald': 8,\n",
       " 'Rosemary_Kenndy': 9,\n",
       " 'Outros': 10}"
      ]
     },
     "execution_count": 12,
     "metadata": {},
     "output_type": "execute_result"
    }
   ],
   "source": [
    "train_generator.class_indices"
   ]
  },
  {
   "cell_type": "code",
   "execution_count": 13,
   "metadata": {},
   "outputs": [],
   "source": [
    "model = InceptionV3(weights='imagenet', include_top=False, input_shape=(139, 139, 3))"
   ]
  },
  {
   "cell_type": "code",
   "execution_count": 14,
   "metadata": {},
   "outputs": [],
   "source": [
    "def inceptionV3_pretrained_model(model_inceptionV3):\n",
    "  \n",
    "    model = Sequential()\n",
    "    model.add(model_inceptionV3)\n",
    "    model.add(Flatten())\n",
    "    model.add(Dense(256, activation='relu'))\n",
    "    model.add(Dense(11, activation='softmax'))\n",
    "    model.summary()\n",
    "    model.compile(loss='categorical_crossentropy', optimizer=optimizers.RMSprop(lr=1e-5), metrics=['acc'])\n",
    "\n",
    "    return model"
   ]
  },
  {
   "cell_type": "code",
   "execution_count": 15,
   "metadata": {},
   "outputs": [
    {
     "name": "stdout",
     "output_type": "stream",
     "text": [
      "_________________________________________________________________\n",
      "Layer (type)                 Output Shape              Param #   \n",
      "=================================================================\n",
      "inception_v3 (Model)         (None, 3, 3, 2048)        21802784  \n",
      "_________________________________________________________________\n",
      "flatten_2 (Flatten)          (None, 18432)             0         \n",
      "_________________________________________________________________\n",
      "dense_3 (Dense)              (None, 256)               4718848   \n",
      "_________________________________________________________________\n",
      "dense_4 (Dense)              (None, 11)                2827      \n",
      "=================================================================\n",
      "Total params: 26,524,459\n",
      "Trainable params: 26,490,027\n",
      "Non-trainable params: 34,432\n",
      "_________________________________________________________________\n"
     ]
    }
   ],
   "source": [
    "final = inceptionV3_pretrained_model(model)"
   ]
  },
  {
   "cell_type": "code",
   "execution_count": 16,
   "metadata": {},
   "outputs": [
    {
     "name": "stdout",
     "output_type": "stream",
     "text": [
      "Epoch 1/50\n",
      "3/3 [==============================] - 74s 25s/step - loss: 2.5520 - acc: 0.1106 - val_loss: 2.3658 - val_acc: 0.1321\n",
      "Epoch 2/50\n",
      "3/3 [==============================] - 51s 17s/step - loss: 2.1892 - acc: 0.2252 - val_loss: 2.1360 - val_acc: 0.2830\n",
      "Epoch 3/50\n",
      "3/3 [==============================] - 41s 14s/step - loss: 2.1599 - acc: 0.2500 - val_loss: 2.2142 - val_acc: 0.2642\n",
      "Epoch 4/50\n",
      "3/3 [==============================] - 36s 12s/step - loss: 2.0796 - acc: 0.2663 - val_loss: 1.9229 - val_acc: 0.3019\n",
      "Epoch 5/50\n",
      "3/3 [==============================] - 34s 11s/step - loss: 1.9150 - acc: 0.3545 - val_loss: 2.0687 - val_acc: 0.2453\n",
      "Epoch 6/50\n",
      "3/3 [==============================] - 40s 13s/step - loss: 1.7763 - acc: 0.3906 - val_loss: 1.9747 - val_acc: 0.2830\n",
      "Epoch 7/50\n",
      "3/3 [==============================] - 31s 10s/step - loss: 1.8722 - acc: 0.3835 - val_loss: 1.9352 - val_acc: 0.3774\n",
      "Epoch 8/50\n",
      "3/3 [==============================] - 40s 13s/step - loss: 1.7138 - acc: 0.4688 - val_loss: 2.0284 - val_acc: 0.3208\n",
      "Epoch 9/50\n",
      "3/3 [==============================] - 39s 13s/step - loss: 1.5688 - acc: 0.5208 - val_loss: 1.7812 - val_acc: 0.4151\n",
      "Epoch 10/50\n",
      "3/3 [==============================] - 35s 12s/step - loss: 1.6692 - acc: 0.4468 - val_loss: 1.8522 - val_acc: 0.4717\n",
      "Epoch 11/50\n",
      "3/3 [==============================] - 35s 12s/step - loss: 1.4750 - acc: 0.5767 - val_loss: 1.8872 - val_acc: 0.3208\n",
      "Epoch 12/50\n",
      "3/3 [==============================] - 36s 12s/step - loss: 1.5715 - acc: 0.4926 - val_loss: 1.7927 - val_acc: 0.4340\n",
      "Epoch 13/50\n",
      "3/3 [==============================] - 39s 13s/step - loss: 1.3813 - acc: 0.6250 - val_loss: 1.5967 - val_acc: 0.4528\n",
      "Epoch 14/50\n",
      "3/3 [==============================] - 35s 12s/step - loss: 1.3480 - acc: 0.6123 - val_loss: 1.5707 - val_acc: 0.5094\n",
      "Epoch 15/50\n",
      "3/3 [==============================] - 35s 12s/step - loss: 1.2700 - acc: 0.6848 - val_loss: 1.6755 - val_acc: 0.4340\n",
      "Epoch 16/50\n",
      "3/3 [==============================] - 35s 12s/step - loss: 1.3409 - acc: 0.6134 - val_loss: 1.6304 - val_acc: 0.4717\n",
      "Epoch 17/50\n",
      "3/3 [==============================] - 34s 11s/step - loss: 1.1756 - acc: 0.6859 - val_loss: 1.6111 - val_acc: 0.3962\n",
      "Epoch 18/50\n",
      "3/3 [==============================] - 40s 13s/step - loss: 1.2009 - acc: 0.6788 - val_loss: 1.6215 - val_acc: 0.5283\n",
      "Epoch 19/50\n",
      "3/3 [==============================] - 40s 13s/step - loss: 1.1372 - acc: 0.6771 - val_loss: 1.5318 - val_acc: 0.4717\n",
      "Epoch 20/50\n",
      "3/3 [==============================] - 35s 12s/step - loss: 1.0899 - acc: 0.6944 - val_loss: 1.5143 - val_acc: 0.5660\n",
      "Epoch 21/50\n",
      "3/3 [==============================] - 35s 12s/step - loss: 1.0377 - acc: 0.7300 - val_loss: 1.5233 - val_acc: 0.5472\n",
      "Epoch 22/50\n",
      "3/3 [==============================] - 40s 13s/step - loss: 0.9428 - acc: 0.7760 - val_loss: 1.3860 - val_acc: 0.5660\n",
      "Epoch 23/50\n",
      "3/3 [==============================] - 30s 10s/step - loss: 1.1555 - acc: 0.6743 - val_loss: 1.4468 - val_acc: 0.5094\n",
      "Epoch 24/50\n",
      "3/3 [==============================] - 40s 13s/step - loss: 0.9364 - acc: 0.7760 - val_loss: 1.4659 - val_acc: 0.5094\n",
      "Epoch 25/50\n",
      "3/3 [==============================] - 35s 12s/step - loss: 0.8788 - acc: 0.7669 - val_loss: 1.5339 - val_acc: 0.5849\n",
      "Epoch 26/50\n",
      "3/3 [==============================] - 35s 12s/step - loss: 0.8435 - acc: 0.8304 - val_loss: 1.4778 - val_acc: 0.5094\n",
      "Epoch 27/50\n",
      "3/3 [==============================] - 40s 13s/step - loss: 0.8965 - acc: 0.7708 - val_loss: 1.3162 - val_acc: 0.6226\n",
      "Epoch 28/50\n",
      "3/3 [==============================] - 35s 12s/step - loss: 0.8156 - acc: 0.7863 - val_loss: 1.3905 - val_acc: 0.5660\n",
      "Epoch 29/50\n",
      "3/3 [==============================] - 34s 11s/step - loss: 0.8260 - acc: 0.8212 - val_loss: 1.3720 - val_acc: 0.5472\n",
      "Epoch 30/50\n",
      "3/3 [==============================] - 40s 13s/step - loss: 0.6661 - acc: 0.8698 - val_loss: 1.3539 - val_acc: 0.6038\n",
      "Epoch 31/50\n",
      "3/3 [==============================] - 36s 12s/step - loss: 0.7692 - acc: 0.8019 - val_loss: 1.2798 - val_acc: 0.5660\n",
      "Epoch 32/50\n",
      "3/3 [==============================] - 35s 12s/step - loss: 0.6343 - acc: 0.8732 - val_loss: 1.2880 - val_acc: 0.6038\n",
      "Epoch 33/50\n",
      "3/3 [==============================] - 39s 13s/step - loss: 0.6441 - acc: 0.8698 - val_loss: 1.2696 - val_acc: 0.6604\n",
      "Epoch 34/50\n",
      "3/3 [==============================] - 35s 12s/step - loss: 0.6090 - acc: 0.9064 - val_loss: 1.2000 - val_acc: 0.6415\n",
      "Epoch 35/50\n",
      "3/3 [==============================] - 35s 12s/step - loss: 0.6292 - acc: 0.8508 - val_loss: 1.3205 - val_acc: 0.5283\n",
      "Epoch 36/50\n",
      "3/3 [==============================] - 35s 12s/step - loss: 0.6495 - acc: 0.8532 - val_loss: 1.3676 - val_acc: 0.6038\n",
      "Epoch 37/50\n",
      "3/3 [==============================] - 35s 12s/step - loss: 0.5650 - acc: 0.8599 - val_loss: 1.1820 - val_acc: 0.5472\n",
      "Epoch 38/50\n",
      "3/3 [==============================] - 35s 12s/step - loss: 0.5466 - acc: 0.8823 - val_loss: 1.3021 - val_acc: 0.5472\n",
      "Epoch 39/50\n",
      "3/3 [==============================] - 40s 13s/step - loss: 0.5207 - acc: 0.9062 - val_loss: 1.3067 - val_acc: 0.5849\n",
      "Epoch 40/50\n",
      "3/3 [==============================] - 35s 12s/step - loss: 0.4760 - acc: 0.9040 - val_loss: 1.3742 - val_acc: 0.5283\n",
      "Epoch 41/50\n",
      "3/3 [==============================] - 34s 11s/step - loss: 0.4200 - acc: 0.9203 - val_loss: 1.0965 - val_acc: 0.6226\n",
      "Epoch 42/50\n",
      "3/3 [==============================] - 35s 12s/step - loss: 0.4713 - acc: 0.8708 - val_loss: 1.2343 - val_acc: 0.5849\n",
      "Epoch 43/50\n",
      "3/3 [==============================] - 40s 13s/step - loss: 0.4507 - acc: 0.9271 - val_loss: 1.3239 - val_acc: 0.5660\n",
      "Epoch 44/50\n",
      "3/3 [==============================] - 35s 12s/step - loss: 0.4936 - acc: 0.9125 - val_loss: 1.4323 - val_acc: 0.5283\n",
      "Epoch 45/50\n",
      "3/3 [==============================] - 34s 11s/step - loss: 0.3993 - acc: 0.9396 - val_loss: 1.2040 - val_acc: 0.5849\n",
      "Epoch 46/50\n",
      "3/3 [==============================] - 35s 12s/step - loss: 0.4180 - acc: 0.9094 - val_loss: 1.0988 - val_acc: 0.6604\n",
      "Epoch 47/50\n",
      "3/3 [==============================] - 40s 13s/step - loss: 0.3631 - acc: 0.9271 - val_loss: 1.2158 - val_acc: 0.6415\n",
      "Epoch 48/50\n",
      "3/3 [==============================] - 35s 12s/step - loss: 0.3400 - acc: 0.9288 - val_loss: 1.2032 - val_acc: 0.6038\n",
      "Epoch 49/50\n",
      "3/3 [==============================] - 35s 12s/step - loss: 0.3229 - acc: 0.9511 - val_loss: 1.3071 - val_acc: 0.6226\n",
      "Epoch 50/50\n",
      "3/3 [==============================] - 35s 12s/step - loss: 0.3675 - acc: 0.9359 - val_loss: 1.0371 - val_acc: 0.6604\n"
     ]
    }
   ],
   "source": [
    "N_TRAIN = 228\n",
    "N_VAL = 53\n",
    "\n",
    "history = final.fit_generator(\n",
    "        train_generator,\n",
    "        steps_per_epoch=(N_TRAIN // BATCH_SIZE),\n",
    "        epochs=50,\n",
    "        validation_data=val_generator,\n",
    "        validation_steps=(N_VAL // BATCH_SIZE) \n",
    "    )"
   ]
  },
  {
   "cell_type": "code",
   "execution_count": 17,
   "metadata": {},
   "outputs": [
    {
     "data": {
      "image/png": "[encoded data removed]",
      "text/plain": [
       "<Figure size 432x288 with 1 Axes>"
      ]
     },
     "metadata": {},
     "output_type": "display_data"
    },
    {
     "data": {
      "image/png": "[encoded data removed]",
      "text/plain": [
       "<Figure size 432x288 with 1 Axes>"
      ]
     },
     "metadata": {},
     "output_type": "display_data"
    }
   ],
   "source": [
    "acc = history.history['acc']\n",
    "val_acc = history.history['val_acc']\n",
    "loss = history.history['loss']\n",
    "val_loss = history.history['val_loss']\n",
    "epochs = range(1, len(acc) + 1)\n",
    "plt.plot(epochs, acc, 'bo', label='Training acc')\n",
    "plt.plot(epochs, val_acc, 'b', label='Validation acc')\n",
    "plt.title('Training and validation accuracy')\n",
    "plt.legend()\n",
    "plt.figure()\n",
    "plt.plot(epochs, loss, 'bo', label='Training loss')\n",
    "plt.plot(epochs, val_loss, 'b', label='Validation loss')\n",
    "plt.title('Training and validation loss')\n",
    "plt.legend()\n",
    "plt.show()"
   ]
  },
  {
   "cell_type": "code",
   "execution_count": null,
   "metadata": {},
   "outputs": [],
   "source": []
  }
 ],
 "metadata": {
  "kernelspec": {
   "display_name": "Python 3",
   "language": "python",
   "name": "python3"
  },
  "language_info": {
   "codemirror_mode": {
    "name": "ipython",
    "version": 3
   },
   "file_extension": ".py",
   "mimetype": "text/x-python",
   "name": "python",
   "nbconvert_exporter": "python",
   "pygments_lexer": "ipython3",
   "version": "3.6.5"
  }
 },
 "nbformat": 4,
 "nbformat_minor": 2
}
