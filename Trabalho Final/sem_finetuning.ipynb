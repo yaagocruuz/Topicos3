{
 "cells": [
  {
   "cell_type": "code",
   "execution_count": 1,
   "metadata": {},
   "outputs": [
    {
     "name": "stderr",
     "output_type": "stream",
     "text": [
      "/home/yaagocruuz/anaconda3/lib/python3.6/site-packages/h5py/__init__.py:36: FutureWarning: Conversion of the second argument of issubdtype from `float` to `np.floating` is deprecated. In future, it will be treated as `np.float64 == np.dtype(float).type`.\n",
      "  from ._conv import register_converters as _register_converters\n",
      "Using TensorFlow backend.\n"
     ]
    },
    {
     "name": "stdout",
     "output_type": "stream",
     "text": [
      "['retrain.py', '.ipynb_checkpoints', 'sem_finetuning.ipynb', 'dataset', 'predict', 'Trabalho Final.ipynb']\n"
     ]
    }
   ],
   "source": [
    "# This Python 3 environment comes with many helpful analytics libraries installed\n",
    "# It is defined by the kaggle/python docker image: https://github.com/kaggle/docker-python\n",
    "# For example, here's several helpful packages to load in \n",
    "\n",
    "import numpy as np # linear algebra\n",
    "import pandas as pd # data processing, CSV file I/O (e.g. pd.read_csv)\n",
    "\n",
    "# Input data files are available in the \"../input/\" directory.\n",
    "# For example, running this (by clicking run or pressing Shift+Enter) will list the files in the input directory\n",
    "\n",
    "import os\n",
    "from os import listdir, makedirs\n",
    "import matplotlib.pyplot as plt\n",
    "from keras import layers, models, optimizers, regularizers, losses\n",
    "from keras.utils import to_categorical\n",
    "from keras.preprocessing.image import ImageDataGenerator\n",
    "from keras.applications.inception_v3 import InceptionV3\n",
    "from keras.models import Model, Sequential\n",
    "from keras.preprocessing import image\n",
    "from keras.datasets import mnist\n",
    "from keras.layers import Dense, GlobalAveragePooling2D, Flatten, Dropout\n",
    "from keras import backend as K\n",
    "\n",
    "import warnings\n",
    "warnings.filterwarnings('ignore')\n",
    "print(os.listdir(\"/home/yaagocruuz/Documentos/git/Topicos3/Trabalho Final/\"))"
   ]
  },
  {
   "cell_type": "code",
   "execution_count": 2,
   "metadata": {},
   "outputs": [
    {
     "name": "stdout",
     "output_type": "stream",
     "text": [
      "Found 228 images belonging to 11 classes.\n",
      "Found 53 images belonging to 11 classes.\n"
     ]
    }
   ],
   "source": [
    "RESOLUTION = 139\n",
    "BATCH_SIZE = 64\n",
    "\n",
    "\n",
    "data_datagen = ImageDataGenerator(rescale=1./255, shear_range=0.2, zoom_range=0.2,\n",
    "                                  horizontal_flip=True, validation_split=0.20)\n",
    "\n",
    "train_generator = data_datagen.flow_from_directory(\n",
    "        \"dataset/\",\n",
    "        classes=['Caroline_Kennedy', 'Edward_Moore_Kennedy',\n",
    "                 'Eunice_Kennedy_Shriver','Jacqueline_Lee_Bouvier',\n",
    "                 'John_Fitzgerald_Kennedy', 'John_F_Kennedy_Jr',\n",
    "                 'Joseph_P_Kennedy_Sr', 'Outros', \n",
    "                 'Robert_Francis_Kennedy','Rose_Elizabeth_Fitzgerald', \n",
    "                 'Rosemary_Kenndy'],\n",
    "        target_size=(RESOLUTION, RESOLUTION),\n",
    "        batch_size=BATCH_SIZE,\n",
    "        class_mode='categorical', subset=\"training\")\n",
    "\n",
    "val_generator = data_datagen.flow_from_directory(\n",
    "        \"dataset/\",\n",
    "        classes=['Caroline_Kennedy', 'Edward_Moore_Kennedy',\n",
    "                 'Eunice_Kennedy_Shriver','Jacqueline_Lee_Bouvier',\n",
    "                 'John_Fitzgerald_Kennedy', 'John_F_Kennedy_Jr',\n",
    "                 'Joseph_P_Kennedy_Sr', 'Outros', \n",
    "                 'Robert_Francis_Kennedy','Rose_Elizabeth_Fitzgerald', \n",
    "                 'Rosemary_Kenndy'],\n",
    "        target_size=(RESOLUTION, RESOLUTION),\n",
    "        batch_size=BATCH_SIZE,\n",
    "        class_mode='categorical', subset=\"validation\")"
   ]
  },
  {
   "cell_type": "code",
   "execution_count": 3,
   "metadata": {},
   "outputs": [
    {
     "data": {
      "text/plain": [
       "{'Caroline_Kennedy': 0,\n",
       " 'Edward_Moore_Kennedy': 1,\n",
       " 'Eunice_Kennedy_Shriver': 2,\n",
       " 'Jacqueline_Lee_Bouvier': 3,\n",
       " 'John_Fitzgerald_Kennedy': 4,\n",
       " 'John_F_Kennedy_Jr': 5,\n",
       " 'Joseph_P_Kennedy_Sr': 6,\n",
       " 'Outros': 7,\n",
       " 'Robert_Francis_Kennedy': 8,\n",
       " 'Rose_Elizabeth_Fitzgerald': 9,\n",
       " 'Rosemary_Kenndy': 10}"
      ]
     },
     "execution_count": 3,
     "metadata": {},
     "output_type": "execute_result"
    }
   ],
   "source": [
    "train_generator.class_indices"
   ]
  },
  {
   "cell_type": "code",
   "execution_count": 4,
   "metadata": {},
   "outputs": [],
   "source": [
    "model = InceptionV3(weights='imagenet', include_top=False, input_shape=(139, 139, 3))"
   ]
  },
  {
   "cell_type": "code",
   "execution_count": 5,
   "metadata": {},
   "outputs": [],
   "source": [
    "def inceptionV3_pretrained_model(model_inceptionV3):\n",
    "  \n",
    "    model = Sequential()\n",
    "    model.add(model_inceptionV3)\n",
    "    model.add(Flatten())\n",
    "    model.add(Dense(256, activation='relu'))\n",
    "    model.add(Dense(11, activation='softmax'))\n",
    "    model.summary()\n",
    "    model.compile(loss='categorical_crossentropy', optimizer=optimizers.RMSprop(lr=1e-5), metrics=['acc'])\n",
    "\n",
    "    return model"
   ]
  },
  {
   "cell_type": "code",
   "execution_count": 6,
   "metadata": {},
   "outputs": [
    {
     "name": "stdout",
     "output_type": "stream",
     "text": [
      "_________________________________________________________________\n",
      "Layer (type)                 Output Shape              Param #   \n",
      "=================================================================\n",
      "inception_v3 (Model)         (None, 3, 3, 2048)        21802784  \n",
      "_________________________________________________________________\n",
      "flatten_1 (Flatten)          (None, 18432)             0         \n",
      "_________________________________________________________________\n",
      "dense_1 (Dense)              (None, 256)               4718848   \n",
      "_________________________________________________________________\n",
      "dense_2 (Dense)              (None, 11)                2827      \n",
      "=================================================================\n",
      "Total params: 26,524,459\n",
      "Trainable params: 26,490,027\n",
      "Non-trainable params: 34,432\n",
      "_________________________________________________________________\n"
     ]
    }
   ],
   "source": [
    "final = inceptionV3_pretrained_model(model)"
   ]
  },
  {
   "cell_type": "code",
   "execution_count": 7,
   "metadata": {},
   "outputs": [
    {
     "name": "stdout",
     "output_type": "stream",
     "text": [
      "Epoch 1/100\n",
      "3/3 [==============================] - 57s 19s/step - loss: 2.4697 - acc: 0.1406 - val_loss: 2.2499 - val_acc: 0.2264\n",
      "Epoch 2/100\n",
      "3/3 [==============================] - 30s 10s/step - loss: 2.1401 - acc: 0.2608 - val_loss: 2.0694 - val_acc: 0.2453\n",
      "Epoch 3/100\n",
      "3/3 [==============================] - 35s 12s/step - loss: 2.1159 - acc: 0.2687 - val_loss: 2.1268 - val_acc: 0.2453\n",
      "Epoch 4/100\n",
      "3/3 [==============================] - 40s 13s/step - loss: 2.0309 - acc: 0.2917 - val_loss: 2.1404 - val_acc: 0.2453\n",
      "Epoch 5/100\n",
      "3/3 [==============================] - 34s 11s/step - loss: 1.9058 - acc: 0.3454 - val_loss: 1.9241 - val_acc: 0.3396\n",
      "Epoch 6/100\n",
      "3/3 [==============================] - 40s 13s/step - loss: 1.8523 - acc: 0.3750 - val_loss: 2.0128 - val_acc: 0.3208\n",
      "Epoch 7/100\n",
      "3/3 [==============================] - 31s 10s/step - loss: 1.7319 - acc: 0.3926 - val_loss: 1.9161 - val_acc: 0.3962\n",
      "Epoch 8/100\n",
      "3/3 [==============================] - 40s 13s/step - loss: 1.6825 - acc: 0.4688 - val_loss: 1.9266 - val_acc: 0.3396\n",
      "Epoch 9/100\n",
      "3/3 [==============================] - 39s 13s/step - loss: 1.6067 - acc: 0.5104 - val_loss: 1.7717 - val_acc: 0.3962\n",
      "Epoch 10/100\n",
      "3/3 [==============================] - 35s 12s/step - loss: 1.4500 - acc: 0.5954 - val_loss: 1.7548 - val_acc: 0.3396\n",
      "Epoch 11/100\n",
      "3/3 [==============================] - 35s 12s/step - loss: 1.5268 - acc: 0.5441 - val_loss: 1.7299 - val_acc: 0.4906\n",
      "Epoch 12/100\n",
      "3/3 [==============================] - 35s 12s/step - loss: 1.5052 - acc: 0.5217 - val_loss: 1.7696 - val_acc: 0.4717\n",
      "Epoch 13/100\n",
      "3/3 [==============================] - 39s 13s/step - loss: 1.3880 - acc: 0.6094 - val_loss: 1.7140 - val_acc: 0.3962\n",
      "Epoch 14/100\n",
      "3/3 [==============================] - 31s 10s/step - loss: 1.3487 - acc: 0.5578 - val_loss: 1.6983 - val_acc: 0.5094\n",
      "Epoch 15/100\n",
      "3/3 [==============================] - 36s 12s/step - loss: 1.3648 - acc: 0.6436 - val_loss: 1.7030 - val_acc: 0.4528\n",
      "Epoch 16/100\n",
      "3/3 [==============================] - 40s 13s/step - loss: 1.2034 - acc: 0.6979 - val_loss: 1.6584 - val_acc: 0.5094\n",
      "Epoch 17/100\n",
      "3/3 [==============================] - 34s 11s/step - loss: 1.2144 - acc: 0.6768 - val_loss: 1.5156 - val_acc: 0.5472\n",
      "Epoch 18/100\n",
      "3/3 [==============================] - 35s 12s/step - loss: 1.1525 - acc: 0.7066 - val_loss: 1.6518 - val_acc: 0.4717\n",
      "Epoch 19/100\n",
      "3/3 [==============================] - 35s 12s/step - loss: 1.1539 - acc: 0.6927 - val_loss: 1.6635 - val_acc: 0.4717\n",
      "Epoch 20/100\n",
      "3/3 [==============================] - 40s 13s/step - loss: 1.0306 - acc: 0.7708 - val_loss: 1.4732 - val_acc: 0.4906\n",
      "Epoch 21/100\n",
      "3/3 [==============================] - 34s 11s/step - loss: 1.0336 - acc: 0.7904 - val_loss: 1.4526 - val_acc: 0.5283\n",
      "Epoch 22/100\n",
      "3/3 [==============================] - 35s 12s/step - loss: 1.0023 - acc: 0.7693 - val_loss: 1.4239 - val_acc: 0.6038\n",
      "Epoch 23/100\n",
      "3/3 [==============================] - 40s 13s/step - loss: 0.9275 - acc: 0.8073 - val_loss: 1.4816 - val_acc: 0.5660\n",
      "Epoch 24/100\n",
      "3/3 [==============================] - 36s 12s/step - loss: 0.9776 - acc: 0.7693 - val_loss: 1.4761 - val_acc: 0.6038\n",
      "Epoch 25/100\n",
      "3/3 [==============================] - 39s 13s/step - loss: 0.8492 - acc: 0.8125 - val_loss: 1.4708 - val_acc: 0.5283\n",
      "Epoch 26/100\n",
      "3/3 [==============================] - 36s 12s/step - loss: 0.8820 - acc: 0.8375 - val_loss: 1.4195 - val_acc: 0.5472\n",
      "Epoch 27/100\n",
      "3/3 [==============================] - 35s 12s/step - loss: 0.8747 - acc: 0.8006 - val_loss: 1.4423 - val_acc: 0.6038\n",
      "Epoch 28/100\n",
      "3/3 [==============================] - 36s 12s/step - loss: 0.7695 - acc: 0.8430 - val_loss: 1.2726 - val_acc: 0.6981\n",
      "Epoch 29/100\n",
      "3/3 [==============================] - 35s 12s/step - loss: 0.8532 - acc: 0.8097 - val_loss: 1.2957 - val_acc: 0.6415\n",
      "Epoch 30/100\n",
      "3/3 [==============================] - 38s 13s/step - loss: 0.6656 - acc: 0.8738 - val_loss: 1.3877 - val_acc: 0.6038\n",
      "Epoch 31/100\n",
      "3/3 [==============================] - 40s 13s/step - loss: 0.7454 - acc: 0.8177 - val_loss: 1.3608 - val_acc: 0.5849\n",
      "Epoch 32/100\n",
      "3/3 [==============================] - 36s 12s/step - loss: 0.7007 - acc: 0.8762 - val_loss: 1.1663 - val_acc: 0.6604\n",
      "Epoch 33/100\n",
      "3/3 [==============================] - 39s 13s/step - loss: 0.6342 - acc: 0.8542 - val_loss: 1.3166 - val_acc: 0.6226\n",
      "Epoch 34/100\n",
      "3/3 [==============================] - 35s 12s/step - loss: 0.6533 - acc: 0.8768 - val_loss: 1.1976 - val_acc: 0.6792\n",
      "Epoch 35/100\n",
      "3/3 [==============================] - 36s 12s/step - loss: 0.5529 - acc: 0.9118 - val_loss: 1.2901 - val_acc: 0.6604\n",
      "Epoch 36/100\n",
      "3/3 [==============================] - 35s 12s/step - loss: 0.5880 - acc: 0.8792 - val_loss: 1.3138 - val_acc: 0.5849\n",
      "Epoch 37/100\n",
      "3/3 [==============================] - 34s 11s/step - loss: 0.5306 - acc: 0.9203 - val_loss: 1.1784 - val_acc: 0.6226\n",
      "Epoch 38/100\n",
      "3/3 [==============================] - 35s 12s/step - loss: 0.4909 - acc: 0.9125 - val_loss: 1.1914 - val_acc: 0.6604\n",
      "Epoch 39/100\n",
      "3/3 [==============================] - 40s 13s/step - loss: 0.5598 - acc: 0.8750 - val_loss: 1.3078 - val_acc: 0.5472\n",
      "Epoch 40/100\n",
      "3/3 [==============================] - 37s 12s/step - loss: 0.4642 - acc: 0.9016 - val_loss: 1.1986 - val_acc: 0.5849\n",
      "Epoch 41/100\n",
      "3/3 [==============================] - 34s 11s/step - loss: 0.4736 - acc: 0.8768 - val_loss: 1.3351 - val_acc: 0.5472\n",
      "Epoch 42/100\n",
      "3/3 [==============================] - 40s 13s/step - loss: 0.5007 - acc: 0.8958 - val_loss: 1.1543 - val_acc: 0.6415\n",
      "Epoch 43/100\n",
      "3/3 [==============================] - 35s 12s/step - loss: 0.3724 - acc: 0.9505 - val_loss: 1.1094 - val_acc: 0.6604\n",
      "Epoch 44/100\n",
      "3/3 [==============================] - 36s 12s/step - loss: 0.4646 - acc: 0.8840 - val_loss: 1.3585 - val_acc: 0.6038\n",
      "Epoch 45/100\n",
      "3/3 [==============================] - 34s 11s/step - loss: 0.3902 - acc: 0.9427 - val_loss: 1.2089 - val_acc: 0.6604\n",
      "Epoch 46/100\n",
      "3/3 [==============================] - 35s 12s/step - loss: 0.4259 - acc: 0.9033 - val_loss: 1.1792 - val_acc: 0.6604\n",
      "Epoch 47/100\n",
      "3/3 [==============================] - 40s 13s/step - loss: 0.3157 - acc: 0.9531 - val_loss: 1.2124 - val_acc: 0.6226\n",
      "Epoch 48/100\n",
      "3/3 [==============================] - 35s 12s/step - loss: 0.3174 - acc: 0.9366 - val_loss: 1.1446 - val_acc: 0.6792\n",
      "Epoch 49/100\n",
      "3/3 [==============================] - 39s 13s/step - loss: 0.3210 - acc: 0.9427 - val_loss: 1.0891 - val_acc: 0.6792\n",
      "Epoch 50/100\n",
      "3/3 [==============================] - 31s 10s/step - loss: 0.2902 - acc: 0.9595 - val_loss: 1.0908 - val_acc: 0.7170\n",
      "Epoch 51/100\n",
      "3/3 [==============================] - 40s 13s/step - loss: 0.2217 - acc: 0.9844 - val_loss: 1.1277 - val_acc: 0.6604\n",
      "Epoch 52/100\n",
      "3/3 [==============================] - 35s 12s/step - loss: 0.3213 - acc: 0.9227 - val_loss: 1.1854 - val_acc: 0.6604\n",
      "Epoch 53/100\n",
      "3/3 [==============================] - 34s 11s/step - loss: 0.2439 - acc: 0.9752 - val_loss: 1.3194 - val_acc: 0.5472\n",
      "Epoch 54/100\n",
      "3/3 [==============================] - 35s 12s/step - loss: 0.2801 - acc: 0.9372 - val_loss: 1.1783 - val_acc: 0.6038\n",
      "Epoch 55/100\n",
      "3/3 [==============================] - 40s 13s/step - loss: 0.2242 - acc: 0.9531 - val_loss: 1.2038 - val_acc: 0.6415\n",
      "Epoch 56/100\n",
      "3/3 [==============================] - 35s 12s/step - loss: 0.2311 - acc: 0.9776 - val_loss: 1.0822 - val_acc: 0.6226\n",
      "Epoch 57/100\n",
      "3/3 [==============================] - 39s 13s/step - loss: 0.1896 - acc: 0.9688 - val_loss: 1.2448 - val_acc: 0.5472\n",
      "Epoch 58/100\n",
      "3/3 [==============================] - 35s 12s/step - loss: 0.2084 - acc: 0.9752 - val_loss: 1.0387 - val_acc: 0.6981\n",
      "Epoch 59/100\n",
      "3/3 [==============================] - 35s 12s/step - loss: 0.1827 - acc: 0.9752 - val_loss: 1.1494 - val_acc: 0.6038\n",
      "Epoch 60/100\n",
      "3/3 [==============================] - 35s 12s/step - loss: 0.1828 - acc: 0.9776 - val_loss: 0.9692 - val_acc: 0.7358\n",
      "Epoch 61/100\n",
      "3/3 [==============================] - 34s 11s/step - loss: 0.1447 - acc: 0.9915 - val_loss: 1.1373 - val_acc: 0.6604\n",
      "Epoch 62/100\n",
      "3/3 [==============================] - 40s 13s/step - loss: 0.1363 - acc: 0.9740 - val_loss: 1.2272 - val_acc: 0.6604\n",
      "Epoch 63/100\n",
      "3/3 [==============================] - 35s 12s/step - loss: 0.1489 - acc: 0.9752 - val_loss: 1.1189 - val_acc: 0.6604\n",
      "Epoch 64/100\n",
      "3/3 [==============================] - 35s 12s/step - loss: 0.1948 - acc: 0.9566 - val_loss: 1.0761 - val_acc: 0.6792\n",
      "Epoch 65/100\n",
      "3/3 [==============================] - 34s 11s/step - loss: 0.1499 - acc: 0.9783 - val_loss: 1.1543 - val_acc: 0.6604\n",
      "Epoch 66/100\n",
      "3/3 [==============================] - 35s 12s/step - loss: 0.0970 - acc: 1.0000 - val_loss: 1.1372 - val_acc: 0.6038\n",
      "Epoch 67/100\n",
      "3/3 [==============================] - 40s 13s/step - loss: 0.1126 - acc: 0.9844 - val_loss: 1.4183 - val_acc: 0.6038\n",
      "Epoch 68/100\n",
      "3/3 [==============================] - 35s 12s/step - loss: 0.1543 - acc: 0.9807 - val_loss: 1.3171 - val_acc: 0.6038\n",
      "Epoch 69/100\n",
      "3/3 [==============================] - 34s 11s/step - loss: 0.0916 - acc: 0.9891 - val_loss: 1.0648 - val_acc: 0.6604\n",
      "Epoch 70/100\n",
      "3/3 [==============================] - 40s 13s/step - loss: 0.0996 - acc: 0.9896 - val_loss: 1.1159 - val_acc: 0.6981\n",
      "Epoch 71/100\n",
      "3/3 [==============================] - 35s 12s/step - loss: 0.0830 - acc: 0.9861 - val_loss: 1.1376 - val_acc: 0.6226\n",
      "Epoch 72/100\n",
      "3/3 [==============================] - 35s 12s/step - loss: 0.0772 - acc: 0.9915 - val_loss: 1.0166 - val_acc: 0.6981\n",
      "Epoch 73/100\n",
      "3/3 [==============================] - 39s 13s/step - loss: 0.0959 - acc: 0.9896 - val_loss: 1.0316 - val_acc: 0.6981\n",
      "Epoch 74/100\n",
      "3/3 [==============================] - 36s 12s/step - loss: 0.0853 - acc: 0.9946 - val_loss: 1.3538 - val_acc: 0.6038\n",
      "Epoch 75/100\n",
      "3/3 [==============================] - 35s 12s/step - loss: 0.0716 - acc: 0.9891 - val_loss: 1.1434 - val_acc: 0.6415\n",
      "Epoch 76/100\n",
      "3/3 [==============================] - 35s 12s/step - loss: 0.0870 - acc: 0.9891 - val_loss: 1.0122 - val_acc: 0.6604\n",
      "Epoch 77/100\n",
      "3/3 [==============================] - 39s 13s/step - loss: 0.0545 - acc: 0.9896 - val_loss: 1.1096 - val_acc: 0.6792\n",
      "Epoch 78/100\n",
      "3/3 [==============================] - 31s 10s/step - loss: 0.0754 - acc: 0.9943 - val_loss: 1.1605 - val_acc: 0.6038\n",
      "Epoch 79/100\n",
      "3/3 [==============================] - 40s 13s/step - loss: 0.0419 - acc: 0.9948 - val_loss: 0.9353 - val_acc: 0.6981\n",
      "Epoch 80/100\n",
      "3/3 [==============================] - 35s 12s/step - loss: 0.0450 - acc: 1.0000 - val_loss: 1.3272 - val_acc: 0.6792\n",
      "Epoch 81/100\n",
      "3/3 [==============================] - 34s 11s/step - loss: 0.0627 - acc: 1.0000 - val_loss: 0.9985 - val_acc: 0.6792\n",
      "Epoch 82/100\n",
      "3/3 [==============================] - 35s 12s/step - loss: 0.1197 - acc: 0.9613 - val_loss: 1.1231 - val_acc: 0.6792\n",
      "Epoch 83/100\n",
      "3/3 [==============================] - 40s 13s/step - loss: 0.0350 - acc: 1.0000 - val_loss: 1.1396 - val_acc: 0.7170\n",
      "Epoch 84/100\n",
      "3/3 [==============================] - 35s 12s/step - loss: 0.0342 - acc: 1.0000 - val_loss: 1.0377 - val_acc: 0.6981\n",
      "Epoch 85/100\n",
      "3/3 [==============================] - 39s 13s/step - loss: 0.0527 - acc: 0.9792 - val_loss: 1.0797 - val_acc: 0.6604\n",
      "Epoch 86/100\n",
      "3/3 [==============================] - 35s 12s/step - loss: 0.0232 - acc: 1.0000 - val_loss: 1.1510 - val_acc: 0.6604\n",
      "Epoch 87/100\n",
      "3/3 [==============================] - 30s 10s/step - loss: 0.0496 - acc: 0.9912 - val_loss: 1.0088 - val_acc: 0.6604\n",
      "Epoch 88/100\n",
      "3/3 [==============================] - 40s 13s/step - loss: 0.0407 - acc: 0.9896 - val_loss: 1.3549 - val_acc: 0.6415\n",
      "Epoch 89/100\n",
      "3/3 [==============================] - 34s 11s/step - loss: 0.0589 - acc: 0.9891 - val_loss: 1.1238 - val_acc: 0.6981\n",
      "Epoch 90/100\n",
      "3/3 [==============================] - 35s 12s/step - loss: 0.0255 - acc: 1.0000 - val_loss: 1.1419 - val_acc: 0.7547\n",
      "Epoch 91/100\n",
      "3/3 [==============================] - 40s 13s/step - loss: 0.0343 - acc: 1.0000 - val_loss: 1.1764 - val_acc: 0.6792\n",
      "Epoch 92/100\n",
      "3/3 [==============================] - 35s 12s/step - loss: 0.0475 - acc: 0.9946 - val_loss: 1.0114 - val_acc: 0.6792\n",
      "Epoch 93/100\n",
      "3/3 [==============================] - 34s 11s/step - loss: 0.0354 - acc: 1.0000 - val_loss: 1.2024 - val_acc: 0.6226\n",
      "Epoch 94/100\n",
      "3/3 [==============================] - 35s 12s/step - loss: 0.0376 - acc: 0.9946 - val_loss: 1.0651 - val_acc: 0.7170\n",
      "Epoch 95/100\n",
      "3/3 [==============================] - 40s 13s/step - loss: 0.0250 - acc: 1.0000 - val_loss: 1.1167 - val_acc: 0.7170\n",
      "Epoch 96/100\n",
      "3/3 [==============================] - 35s 12s/step - loss: 0.0495 - acc: 0.9915 - val_loss: 1.0129 - val_acc: 0.6792\n",
      "Epoch 97/100\n",
      "3/3 [==============================] - 34s 11s/step - loss: 0.0308 - acc: 0.9946 - val_loss: 1.0933 - val_acc: 0.6038\n",
      "Epoch 98/100\n",
      "3/3 [==============================] - 35s 12s/step - loss: 0.0311 - acc: 0.9891 - val_loss: 1.1810 - val_acc: 0.7170\n",
      "Epoch 99/100\n",
      "3/3 [==============================] - 40s 13s/step - loss: 0.0259 - acc: 1.0000 - val_loss: 1.3397 - val_acc: 0.6038\n",
      "Epoch 100/100\n",
      "3/3 [==============================] - 36s 12s/step - loss: 0.0728 - acc: 0.9891 - val_loss: 1.0422 - val_acc: 0.6604\n"
     ]
    }
   ],
   "source": [
    "N_TRAIN = 228\n",
    "N_VAL = 53\n",
    "\n",
    "history = final.fit_generator(\n",
    "        train_generator,\n",
    "        steps_per_epoch=(N_TRAIN // BATCH_SIZE),\n",
    "        epochs=100,\n",
    "        validation_data=val_generator,\n",
    "        validation_steps=(N_VAL // BATCH_SIZE) \n",
    "    )"
   ]
  },
  {
   "cell_type": "code",
   "execution_count": 8,
   "metadata": {},
   "outputs": [
    {
     "data": {
      "image/png": "[encoded data removed]",
      "text/plain": [
       "<Figure size 432x288 with 1 Axes>"
      ]
     },
     "metadata": {},
     "output_type": "display_data"
    },
    {
     "data": {
      "image/png": "[encoded data removed]",
      "text/plain": [
       "<Figure size 432x288 with 1 Axes>"
      ]
     },
     "metadata": {},
     "output_type": "display_data"
    }
   ],
   "source": [
    "acc = history.history['acc']\n",
    "val_acc = history.history['val_acc']\n",
    "loss = history.history['loss']\n",
    "val_loss = history.history['val_loss']\n",
    "epochs = range(1, len(acc) + 1)\n",
    "plt.plot(epochs, acc, 'bo', label='Training acc')\n",
    "plt.plot(epochs, val_acc, 'b', label='Validation acc')\n",
    "plt.title('Training and validation accuracy')\n",
    "plt.legend()\n",
    "plt.figure()\n",
    "plt.plot(epochs, loss, 'bo', label='Training loss')\n",
    "plt.plot(epochs, val_loss, 'b', label='Validation loss')\n",
    "plt.title('Training and validation loss')\n",
    "plt.legend()\n",
    "plt.show()"
   ]
  },
  {
   "cell_type": "code",
   "execution_count": 10,
   "metadata": {},
   "outputs": [],
   "source": [
    "from keras.applications.inception_v3 import preprocess_input, decode_predictions\n",
    "from keras.preprocessing import image\n",
    "from PIL import Image\n",
    "import glob\n",
    "image_list = []\n",
    "for filename in glob.glob('/home/yaagocruuz/Documentos/git/Topicos3/Trabalho Final/predict/*.jpg'): #assuming gif\n",
    "    img=image.load_img(filename, target_size=(139,139))\n",
    "    x = image.img_to_array(img)\n",
    "    x = np.expand_dims(x, axis=0)\n",
    "    x = preprocess_input(x)\n",
    "    image_list.append(x)"
   ]
  },
  {
   "cell_type": "code",
   "execution_count": 11,
   "metadata": {},
   "outputs": [
    {
     "data": {
      "text/plain": [
       "{'Caroline_Kennedy': 0,\n",
       " 'Edward_Moore_Kennedy': 1,\n",
       " 'Eunice_Kennedy_Shriver': 2,\n",
       " 'Jacqueline_Lee_Bouvier': 3,\n",
       " 'John_Fitzgerald_Kennedy': 4,\n",
       " 'John_F_Kennedy_Jr': 5,\n",
       " 'Joseph_P_Kennedy_Sr': 6,\n",
       " 'Outros': 7,\n",
       " 'Robert_Francis_Kennedy': 8,\n",
       " 'Rose_Elizabeth_Fitzgerald': 9,\n",
       " 'Rosemary_Kenndy': 10}"
      ]
     },
     "execution_count": 11,
     "metadata": {},
     "output_type": "execute_result"
    }
   ],
   "source": [
    "train_generator.class_indices"
   ]
  },
  {
   "cell_type": "code",
   "execution_count": 12,
   "metadata": {},
   "outputs": [
    {
     "name": "stdout",
     "output_type": "stream",
     "text": [
      "Real :  Caroline_Kennedy : 0\n",
      "Pred :  [9]\n",
      "Real :  Edward_Moore_Kennedy : 1\n",
      "Pred :  [9]\n",
      "Real :  Eunice_Kennedy_Shriver : 2\n",
      "Pred :  [9]\n",
      "Real :  Jacqueline_Lee_Bouvier : 3\n",
      "Pred :  [3]\n",
      "Real :  John_Fitzgerald_Kennedy : 4\n",
      "Pred :  [9]\n",
      "Real :  John_F_Kennedy_Jr : 5\n",
      "Pred :  [6]\n",
      "Real :  Joseph_P_Kennedy_Sr : 6\n",
      "Pred :  [9]\n",
      "Real :  Outros : 7\n",
      "Pred :  [5]\n",
      "Real :  Robert_Francis_Kennedy : 8\n",
      "Pred :  [6]\n",
      "Real :  Rose_Elizabeth_Fitzgerald : 9\n",
      "Pred :  [3]\n",
      "Real :  Rosemary_Kenndy : 10\n",
      "Pred :  [2]\n"
     ]
    }
   ],
   "source": [
    "label_list = ['Caroline_Kennedy : 0', 'Edward_Moore_Kennedy : 1',\n",
    "              'Eunice_Kennedy_Shriver : 2','Jacqueline_Lee_Bouvier : 3',\n",
    "              'John_Fitzgerald_Kennedy : 4', 'John_F_Kennedy_Jr : 5',\n",
    "              'Joseph_P_Kennedy_Sr : 6', 'Outros : 7', \n",
    "              'Robert_Francis_Kennedy : 8','Rose_Elizabeth_Fitzgerald : 9', \n",
    "              'Rosemary_Kenndy : 10']\n",
    "\n",
    "for i in range(0,len(image_list)):\n",
    "    print('Real : ', label_list[i])\n",
    "    print('Pred : ', final.predict_classes(image_list[i]))"
   ]
  }
 ],
 "metadata": {
  "kernelspec": {
   "display_name": "Python 3",
   "language": "python",
   "name": "python3"
  },
  "language_info": {
   "codemirror_mode": {
    "name": "ipython",
    "version": 3
   },
   "file_extension": ".py",
   "mimetype": "text/x-python",
   "name": "python",
   "nbconvert_exporter": "python",
   "pygments_lexer": "ipython3",
   "version": "3.6.5"
  }
 },
 "nbformat": 4,
 "nbformat_minor": 2
}
