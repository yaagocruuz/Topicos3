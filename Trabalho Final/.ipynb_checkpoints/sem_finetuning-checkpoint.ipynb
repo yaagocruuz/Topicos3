{
 "cells": [
  {
   "cell_type": "code",
   "execution_count": 1,
   "metadata": {},
   "outputs": [
    {
     "name": "stderr",
     "output_type": "stream",
     "text": [
      "/home/yaagocruuz/anaconda3/lib/python3.6/site-packages/h5py/__init__.py:36: FutureWarning: Conversion of the second argument of issubdtype from `float` to `np.floating` is deprecated. In future, it will be treated as `np.float64 == np.dtype(float).type`.\n",
      "  from ._conv import register_converters as _register_converters\n",
      "Using TensorFlow backend.\n"
     ]
    },
    {
     "name": "stdout",
     "output_type": "stream",
     "text": [
      "['retrain.py', '.ipynb_checkpoints', 'sem_finetuning.ipynb', 'dataset', 'Trabalho Final.ipynb']\n"
     ]
    }
   ],
   "source": [
    "# This Python 3 environment comes with many helpful analytics libraries installed\n",
    "# It is defined by the kaggle/python docker image: https://github.com/kaggle/docker-python\n",
    "# For example, here's several helpful packages to load in \n",
    "\n",
    "import numpy as np # linear algebra\n",
    "import pandas as pd # data processing, CSV file I/O (e.g. pd.read_csv)\n",
    "\n",
    "# Input data files are available in the \"../input/\" directory.\n",
    "# For example, running this (by clicking run or pressing Shift+Enter) will list the files in the input directory\n",
    "\n",
    "import os\n",
    "from os import listdir, makedirs\n",
    "import matplotlib.pyplot as plt\n",
    "from keras import layers, models, optimizers, regularizers, losses\n",
    "from keras.utils import to_categorical\n",
    "from keras.preprocessing.image import ImageDataGenerator\n",
    "from keras.applications.inception_v3 import InceptionV3\n",
    "from keras.models import Model, Sequential\n",
    "from keras.preprocessing import image\n",
    "from keras.datasets import mnist\n",
    "from keras.layers import Dense, GlobalAveragePooling2D, Flatten, Dropout\n",
    "from keras import backend as K\n",
    "\n",
    "import warnings\n",
    "warnings.filterwarnings('ignore')\n",
    "print(os.listdir(\"/home/yaagocruuz/Documentos/git/Topicos3/Trabalho Final/\"))"
   ]
  },
  {
   "cell_type": "code",
   "execution_count": 12,
   "metadata": {},
   "outputs": [
    {
     "name": "stdout",
     "output_type": "stream",
     "text": [
      "Found 281 images belonging to 12 classes.\n",
      "Found 66 images belonging to 12 classes.\n"
     ]
    }
   ],
   "source": [
    "RESOLUTION = 139\n",
    "BATCH_SIZE = 16\n",
    "\n",
    "\n",
    "data_datagen = ImageDataGenerator(rescale=1./255, shear_range=0.2, zoom_range=0.2,\n",
    "                                  horizontal_flip=True, validation_split=0.20)\n",
    "\n",
    "train_generator = data_datagen.flow_from_directory(\n",
    "        \"dataset/\",\n",
    "        classes=['Caroline_Kennedy', 'Edward_Moore_Kennedy', 'Eunice_Kennedy_Shriver', 'Jacqueline_Lee_Bouvier', \n",
    "                 'Jean_Kennedy Smith', 'John_F_Kennedy_Jr', 'John_Fitzgerald_Kennedy', \n",
    "                 'Joseph_P_Kennedy_Sr', 'Robert_Francis_Kennedy', 'Rose_Elizabeth_Fitzgerald', \n",
    "                 'Rosemary_Kenndy', 'Outros'],\n",
    "        target_size=(RESOLUTION, RESOLUTION),\n",
    "        batch_size=BATCH_SIZE,\n",
    "        class_mode='categorical', subset=\"training\")\n",
    "\n",
    "val_generator = data_datagen.flow_from_directory(\n",
    "        \"dataset/\",\n",
    "        classes=['Caroline_Kennedy', 'Edward_Moore_Kennedy', 'Eunice_Kennedy_Shriver', 'Jacqueline_Lee_Bouvier', \n",
    "                 'Jean_Kennedy Smith', 'John_F_Kennedy_Jr', 'John_Fitzgerald_Kennedy', \n",
    "                 'Joseph_P_Kennedy_Sr', 'Robert_Francis_Kennedy', 'Rose_Elizabeth_Fitzgerald', \n",
    "                 'Rosemary_Kenndy', 'Outros'],\n",
    "        target_size=(RESOLUTION, RESOLUTION),\n",
    "        batch_size=BATCH_SIZE,\n",
    "        class_mode='categorical', subset=\"validation\")"
   ]
  },
  {
   "cell_type": "code",
   "execution_count": 3,
   "metadata": {},
   "outputs": [
    {
     "data": {
      "text/plain": [
       "{'Caroline_Kennedy': 0,\n",
       " 'Edward_Moore_Kennedy': 1,\n",
       " 'Eunice_Kennedy_Shriver': 2,\n",
       " 'Jacqueline_Lee_Bouvier': 3,\n",
       " 'Jean_Kennedy Smith': 4,\n",
       " 'John_F_Kennedy_Jr': 5,\n",
       " 'John_Fitzgerald_Kennedy': 6,\n",
       " 'Joseph_P_Kennedy_Sr': 7,\n",
       " 'Robert_Francis_Kennedy': 8,\n",
       " 'Rose_Elizabeth_Fitzgerald': 9,\n",
       " 'Rosemary_Kenndy': 10,\n",
       " 'Outros': 11}"
      ]
     },
     "execution_count": 3,
     "metadata": {},
     "output_type": "execute_result"
    }
   ],
   "source": [
    "train_generator.class_indices"
   ]
  },
  {
   "cell_type": "code",
   "execution_count": 4,
   "metadata": {},
   "outputs": [],
   "source": [
    "model = InceptionV3(weights='imagenet', include_top=False, input_shape=(139, 139, 3))"
   ]
  },
  {
   "cell_type": "code",
   "execution_count": 9,
   "metadata": {},
   "outputs": [],
   "source": [
    "def inceptionV3_pretrained_model(model_inceptionV3):\n",
    "  \n",
    "    model = Sequential()\n",
    "    model.add(model_inceptionV3)\n",
    "    model.add(Flatten())\n",
    "    model.add(Dense(256, activation='relu'))\n",
    "    model.add(Dense(12, activation='softmax'))\n",
    "    model.summary()\n",
    "    model.compile(loss='categorical_crossentropy', optimizer=optimizers.RMSprop(lr=1e-5), metrics=['acc'])\n",
    "\n",
    "    return model"
   ]
  },
  {
   "cell_type": "code",
   "execution_count": 10,
   "metadata": {},
   "outputs": [
    {
     "name": "stdout",
     "output_type": "stream",
     "text": [
      "_________________________________________________________________\n",
      "Layer (type)                 Output Shape              Param #   \n",
      "=================================================================\n",
      "inception_v3 (Model)         (None, 3, 3, 2048)        21802784  \n",
      "_________________________________________________________________\n",
      "flatten_2 (Flatten)          (None, 18432)             0         \n",
      "_________________________________________________________________\n",
      "dense_3 (Dense)              (None, 256)               4718848   \n",
      "_________________________________________________________________\n",
      "dense_4 (Dense)              (None, 12)                3084      \n",
      "=================================================================\n",
      "Total params: 26,524,716\n",
      "Trainable params: 26,490,284\n",
      "Non-trainable params: 34,432\n",
      "_________________________________________________________________\n"
     ]
    }
   ],
   "source": [
    "final = inceptionV3_pretrained_model(model)"
   ]
  },
  {
   "cell_type": "code",
   "execution_count": 11,
   "metadata": {},
   "outputs": [
    {
     "name": "stdout",
     "output_type": "stream",
     "text": [
      "Epoch 1/20\n",
      "17/17 [==============================] - 94s 6s/step - loss: 2.3357 - acc: 0.2474 - val_loss: 2.3590 - val_acc: 0.2879\n",
      "Epoch 2/20\n",
      "17/17 [==============================] - 75s 4s/step - loss: 1.9827 - acc: 0.3750 - val_loss: 2.1044 - val_acc: 0.3939\n",
      "Epoch 3/20\n",
      "17/17 [==============================] - 93s 5s/step - loss: 1.8177 - acc: 0.3859 - val_loss: 2.0481 - val_acc: 0.3485\n",
      "Epoch 4/20\n",
      "17/17 [==============================] - 67s 4s/step - loss: 1.7874 - acc: 0.3947 - val_loss: 1.8923 - val_acc: 0.4091\n",
      "Epoch 5/20\n",
      "17/17 [==============================] - 64s 4s/step - loss: 1.5821 - acc: 0.4718 - val_loss: 1.8786 - val_acc: 0.4545\n",
      "Epoch 6/20\n",
      "17/17 [==============================] - 65s 4s/step - loss: 1.5490 - acc: 0.4743 - val_loss: 1.8314 - val_acc: 0.5000\n",
      "Epoch 7/20\n",
      "17/17 [==============================] - 63s 4s/step - loss: 1.4825 - acc: 0.5406 - val_loss: 1.7734 - val_acc: 0.5152\n",
      "Epoch 8/20\n",
      "17/17 [==============================] - 65s 4s/step - loss: 1.3528 - acc: 0.5699 - val_loss: 1.6687 - val_acc: 0.5606\n",
      "Epoch 9/20\n",
      "17/17 [==============================] - 63s 4s/step - loss: 1.2239 - acc: 0.6416 - val_loss: 1.6601 - val_acc: 0.5909\n",
      "Epoch 10/20\n",
      "17/17 [==============================] - 65s 4s/step - loss: 1.1435 - acc: 0.6654 - val_loss: 1.6879 - val_acc: 0.4848\n",
      "Epoch 11/20\n",
      "17/17 [==============================] - 64s 4s/step - loss: 1.0663 - acc: 0.6726 - val_loss: 1.5602 - val_acc: 0.5758\n",
      "Epoch 12/20\n",
      "17/17 [==============================] - 64s 4s/step - loss: 1.0210 - acc: 0.6929 - val_loss: 1.5966 - val_acc: 0.5909\n",
      "Epoch 13/20\n",
      "17/17 [==============================] - 63s 4s/step - loss: 1.0146 - acc: 0.6981 - val_loss: 1.4458 - val_acc: 0.6515\n",
      "Epoch 14/20\n",
      "17/17 [==============================] - 65s 4s/step - loss: 0.8876 - acc: 0.7574 - val_loss: 1.5584 - val_acc: 0.5909\n",
      "Epoch 15/20\n",
      "17/17 [==============================] - 64s 4s/step - loss: 0.8516 - acc: 0.7700 - val_loss: 1.4356 - val_acc: 0.5758\n",
      "Epoch 16/20\n",
      "17/17 [==============================] - 64s 4s/step - loss: 0.7221 - acc: 0.8132 - val_loss: 1.4011 - val_acc: 0.6364\n",
      "Epoch 17/20\n",
      "17/17 [==============================] - 64s 4s/step - loss: 0.7029 - acc: 0.8122 - val_loss: 1.4016 - val_acc: 0.6061\n",
      "Epoch 18/20\n",
      "17/17 [==============================] - 64s 4s/step - loss: 0.6537 - acc: 0.8316 - val_loss: 1.3009 - val_acc: 0.6212\n",
      "Epoch 19/20\n",
      "17/17 [==============================] - 63s 4s/step - loss: 0.6097 - acc: 0.8564 - val_loss: 1.3856 - val_acc: 0.6061\n",
      "Epoch 20/20\n",
      "17/17 [==============================] - 64s 4s/step - loss: 0.5965 - acc: 0.8510 - val_loss: 1.4318 - val_acc: 0.6061\n"
     ]
    }
   ],
   "source": [
    "N_TRAIN = 281\n",
    "N_VAL = 66\n",
    "\n",
    "history = final.fit_generator(\n",
    "        train_generator,\n",
    "        steps_per_epoch=(N_TRAIN // BATCH_SIZE),\n",
    "        epochs=20,\n",
    "        validation_data=val_generator,\n",
    "        validation_steps=(66 // BATCH_SIZE) \n",
    "    )"
   ]
  },
  {
   "cell_type": "code",
   "execution_count": 13,
   "metadata": {},
   "outputs": [
    {
     "data": {
      "image/png": "[encoded data removed]",
      "text/plain": [
       "<Figure size 432x288 with 1 Axes>"
      ]
     },
     "metadata": {},
     "output_type": "display_data"
    },
    {
     "data": {
      "image/png": "[encoded data removed]",
      "text/plain": [
       "<Figure size 432x288 with 1 Axes>"
      ]
     },
     "metadata": {},
     "output_type": "display_data"
    }
   ],
   "source": [
    "acc = history.history['acc']\n",
    "val_acc = history.history['val_acc']\n",
    "loss = history.history['loss']\n",
    "val_loss = history.history['val_loss']\n",
    "epochs = range(1, len(acc) + 1)\n",
    "plt.plot(epochs, acc, 'bo', label='Training acc')\n",
    "plt.plot(epochs, val_acc, 'b', label='Validation acc')\n",
    "plt.title('Training and validation accuracy')\n",
    "plt.legend()\n",
    "plt.figure()\n",
    "plt.plot(epochs, loss, 'bo', label='Training loss')\n",
    "plt.plot(epochs, val_loss, 'b', label='Validation loss')\n",
    "plt.title('Training and validation loss')\n",
    "plt.legend()\n",
    "plt.show()"
   ]
  },
  {
   "cell_type": "code",
   "execution_count": null,
   "metadata": {},
   "outputs": [],
   "source": []
  }
 ],
 "metadata": {
  "kernelspec": {
   "display_name": "Python 3",
   "language": "python",
   "name": "python3"
  },
  "language_info": {
   "codemirror_mode": {
    "name": "ipython",
    "version": 3
   },
   "file_extension": ".py",
   "mimetype": "text/x-python",
   "name": "python",
   "nbconvert_exporter": "python",
   "pygments_lexer": "ipython3",
   "version": "3.6.5"
  }
 },
 "nbformat": 4,
 "nbformat_minor": 2
}
