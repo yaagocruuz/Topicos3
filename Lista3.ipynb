{
 "cells": [
  {
   "cell_type": "code",
   "execution_count": 64,
   "metadata": {},
   "outputs": [],
   "source": [
    "from keras import layers\n",
    "from keras import models\n",
    "from keras import losses\n",
    "from keras import optimizers\n",
    "\n",
    "from keras.preprocessing.image import ImageDataGenerator\n",
    "from keras.preprocessing import image\n",
    "\n",
    "from keras.datasets import mnist\n",
    "from keras.utils import to_categorical\n",
    "import matplotlib.pyplot as plt"
   ]
  },
  {
   "cell_type": "code",
   "execution_count": 25,
   "metadata": {},
   "outputs": [],
   "source": [
    "model = models.Sequential()\n",
    "model.add(layers.Conv2D(filters= 32, kernel_size=(3, 3), activation='relu', input_shape=(28, 28, 1))) #(image_height, image_width, image_channels) (not including the batch dimension).\n",
    "model.add(layers.MaxPooling2D((2, 2)))\n",
    "model.add(layers.Conv2D(filters = 64, kernel_size=(3, 3), activation='relu'))\n",
    "model.add(layers.MaxPooling2D((2, 2)))\n",
    "model.add(layers.Conv2D(filters = 64, kernel_size=(3, 3), activation='relu'))"
   ]
  },
  {
   "cell_type": "code",
   "execution_count": 26,
   "metadata": {},
   "outputs": [
    {
     "name": "stdout",
     "output_type": "stream",
     "text": [
      "_________________________________________________________________\n",
      "Layer (type)                 Output Shape              Param #   \n",
      "=================================================================\n",
      "conv2d_13 (Conv2D)           (None, 26, 26, 32)        320       \n",
      "_________________________________________________________________\n",
      "max_pooling2d_9 (MaxPooling2 (None, 13, 13, 32)        0         \n",
      "_________________________________________________________________\n",
      "conv2d_14 (Conv2D)           (None, 11, 11, 64)        18496     \n",
      "_________________________________________________________________\n",
      "max_pooling2d_10 (MaxPooling (None, 5, 5, 64)          0         \n",
      "_________________________________________________________________\n",
      "conv2d_15 (Conv2D)           (None, 3, 3, 64)          36928     \n",
      "=================================================================\n",
      "Total params: 55,744\n",
      "Trainable params: 55,744\n",
      "Non-trainable params: 0\n",
      "_________________________________________________________________\n"
     ]
    }
   ],
   "source": [
    "model.summary()"
   ]
  },
  {
   "cell_type": "code",
   "execution_count": 27,
   "metadata": {},
   "outputs": [],
   "source": [
    "model.add(layers.Flatten()) # Output_shape=(None, 3*3*64)\n",
    "model.add(layers.Dense(units= 64, activation='relu'))\n",
    "model.add(layers.Dense(units=10, activation='softmax'))"
   ]
  },
  {
   "cell_type": "code",
   "execution_count": 28,
   "metadata": {},
   "outputs": [
    {
     "name": "stdout",
     "output_type": "stream",
     "text": [
      "_________________________________________________________________\n",
      "Layer (type)                 Output Shape              Param #   \n",
      "=================================================================\n",
      "conv2d_13 (Conv2D)           (None, 26, 26, 32)        320       \n",
      "_________________________________________________________________\n",
      "max_pooling2d_9 (MaxPooling2 (None, 13, 13, 32)        0         \n",
      "_________________________________________________________________\n",
      "conv2d_14 (Conv2D)           (None, 11, 11, 64)        18496     \n",
      "_________________________________________________________________\n",
      "max_pooling2d_10 (MaxPooling (None, 5, 5, 64)          0         \n",
      "_________________________________________________________________\n",
      "conv2d_15 (Conv2D)           (None, 3, 3, 64)          36928     \n",
      "_________________________________________________________________\n",
      "flatten_5 (Flatten)          (None, 576)               0         \n",
      "_________________________________________________________________\n",
      "dense_7 (Dense)              (None, 64)                36928     \n",
      "_________________________________________________________________\n",
      "dense_8 (Dense)              (None, 10)                650       \n",
      "=================================================================\n",
      "Total params: 93,322\n",
      "Trainable params: 93,322\n",
      "Non-trainable params: 0\n",
      "_________________________________________________________________\n"
     ]
    }
   ],
   "source": [
    "model.summary()"
   ]
  },
  {
   "cell_type": "code",
   "execution_count": 29,
   "metadata": {},
   "outputs": [],
   "source": [
    "(train_images, train_labels), (test_images, test_labels) = mnist.load_data()\n",
    "train_images = train_images.reshape((60000, 28, 28, 1))\n",
    "train_images = train_images.astype('float32') / 255\n",
    "test_images = test_images.reshape((10000, 28, 28, 1))\n",
    "test_images = test_images.astype('float32') / 255\n",
    "train_labels = to_categorical(train_labels) #Converts a class vector (integers) to binary class matrix.\n",
    "test_labels = to_categorical(test_labels)"
   ]
  },
  {
   "cell_type": "code",
   "execution_count": 30,
   "metadata": {},
   "outputs": [],
   "source": [
    "X_train = train_images[:6000, :, :]\n",
    "X_train_labels = train_labels[:6000, :]\n",
    "\n",
    "X_valid = train_images[6000:7000, :, :]\n",
    "X_valid_labels= train_labels[6000:7000, :]\n",
    "\n",
    "X_test = test_images[:1000, :, :]\n",
    "X_test_labels = test_labels[:1000, :]"
   ]
  },
  {
   "cell_type": "code",
   "execution_count": 31,
   "metadata": {},
   "outputs": [
    {
     "name": "stdout",
     "output_type": "stream",
     "text": [
      "(6000, 28, 28, 1)\n"
     ]
    }
   ],
   "source": [
    "print(X_train.shape)"
   ]
  },
  {
   "cell_type": "code",
   "execution_count": 32,
   "metadata": {},
   "outputs": [
    {
     "name": "stdout",
     "output_type": "stream",
     "text": [
      "(6000, 10)\n"
     ]
    }
   ],
   "source": [
    "print(X_train_labels.shape)"
   ]
  },
  {
   "cell_type": "code",
   "execution_count": 33,
   "metadata": {},
   "outputs": [
    {
     "name": "stdout",
     "output_type": "stream",
     "text": [
      "Train on 6000 samples, validate on 1000 samples\n",
      "Epoch 1/10\n",
      "6000/6000 [==============================] - 4s 723us/step - loss: 0.8072 - acc: 0.7367 - val_loss: 0.3917 - val_acc: 0.8730\n",
      "Epoch 2/10\n",
      "6000/6000 [==============================] - 4s 626us/step - loss: 0.2458 - acc: 0.9253 - val_loss: 0.2173 - val_acc: 0.9280\n",
      "Epoch 3/10\n",
      "6000/6000 [==============================] - 4s 625us/step - loss: 0.1557 - acc: 0.9507 - val_loss: 0.1471 - val_acc: 0.9510\n",
      "Epoch 4/10\n",
      "6000/6000 [==============================] - 4s 637us/step - loss: 0.1213 - acc: 0.9613 - val_loss: 0.1413 - val_acc: 0.9590\n",
      "Epoch 5/10\n",
      "6000/6000 [==============================] - 4s 698us/step - loss: 0.0884 - acc: 0.9732 - val_loss: 0.1213 - val_acc: 0.9680\n",
      "Epoch 6/10\n",
      "6000/6000 [==============================] - 4s 706us/step - loss: 0.0707 - acc: 0.9785 - val_loss: 0.1048 - val_acc: 0.9680\n",
      "Epoch 7/10\n",
      "6000/6000 [==============================] - 4s 705us/step - loss: 0.0631 - acc: 0.9787 - val_loss: 0.1486 - val_acc: 0.9570\n",
      "Epoch 8/10\n",
      "6000/6000 [==============================] - 4s 699us/step - loss: 0.0552 - acc: 0.9840 - val_loss: 0.0944 - val_acc: 0.9720\n",
      "Epoch 9/10\n",
      "6000/6000 [==============================] - 4s 692us/step - loss: 0.0420 - acc: 0.9867 - val_loss: 0.0943 - val_acc: 0.9700\n",
      "Epoch 10/10\n",
      "6000/6000 [==============================] - 4s 691us/step - loss: 0.0343 - acc: 0.9858 - val_loss: 0.1403 - val_acc: 0.9600\n"
     ]
    }
   ],
   "source": [
    "model.compile(optimizer='rmsprop',\n",
    "loss='categorical_crossentropy',\n",
    "metrics=['accuracy'])\n",
    "history = model.fit(X_train, X_train_labels, epochs=10, batch_size=64, validation_data=(X_valid, X_valid_labels))"
   ]
  },
  {
   "cell_type": "code",
   "execution_count": 34,
   "metadata": {},
   "outputs": [
    {
     "name": "stdout",
     "output_type": "stream",
     "text": [
      "1000/1000 [==============================] - 0s 324us/step\n"
     ]
    },
    {
     "data": {
      "text/plain": [
       "0.963"
      ]
     },
     "execution_count": 34,
     "metadata": {},
     "output_type": "execute_result"
    }
   ],
   "source": [
    "test_loss, test_acc = model.evaluate(X_test, X_test_labels)\n",
    "test_acc"
   ]
  },
  {
   "cell_type": "markdown",
   "metadata": {},
   "source": [
    "## Primeiro modelo : logarithmic_error"
   ]
  },
  {
   "cell_type": "code",
   "execution_count": 12,
   "metadata": {},
   "outputs": [],
   "source": [
    "model1 = models.Sequential()\n",
    "model1.add(layers.Conv2D(filters= 32, kernel_size=(3, 3), activation='relu', input_shape=(28, 28, 1))) #(image_height, image_width, image_channels) (not including the batch dimension).\n",
    "model1.add(layers.MaxPooling2D((2, 2)))\n",
    "model1.add(layers.Conv2D(filters = 64, kernel_size=(3, 3), activation='relu'))\n",
    "model1.add(layers.MaxPooling2D((2, 2)))\n",
    "model1.add(layers.Conv2D(filters = 64, kernel_size=(3, 3), activation='relu'))"
   ]
  },
  {
   "cell_type": "code",
   "execution_count": 14,
   "metadata": {},
   "outputs": [],
   "source": [
    "model1.add(layers.Flatten()) # Output_shape=(None, 3*3*64)\n",
    "model1.add(layers.Dense(units= 64, activation='relu'))\n",
    "model1.add(layers.Dense(units=10, activation='softmax'))"
   ]
  },
  {
   "cell_type": "code",
   "execution_count": 15,
   "metadata": {},
   "outputs": [],
   "source": [
    "(train_images, train_labels), (test_images, test_labels) = mnist.load_data()\n",
    "train_images = train_images.reshape((60000, 28, 28, 1))\n",
    "train_images = train_images.astype('float32') / 255\n",
    "test_images = test_images.reshape((10000, 28, 28, 1))\n",
    "test_images = test_images.astype('float32') / 255\n",
    "train_labels = to_categorical(train_labels) #Converts a class vector (integers) to binary class matrix.\n",
    "test_labels = to_categorical(test_labels)"
   ]
  },
  {
   "cell_type": "code",
   "execution_count": 16,
   "metadata": {},
   "outputs": [],
   "source": [
    "X_train = train_images[:6000, :, :]\n",
    "X_train_labels = train_labels[:6000, :]\n",
    "\n",
    "X_valid = train_images[6000:7000, :, :]\n",
    "X_valid_labels= train_labels[6000:7000, :]\n",
    "\n",
    "X_test = test_images[:1000, :, :]\n",
    "X_test_labels = test_labels[:1000, :]"
   ]
  },
  {
   "cell_type": "code",
   "execution_count": 19,
   "metadata": {},
   "outputs": [
    {
     "name": "stdout",
     "output_type": "stream",
     "text": [
      "Train on 6000 samples, validate on 1000 samples\n",
      "Epoch 1/10\n",
      "6000/6000 [==============================] - 4s 745us/step - loss: 0.0233 - acc: 0.6593 - val_loss: 0.0055 - val_acc: 0.9290\n",
      "Epoch 2/10\n",
      "6000/6000 [==============================] - 4s 638us/step - loss: 0.0046 - acc: 0.9405 - val_loss: 0.0033 - val_acc: 0.9560\n",
      "Epoch 3/10\n",
      "6000/6000 [==============================] - 4s 665us/step - loss: 0.0031 - acc: 0.9590 - val_loss: 0.0026 - val_acc: 0.9680\n",
      "Epoch 4/10\n",
      "6000/6000 [==============================] - 4s 636us/step - loss: 0.0024 - acc: 0.9695 - val_loss: 0.0025 - val_acc: 0.9690\n",
      "Epoch 5/10\n",
      "6000/6000 [==============================] - 4s 649us/step - loss: 0.0021 - acc: 0.9738 - val_loss: 0.0028 - val_acc: 0.9640\n",
      "Epoch 6/10\n",
      "6000/6000 [==============================] - 4s 712us/step - loss: 0.0018 - acc: 0.9783 - val_loss: 0.0022 - val_acc: 0.9700\n",
      "Epoch 7/10\n",
      "6000/6000 [==============================] - 4s 711us/step - loss: 0.0014 - acc: 0.9823 - val_loss: 0.0020 - val_acc: 0.9770\n",
      "Epoch 8/10\n",
      "6000/6000 [==============================] - 4s 715us/step - loss: 0.0013 - acc: 0.9848 - val_loss: 0.0024 - val_acc: 0.9690\n",
      "Epoch 9/10\n",
      "6000/6000 [==============================] - 4s 709us/step - loss: 0.0012 - acc: 0.9858 - val_loss: 0.0021 - val_acc: 0.9730\n",
      "Epoch 10/10\n",
      "6000/6000 [==============================] - 4s 708us/step - loss: 0.0012 - acc: 0.9858 - val_loss: 0.0023 - val_acc: 0.9720\n"
     ]
    }
   ],
   "source": [
    "model1.compile(optimizer=optimizers.adagrad(),\n",
    "loss=losses.mean_squared_logarithmic_error,\n",
    "metrics=['accuracy'])\n",
    "history = model1.fit(X_train, X_train_labels, epochs=10, batch_size=64, validation_data=(X_valid, X_valid_labels))"
   ]
  },
  {
   "cell_type": "code",
   "execution_count": 23,
   "metadata": {},
   "outputs": [
    {
     "name": "stdout",
     "output_type": "stream",
     "text": [
      "1000/1000 [==============================] - 0s 318us/step\n"
     ]
    },
    {
     "data": {
      "text/plain": [
       "0.966"
      ]
     },
     "execution_count": 23,
     "metadata": {},
     "output_type": "execute_result"
    }
   ],
   "source": [
    "test_loss_le1, test_acc_le1 = model1.evaluate(X_test, X_test_labels)\n",
    "test_acc_le1"
   ]
  },
  {
   "cell_type": "code",
   "execution_count": null,
   "metadata": {},
   "outputs": [],
   "source": []
  },
  {
   "cell_type": "code",
   "execution_count": 20,
   "metadata": {},
   "outputs": [],
   "source": [
    "model2 = models.Sequential()\n",
    "model2.add(layers.Conv2D(filters= 32, kernel_size=(3, 3), activation='relu', input_shape=(28, 28, 1))) #(image_height, image_width, image_channels) (not including the batch dimension).\n",
    "model2.add(layers.MaxPooling2D((2, 2)))\n",
    "model2.add(layers.Conv2D(filters = 64, kernel_size=(3, 3), activation='relu'))\n",
    "model2.add(layers.MaxPooling2D((2, 2)))\n",
    "model2.add(layers.Conv2D(filters = 64, kernel_size=(3, 3), activation='relu'))\n",
    "\n",
    "model2.add(layers.Flatten()) # Output_shape=(None, 3*3*64)\n",
    "model2.add(layers.Dense(units= 64, activation='relu'))\n",
    "model2.add(layers.Dense(units=10, activation='softmax'))"
   ]
  },
  {
   "cell_type": "code",
   "execution_count": 41,
   "metadata": {},
   "outputs": [
    {
     "name": "stdout",
     "output_type": "stream",
     "text": [
      "Train on 6000 samples, validate on 1000 samples\n",
      "Epoch 1/10\n",
      "6000/6000 [==============================] - 5s 835us/step - loss: 0.0025 - acc: 0.9648 - val_loss: 0.0034 - val_acc: 0.9570\n",
      "Epoch 2/10\n",
      "6000/6000 [==============================] - 4s 678us/step - loss: 0.0025 - acc: 0.9678 - val_loss: 0.0028 - val_acc: 0.9660\n",
      "Epoch 3/10\n",
      "6000/6000 [==============================] - 4s 646us/step - loss: 0.0021 - acc: 0.9742 - val_loss: 0.0023 - val_acc: 0.9710\n",
      "Epoch 4/10\n",
      "6000/6000 [==============================] - 4s 629us/step - loss: 0.0021 - acc: 0.9752 - val_loss: 0.0027 - val_acc: 0.9660\n",
      "Epoch 5/10\n",
      "6000/6000 [==============================] - 4s 667us/step - loss: 0.0023 - acc: 0.9730 - val_loss: 0.0035 - val_acc: 0.9590\n",
      "Epoch 6/10\n",
      "6000/6000 [==============================] - 4s 702us/step - loss: 0.0035 - acc: 0.9608 - val_loss: 0.0082 - val_acc: 0.9090\n",
      "Epoch 7/10\n",
      "6000/6000 [==============================] - 4s 732us/step - loss: 0.0058 - acc: 0.9368 - val_loss: 0.0056 - val_acc: 0.9410\n",
      "Epoch 8/10\n",
      "6000/6000 [==============================] - 4s 702us/step - loss: 0.0066 - acc: 0.9290 - val_loss: 0.0072 - val_acc: 0.9230\n",
      "Epoch 9/10\n",
      "6000/6000 [==============================] - 4s 708us/step - loss: 0.0070 - acc: 0.9257 - val_loss: 0.0070 - val_acc: 0.9260\n",
      "Epoch 10/10\n",
      "6000/6000 [==============================] - 4s 677us/step - loss: 0.0065 - acc: 0.9310 - val_loss: 0.0076 - val_acc: 0.9200\n"
     ]
    }
   ],
   "source": [
    "model2.compile(optimizer=optimizers.nadam(),\n",
    "loss=losses.mean_squared_logarithmic_error,\n",
    "metrics=['accuracy'])\n",
    "history = model2.fit(X_train, X_train_labels, epochs=10, batch_size=64, validation_data=(X_valid, X_valid_labels))"
   ]
  },
  {
   "cell_type": "code",
   "execution_count": 42,
   "metadata": {},
   "outputs": [
    {
     "name": "stdout",
     "output_type": "stream",
     "text": [
      "1000/1000 [==============================] - 0s 327us/step\n"
     ]
    },
    {
     "data": {
      "text/plain": [
       "0.865"
      ]
     },
     "execution_count": 42,
     "metadata": {},
     "output_type": "execute_result"
    }
   ],
   "source": [
    "test_loss_le2, test_acc_le2 = model2.evaluate(X_test, X_test_labels)\n",
    "test_acc_le2"
   ]
  },
  {
   "cell_type": "code",
   "execution_count": null,
   "metadata": {},
   "outputs": [],
   "source": []
  },
  {
   "cell_type": "code",
   "execution_count": 36,
   "metadata": {},
   "outputs": [],
   "source": [
    "model3 = models.Sequential()\n",
    "model3.add(layers.Conv2D(filters= 32, kernel_size=(3, 3), activation='relu', input_shape=(28, 28, 1))) #(image_height, image_width, image_channels) (not including the batch dimension).\n",
    "model3.add(layers.MaxPooling2D((2, 2)))\n",
    "model3.add(layers.Conv2D(filters = 64, kernel_size=(3, 3), activation='relu'))\n",
    "model3.add(layers.MaxPooling2D((2, 2)))\n",
    "model3.add(layers.Conv2D(filters = 64, kernel_size=(3, 3), activation='relu'))\n",
    "\n",
    "model3.add(layers.Flatten()) # Output_shape=(None, 3*3*64)\n",
    "model3.add(layers.Dense(units= 64, activation='relu'))\n",
    "model3.add(layers.Dense(units=10, activation='softmax'))"
   ]
  },
  {
   "cell_type": "code",
   "execution_count": 37,
   "metadata": {},
   "outputs": [
    {
     "name": "stdout",
     "output_type": "stream",
     "text": [
      "Train on 6000 samples, validate on 1000 samples\n",
      "Epoch 1/10\n",
      "6000/6000 [==============================] - 5s 764us/step - loss: 0.0440 - acc: 0.0738 - val_loss: 0.0440 - val_acc: 0.0570\n",
      "Epoch 2/10\n",
      "6000/6000 [==============================] - 4s 673us/step - loss: 0.0440 - acc: 0.0765 - val_loss: 0.0440 - val_acc: 0.0590\n",
      "Epoch 3/10\n",
      "6000/6000 [==============================] - 4s 731us/step - loss: 0.0440 - acc: 0.0795 - val_loss: 0.0440 - val_acc: 0.0620\n",
      "Epoch 4/10\n",
      "6000/6000 [==============================] - 4s 681us/step - loss: 0.0440 - acc: 0.0813 - val_loss: 0.0440 - val_acc: 0.0650\n",
      "Epoch 5/10\n",
      "6000/6000 [==============================] - 4s 708us/step - loss: 0.0440 - acc: 0.0842 - val_loss: 0.0440 - val_acc: 0.0670\n",
      "Epoch 6/10\n",
      "6000/6000 [==============================] - 4s 708us/step - loss: 0.0440 - acc: 0.0858 - val_loss: 0.0440 - val_acc: 0.0710\n",
      "Epoch 7/10\n",
      "6000/6000 [==============================] - 4s 708us/step - loss: 0.0440 - acc: 0.0897 - val_loss: 0.0439 - val_acc: 0.0750\n",
      "Epoch 8/10\n",
      "6000/6000 [==============================] - 4s 698us/step - loss: 0.0439 - acc: 0.0915 - val_loss: 0.0439 - val_acc: 0.0770\n",
      "Epoch 9/10\n",
      "6000/6000 [==============================] - 5s 783us/step - loss: 0.0439 - acc: 0.0935 - val_loss: 0.0439 - val_acc: 0.0790\n",
      "Epoch 10/10\n",
      "6000/6000 [==============================] - 4s 709us/step - loss: 0.0439 - acc: 0.0972 - val_loss: 0.0439 - val_acc: 0.0880\n"
     ]
    }
   ],
   "source": [
    "model3.compile(optimizer=optimizers.SGD(),\n",
    "loss=losses.mean_squared_logarithmic_error,\n",
    "metrics=['accuracy'])\n",
    "history = model3.fit(X_train, X_train_labels, epochs=10, batch_size=64, validation_data=(X_valid, X_valid_labels))"
   ]
  },
  {
   "cell_type": "code",
   "execution_count": 39,
   "metadata": {},
   "outputs": [
    {
     "name": "stdout",
     "output_type": "stream",
     "text": [
      "1000/1000 [==============================] - 0s 341us/step\n"
     ]
    },
    {
     "data": {
      "text/plain": [
       "0.09"
      ]
     },
     "execution_count": 39,
     "metadata": {},
     "output_type": "execute_result"
    }
   ],
   "source": [
    "test_loss_le3, test_acc_le3 = model3.evaluate(X_test, X_test_labels)\n",
    "test_acc_le3"
   ]
  },
  {
   "cell_type": "code",
   "execution_count": null,
   "metadata": {},
   "outputs": [],
   "source": []
  },
  {
   "cell_type": "markdown",
   "metadata": {},
   "source": [
    "## Segundo modelo: hinge"
   ]
  },
  {
   "cell_type": "code",
   "execution_count": 43,
   "metadata": {},
   "outputs": [],
   "source": [
    "model4 = models.Sequential()\n",
    "model4.add(layers.Conv2D(filters= 32, kernel_size=(3, 3), activation='relu', input_shape=(28, 28, 1))) #(image_height, image_width, image_channels) (not including the batch dimension).\n",
    "model4.add(layers.MaxPooling2D((2, 2)))\n",
    "model4.add(layers.Conv2D(filters = 64, kernel_size=(3, 3), activation='relu'))\n",
    "model4.add(layers.MaxPooling2D((2, 2)))\n",
    "model4.add(layers.Conv2D(filters = 64, kernel_size=(3, 3), activation='relu'))\n",
    "\n",
    "model4.add(layers.Flatten()) # Output_shape=(None, 3*3*64)\n",
    "model4.add(layers.Dense(units= 64, activation='relu'))\n",
    "model4.add(layers.Dense(units=10, activation='softmax'))"
   ]
  },
  {
   "cell_type": "code",
   "execution_count": 45,
   "metadata": {},
   "outputs": [
    {
     "name": "stdout",
     "output_type": "stream",
     "text": [
      "Train on 6000 samples, validate on 1000 samples\n",
      "Epoch 1/10\n",
      "6000/6000 [==============================] - 5s 780us/step - loss: 0.9648 - acc: 0.3573 - val_loss: 0.9351 - val_acc: 0.6540\n",
      "Epoch 2/10\n",
      "6000/6000 [==============================] - 4s 689us/step - loss: 0.9339 - acc: 0.6663 - val_loss: 0.9316 - val_acc: 0.6880\n",
      "Epoch 3/10\n",
      "6000/6000 [==============================] - 4s 722us/step - loss: 0.9323 - acc: 0.6800 - val_loss: 0.9309 - val_acc: 0.6930\n",
      "Epoch 4/10\n",
      "6000/6000 [==============================] - 4s 726us/step - loss: 0.9316 - acc: 0.6862 - val_loss: 0.9308 - val_acc: 0.6950\n",
      "Epoch 5/10\n",
      "6000/6000 [==============================] - 5s 839us/step - loss: 0.9313 - acc: 0.6887 - val_loss: 0.9302 - val_acc: 0.7010\n",
      "Epoch 6/10\n",
      "6000/6000 [==============================] - 5s 783us/step - loss: 0.9310 - acc: 0.6903 - val_loss: 0.9302 - val_acc: 0.7000\n",
      "Epoch 7/10\n",
      "6000/6000 [==============================] - 5s 773us/step - loss: 0.9309 - acc: 0.6923 - val_loss: 0.9301 - val_acc: 0.7030\n",
      "Epoch 8/10\n",
      "6000/6000 [==============================] - 5s 766us/step - loss: 0.9307 - acc: 0.6933 - val_loss: 0.9304 - val_acc: 0.6970\n",
      "Epoch 9/10\n",
      "6000/6000 [==============================] - 5s 784us/step - loss: 0.9306 - acc: 0.6950 - val_loss: 0.9303 - val_acc: 0.6980\n",
      "Epoch 10/10\n",
      "6000/6000 [==============================] - 5s 758us/step - loss: 0.9305 - acc: 0.6957 - val_loss: 0.9303 - val_acc: 0.6990\n"
     ]
    }
   ],
   "source": [
    "model4.compile(optimizer=optimizers.adagrad(),\n",
    "loss=losses.hinge,\n",
    "metrics=['accuracy'])\n",
    "history = model4.fit(X_train, X_train_labels, epochs=10, batch_size=64, validation_data=(X_valid, X_valid_labels))"
   ]
  },
  {
   "cell_type": "code",
   "execution_count": 46,
   "metadata": {},
   "outputs": [
    {
     "name": "stdout",
     "output_type": "stream",
     "text": [
      "1000/1000 [==============================] - 0s 331us/step\n"
     ]
    },
    {
     "data": {
      "text/plain": [
       "0.689"
      ]
     },
     "execution_count": 46,
     "metadata": {},
     "output_type": "execute_result"
    }
   ],
   "source": [
    "test_loss_le4, test_acc_le4 = model4.evaluate(X_test, X_test_labels)\n",
    "test_acc_le4"
   ]
  },
  {
   "cell_type": "code",
   "execution_count": null,
   "metadata": {},
   "outputs": [],
   "source": []
  },
  {
   "cell_type": "code",
   "execution_count": 47,
   "metadata": {},
   "outputs": [],
   "source": [
    "model5 = models.Sequential()\n",
    "model5.add(layers.Conv2D(filters= 32, kernel_size=(3, 3), activation='relu', input_shape=(28, 28, 1))) #(image_height, image_width, image_channels) (not including the batch dimension).\n",
    "model5.add(layers.MaxPooling2D((2, 2)))\n",
    "model5.add(layers.Conv2D(filters = 64, kernel_size=(3, 3), activation='relu'))\n",
    "model5.add(layers.MaxPooling2D((2, 2)))\n",
    "model5.add(layers.Conv2D(filters = 64, kernel_size=(3, 3), activation='relu'))\n",
    "\n",
    "model5.add(layers.Flatten()) # Output_shape=(None, 3*3*64)\n",
    "model5.add(layers.Dense(units= 64, activation='relu'))\n",
    "model5.add(layers.Dense(units=10, activation='softmax'))"
   ]
  },
  {
   "cell_type": "code",
   "execution_count": 48,
   "metadata": {},
   "outputs": [
    {
     "name": "stdout",
     "output_type": "stream",
     "text": [
      "Train on 6000 samples, validate on 1000 samples\n",
      "Epoch 1/10\n",
      "6000/6000 [==============================] - 5s 852us/step - loss: 0.9626 - acc: 0.3845 - val_loss: 0.9465 - val_acc: 0.5360\n",
      "Epoch 2/10\n",
      "6000/6000 [==============================] - 4s 717us/step - loss: 0.9480 - acc: 0.5198 - val_loss: 0.9523 - val_acc: 0.4770\n",
      "Epoch 3/10\n",
      "6000/6000 [==============================] - 4s 681us/step - loss: 0.9504 - acc: 0.4960 - val_loss: 0.9537 - val_acc: 0.4630\n",
      "Epoch 4/10\n",
      "6000/6000 [==============================] - 4s 686us/step - loss: 0.9476 - acc: 0.5237 - val_loss: 0.9465 - val_acc: 0.5350\n",
      "Epoch 5/10\n",
      "6000/6000 [==============================] - 5s 766us/step - loss: 0.9557 - acc: 0.4430 - val_loss: 0.9541 - val_acc: 0.4590\n",
      "Epoch 6/10\n",
      "6000/6000 [==============================] - 5s 823us/step - loss: 0.9505 - acc: 0.4948 - val_loss: 0.9459 - val_acc: 0.5410\n",
      "Epoch 7/10\n",
      "6000/6000 [==============================] - 5s 769us/step - loss: 0.9570 - acc: 0.4303 - val_loss: 0.9591 - val_acc: 0.4090\n",
      "Epoch 8/10\n",
      "6000/6000 [==============================] - 5s 788us/step - loss: 0.9606 - acc: 0.3938 - val_loss: 0.9779 - val_acc: 0.2210\n",
      "Epoch 9/10\n",
      "6000/6000 [==============================] - 5s 810us/step - loss: 0.9735 - acc: 0.2647 - val_loss: 0.9642 - val_acc: 0.3580\n",
      "Epoch 10/10\n",
      "6000/6000 [==============================] - 5s 828us/step - loss: 0.9592 - acc: 0.4082 - val_loss: 0.9496 - val_acc: 0.5040\n"
     ]
    }
   ],
   "source": [
    "model5.compile(optimizer=optimizers.nadam(),\n",
    "loss=losses.hinge,\n",
    "metrics=['accuracy'])\n",
    "history = model5.fit(X_train, X_train_labels, epochs=10, batch_size=64, validation_data=(X_valid, X_valid_labels))"
   ]
  },
  {
   "cell_type": "code",
   "execution_count": 49,
   "metadata": {},
   "outputs": [
    {
     "name": "stdout",
     "output_type": "stream",
     "text": [
      "1000/1000 [==============================] - 0s 453us/step\n"
     ]
    },
    {
     "data": {
      "text/plain": [
       "0.524"
      ]
     },
     "execution_count": 49,
     "metadata": {},
     "output_type": "execute_result"
    }
   ],
   "source": [
    "test_loss_le5, test_acc_le5 = model5.evaluate(X_test, X_test_labels)\n",
    "test_acc_le5"
   ]
  },
  {
   "cell_type": "code",
   "execution_count": null,
   "metadata": {},
   "outputs": [],
   "source": []
  },
  {
   "cell_type": "code",
   "execution_count": 50,
   "metadata": {},
   "outputs": [],
   "source": [
    "model6 = models.Sequential()\n",
    "model6.add(layers.Conv2D(filters= 32, kernel_size=(3, 3), activation='relu', input_shape=(28, 28, 1))) #(image_height, image_width, image_channels) (not including the batch dimension).\n",
    "model6.add(layers.MaxPooling2D((2, 2)))\n",
    "model6.add(layers.Conv2D(filters = 64, kernel_size=(3, 3), activation='relu'))\n",
    "model6.add(layers.MaxPooling2D((2, 2)))\n",
    "model6.add(layers.Conv2D(filters = 64, kernel_size=(3, 3), activation='relu'))\n",
    "\n",
    "model6.add(layers.Flatten()) # Output_shape=(None, 3*3*64)\n",
    "model6.add(layers.Dense(units= 64, activation='relu'))\n",
    "model6.add(layers.Dense(units=10, activation='softmax'))"
   ]
  },
  {
   "cell_type": "code",
   "execution_count": 51,
   "metadata": {},
   "outputs": [
    {
     "name": "stdout",
     "output_type": "stream",
     "text": [
      "Train on 6000 samples, validate on 1000 samples\n",
      "Epoch 1/10\n",
      "6000/6000 [==============================] - 6s 966us/step - loss: 0.9900 - acc: 0.0972 - val_loss: 0.9900 - val_acc: 0.0990\n",
      "Epoch 2/10\n",
      "6000/6000 [==============================] - 5s 764us/step - loss: 0.9900 - acc: 0.0977 - val_loss: 0.9900 - val_acc: 0.0990\n",
      "Epoch 3/10\n",
      "6000/6000 [==============================] - 5s 764us/step - loss: 0.9900 - acc: 0.0990 - val_loss: 0.9900 - val_acc: 0.0990\n",
      "Epoch 4/10\n",
      "6000/6000 [==============================] - 5s 805us/step - loss: 0.9900 - acc: 0.0997 - val_loss: 0.9900 - val_acc: 0.0990\n",
      "Epoch 5/10\n",
      "6000/6000 [==============================] - 5s 875us/step - loss: 0.9900 - acc: 0.0997 - val_loss: 0.9899 - val_acc: 0.0990\n",
      "Epoch 6/10\n",
      "6000/6000 [==============================] - 6s 981us/step - loss: 0.9900 - acc: 0.1000 - val_loss: 0.9899 - val_acc: 0.0990\n",
      "Epoch 7/10\n",
      "6000/6000 [==============================] - 5s 778us/step - loss: 0.9899 - acc: 0.1005 - val_loss: 0.9899 - val_acc: 0.0990\n",
      "Epoch 8/10\n",
      "6000/6000 [==============================] - 5s 796us/step - loss: 0.9899 - acc: 0.1008 - val_loss: 0.9899 - val_acc: 0.1000\n",
      "Epoch 9/10\n",
      "6000/6000 [==============================] - 5s 769us/step - loss: 0.9899 - acc: 0.1012 - val_loss: 0.9899 - val_acc: 0.1000\n",
      "Epoch 10/10\n",
      "6000/6000 [==============================] - 5s 760us/step - loss: 0.9899 - acc: 0.1015 - val_loss: 0.9899 - val_acc: 0.1000\n"
     ]
    }
   ],
   "source": [
    "model6.compile(optimizer=optimizers.SGD(),\n",
    "loss=losses.hinge,\n",
    "metrics=['accuracy'])\n",
    "history = model6.fit(X_train, X_train_labels, epochs=10, batch_size=64, validation_data=(X_valid, X_valid_labels))"
   ]
  },
  {
   "cell_type": "code",
   "execution_count": 52,
   "metadata": {},
   "outputs": [
    {
     "name": "stdout",
     "output_type": "stream",
     "text": [
      "1000/1000 [==============================] - 0s 406us/step\n"
     ]
    },
    {
     "data": {
      "text/plain": [
       "0.091"
      ]
     },
     "execution_count": 52,
     "metadata": {},
     "output_type": "execute_result"
    }
   ],
   "source": [
    "test_loss_le6, test_acc_le6 = model6.evaluate(X_test, X_test_labels)\n",
    "test_acc_le6"
   ]
  },
  {
   "cell_type": "markdown",
   "metadata": {},
   "source": [
    "## Terceiro modelo: poisson"
   ]
  },
  {
   "cell_type": "code",
   "execution_count": 53,
   "metadata": {},
   "outputs": [],
   "source": [
    "model7 = models.Sequential()\n",
    "model7.add(layers.Conv2D(filters= 32, kernel_size=(3, 3), activation='relu', input_shape=(28, 28, 1))) #(image_height, image_width, image_channels) (not including the batch dimension).\n",
    "model7.add(layers.MaxPooling2D((2, 2)))\n",
    "model7.add(layers.Conv2D(filters = 64, kernel_size=(3, 3), activation='relu'))\n",
    "model7.add(layers.MaxPooling2D((2, 2)))\n",
    "model7.add(layers.Conv2D(filters = 64, kernel_size=(3, 3), activation='relu'))\n",
    "\n",
    "model7.add(layers.Flatten()) # Output_shape=(None, 3*3*64)\n",
    "model7.add(layers.Dense(units= 64, activation='relu'))\n",
    "model7.add(layers.Dense(units=10, activation='softmax'))"
   ]
  },
  {
   "cell_type": "code",
   "execution_count": 60,
   "metadata": {},
   "outputs": [
    {
     "name": "stdout",
     "output_type": "stream",
     "text": [
      "Train on 6000 samples, validate on 1000 samples\n",
      "Epoch 1/10\n",
      "6000/6000 [==============================] - 5s 916us/step - loss: 0.1709 - acc: 0.7878 - val_loss: 0.1188 - val_acc: 0.9420\n",
      "Epoch 2/10\n",
      "6000/6000 [==============================] - 4s 747us/step - loss: 0.1164 - acc: 0.9528 - val_loss: 0.1116 - val_acc: 0.9680\n",
      "Epoch 3/10\n",
      "6000/6000 [==============================] - 4s 740us/step - loss: 0.1108 - acc: 0.9658 - val_loss: 0.1126 - val_acc: 0.9630\n",
      "Epoch 4/10\n",
      "6000/6000 [==============================] - 5s 792us/step - loss: 0.1087 - acc: 0.9738 - val_loss: 0.1100 - val_acc: 0.9700\n",
      "Epoch 5/10\n",
      "6000/6000 [==============================] - 5s 818us/step - loss: 0.1070 - acc: 0.9787 - val_loss: 0.1086 - val_acc: 0.9740\n",
      "Epoch 6/10\n",
      "6000/6000 [==============================] - 5s 764us/step - loss: 0.1057 - acc: 0.9805 - val_loss: 0.1091 - val_acc: 0.9740\n",
      "Epoch 7/10\n",
      "6000/6000 [==============================] - 5s 750us/step - loss: 0.1046 - acc: 0.9852 - val_loss: 0.1094 - val_acc: 0.9750\n",
      "Epoch 8/10\n",
      "6000/6000 [==============================] - 4s 692us/step - loss: 0.1041 - acc: 0.9875 - val_loss: 0.1077 - val_acc: 0.9790\n",
      "Epoch 9/10\n",
      "6000/6000 [==============================] - 4s 692us/step - loss: 0.1033 - acc: 0.9910 - val_loss: 0.1079 - val_acc: 0.9760\n",
      "Epoch 10/10\n",
      "6000/6000 [==============================] - 4s 707us/step - loss: 0.1029 - acc: 0.9913 - val_loss: 0.1097 - val_acc: 0.9740\n"
     ]
    }
   ],
   "source": [
    "model7.compile(optimizer=optimizers.adagrad(),\n",
    "loss=losses.poisson,\n",
    "metrics=['accuracy'])\n",
    "history = model7.fit(X_train, X_train_labels, epochs=10, batch_size=64, validation_data=(X_valid, X_valid_labels))"
   ]
  },
  {
   "cell_type": "code",
   "execution_count": 61,
   "metadata": {},
   "outputs": [
    {
     "name": "stdout",
     "output_type": "stream",
     "text": [
      "1000/1000 [==============================] - 0s 312us/step\n"
     ]
    },
    {
     "data": {
      "text/plain": [
       "0.974"
      ]
     },
     "execution_count": 61,
     "metadata": {},
     "output_type": "execute_result"
    }
   ],
   "source": [
    "test_loss_le7, test_acc_le7 = model7.evaluate(X_test, X_test_labels)\n",
    "test_acc_le7"
   ]
  },
  {
   "cell_type": "code",
   "execution_count": null,
   "metadata": {},
   "outputs": [],
   "source": []
  },
  {
   "cell_type": "code",
   "execution_count": 54,
   "metadata": {},
   "outputs": [],
   "source": [
    "model8 = models.Sequential()\n",
    "model8.add(layers.Conv2D(filters= 32, kernel_size=(3, 3), activation='relu', input_shape=(28, 28, 1))) #(image_height, image_width, image_channels) (not including the batch dimension).\n",
    "model8.add(layers.MaxPooling2D((2, 2)))\n",
    "model8.add(layers.Conv2D(filters = 64, kernel_size=(3, 3), activation='relu'))\n",
    "model8.add(layers.MaxPooling2D((2, 2)))\n",
    "model8.add(layers.Conv2D(filters = 64, kernel_size=(3, 3), activation='relu'))\n",
    "\n",
    "model8.add(layers.Flatten()) # Output_shape=(None, 3*3*64)\n",
    "model8.add(layers.Dense(units= 64, activation='relu'))\n",
    "model8.add(layers.Dense(units=10, activation='softmax'))"
   ]
  },
  {
   "cell_type": "code",
   "execution_count": 56,
   "metadata": {},
   "outputs": [
    {
     "name": "stdout",
     "output_type": "stream",
     "text": [
      "Train on 6000 samples, validate on 1000 samples\n",
      "Epoch 1/10\n",
      "6000/6000 [==============================] - 5s 871us/step - loss: 0.1650 - acc: 0.7958 - val_loss: 0.1288 - val_acc: 0.9130\n",
      "Epoch 2/10\n",
      "6000/6000 [==============================] - 4s 698us/step - loss: 0.1152 - acc: 0.9555 - val_loss: 0.1143 - val_acc: 0.9560\n",
      "Epoch 3/10\n",
      "6000/6000 [==============================] - 4s 683us/step - loss: 0.1095 - acc: 0.9722 - val_loss: 0.1128 - val_acc: 0.9650\n",
      "Epoch 4/10\n",
      "6000/6000 [==============================] - 4s 698us/step - loss: 0.1067 - acc: 0.9783 - val_loss: 0.1096 - val_acc: 0.9780\n",
      "Epoch 5/10\n",
      "6000/6000 [==============================] - 5s 792us/step - loss: 0.1046 - acc: 0.9868 - val_loss: 0.1169 - val_acc: 0.9600\n",
      "Epoch 6/10\n",
      "6000/6000 [==============================] - 5s 836us/step - loss: 0.1035 - acc: 0.9888 - val_loss: 0.1095 - val_acc: 0.9750\n",
      "Epoch 7/10\n",
      "6000/6000 [==============================] - 5s 764us/step - loss: 0.1025 - acc: 0.9928 - val_loss: 0.1125 - val_acc: 0.9730\n",
      "Epoch 8/10\n",
      "6000/6000 [==============================] - 5s 835us/step - loss: 0.1020 - acc: 0.9940 - val_loss: 0.1117 - val_acc: 0.9750\n",
      "Epoch 9/10\n",
      "6000/6000 [==============================] - 5s 829us/step - loss: 0.1017 - acc: 0.9940 - val_loss: 0.1084 - val_acc: 0.9810\n",
      "Epoch 10/10\n",
      "6000/6000 [==============================] - 5s 800us/step - loss: 0.1062 - acc: 0.9835 - val_loss: 0.1084 - val_acc: 0.9780\n"
     ]
    }
   ],
   "source": [
    "model8.compile(optimizer=optimizers.nadam(),\n",
    "loss=losses.poisson,\n",
    "metrics=['accuracy'])\n",
    "history = model8.fit(X_train, X_train_labels, epochs=10, batch_size=64, validation_data=(X_valid, X_valid_labels))"
   ]
  },
  {
   "cell_type": "code",
   "execution_count": 62,
   "metadata": {},
   "outputs": [
    {
     "name": "stdout",
     "output_type": "stream",
     "text": [
      "1000/1000 [==============================] - 0s 315us/step\n"
     ]
    },
    {
     "data": {
      "text/plain": [
       "0.974"
      ]
     },
     "execution_count": 62,
     "metadata": {},
     "output_type": "execute_result"
    }
   ],
   "source": [
    "test_loss_le8, test_acc_le8 = model8.evaluate(X_test, X_test_labels)\n",
    "test_acc_le8"
   ]
  },
  {
   "cell_type": "code",
   "execution_count": null,
   "metadata": {},
   "outputs": [],
   "source": []
  },
  {
   "cell_type": "code",
   "execution_count": 57,
   "metadata": {},
   "outputs": [],
   "source": [
    "model9 = models.Sequential()\n",
    "model9.add(layers.Conv2D(filters= 32, kernel_size=(3, 3), activation='relu', input_shape=(28, 28, 1))) #(image_height, image_width, image_channels) (not including the batch dimension).\n",
    "model9.add(layers.MaxPooling2D((2, 2)))\n",
    "model9.add(layers.Conv2D(filters = 64, kernel_size=(3, 3), activation='relu'))\n",
    "model9.add(layers.MaxPooling2D((2, 2)))\n",
    "model9.add(layers.Conv2D(filters = 64, kernel_size=(3, 3), activation='relu'))\n",
    "\n",
    "model9.add(layers.Flatten()) # Output_shape=(None, 3*3*64)\n",
    "model9.add(layers.Dense(units= 64, activation='relu'))\n",
    "model9.add(layers.Dense(units=10, activation='softmax'))"
   ]
  },
  {
   "cell_type": "code",
   "execution_count": 58,
   "metadata": {},
   "outputs": [
    {
     "name": "stdout",
     "output_type": "stream",
     "text": [
      "Train on 6000 samples, validate on 1000 samples\n",
      "Epoch 1/10\n",
      "6000/6000 [==============================] - 6s 932us/step - loss: 0.3306 - acc: 0.1363 - val_loss: 0.3303 - val_acc: 0.1500\n",
      "Epoch 2/10\n",
      "6000/6000 [==============================] - 5s 767us/step - loss: 0.3300 - acc: 0.1658 - val_loss: 0.3297 - val_acc: 0.1750\n",
      "Epoch 3/10\n",
      "6000/6000 [==============================] - 5s 813us/step - loss: 0.3295 - acc: 0.1943 - val_loss: 0.3292 - val_acc: 0.2040\n",
      "Epoch 4/10\n",
      "6000/6000 [==============================] - 5s 811us/step - loss: 0.3290 - acc: 0.2077 - val_loss: 0.3287 - val_acc: 0.2220\n",
      "Epoch 5/10\n",
      "6000/6000 [==============================] - 5s 760us/step - loss: 0.3285 - acc: 0.2308 - val_loss: 0.3282 - val_acc: 0.2400\n",
      "Epoch 6/10\n",
      "6000/6000 [==============================] - 5s 763us/step - loss: 0.3280 - acc: 0.2603 - val_loss: 0.3277 - val_acc: 0.2600\n",
      "Epoch 7/10\n",
      "6000/6000 [==============================] - 5s 767us/step - loss: 0.3274 - acc: 0.2885 - val_loss: 0.3271 - val_acc: 0.2800\n",
      "Epoch 8/10\n",
      "6000/6000 [==============================] - 5s 772us/step - loss: 0.3268 - acc: 0.3083 - val_loss: 0.3265 - val_acc: 0.2910\n",
      "Epoch 9/10\n",
      "6000/6000 [==============================] - 4s 749us/step - loss: 0.3262 - acc: 0.3235 - val_loss: 0.3259 - val_acc: 0.2980\n",
      "Epoch 10/10\n",
      "6000/6000 [==============================] - 5s 752us/step - loss: 0.3255 - acc: 0.3313 - val_loss: 0.3252 - val_acc: 0.3040\n"
     ]
    }
   ],
   "source": [
    "model9.compile(optimizer=optimizers.SGD(),\n",
    "loss=losses.poisson,\n",
    "metrics=['accuracy'])\n",
    "history = model9.fit(X_train, X_train_labels, epochs=10, batch_size=64, validation_data=(X_valid, X_valid_labels))"
   ]
  },
  {
   "cell_type": "code",
   "execution_count": 63,
   "metadata": {},
   "outputs": [
    {
     "name": "stdout",
     "output_type": "stream",
     "text": [
      "1000/1000 [==============================] - 0s 313us/step\n"
     ]
    },
    {
     "data": {
      "text/plain": [
       "0.284"
      ]
     },
     "execution_count": 63,
     "metadata": {},
     "output_type": "execute_result"
    }
   ],
   "source": [
    "test_loss_le9, test_acc_le9 = model9.evaluate(X_test, X_test_labels)\n",
    "test_acc_le9"
   ]
  },
  {
   "cell_type": "markdown",
   "metadata": {},
   "source": [
    "## Modelo 1 foi o melhor. Loss = mean_squared_logarithmic_error, optimizer = adagrad"
   ]
  },
  {
   "cell_type": "code",
   "execution_count": 65,
   "metadata": {},
   "outputs": [],
   "source": [
    "datagen = ImageDataGenerator(\n",
    "rotation_range=40,\n",
    "width_shift_range=0.2,\n",
    "height_shift_range=0.2,\n",
    "shear_range=0.2,\n",
    "zoom_range=0.2,\n",
    "horizontal_flip=True,\n",
    "fill_mode='nearest')"
   ]
  },
  {
   "cell_type": "code",
   "execution_count": 66,
   "metadata": {},
   "outputs": [
    {
     "data": {
      "image/png": "[encoded data removed]",
      "text/plain": [
       "<Figure size 432x288 with 1 Axes>"
      ]
     },
     "metadata": {},
     "output_type": "display_data"
    }
   ],
   "source": [
    "imgplot = plt.imshow(image.array_to_img(X_train[0]))\n",
    "plt.show()"
   ]
  },
  {
   "cell_type": "code",
   "execution_count": 70,
   "metadata": {},
   "outputs": [
    {
     "data": {
      "image/png": "[encoded data removed]",
      "text/plain": [
       "<Figure size 432x288 with 1 Axes>"
      ]
     },
     "metadata": {},
     "output_type": "display_data"
    },
    {
     "data": {
      "image/png": "[encoded data removed]",
      "text/plain": [
       "<Figure size 432x288 with 1 Axes>"
      ]
     },
     "metadata": {},
     "output_type": "display_data"
    },
    {
     "data": {
      "image/png": "[encoded data removed]",
      "text/plain": [
       "<Figure size 432x288 with 1 Axes>"
      ]
     },
     "metadata": {},
     "output_type": "display_data"
    },
    {
     "data": {
      "image/png": "[encoded data removed]",
      "text/plain": [
       "<Figure size 432x288 with 1 Axes>"
      ]
     },
     "metadata": {},
     "output_type": "display_data"
    }
   ],
   "source": [
    "i = 0;\n",
    "for batch in datagen.flow(X_train, batch_size=20):\n",
    "    plt.figure(i)\n",
    "    imgplot = plt.imshow(image.array_to_img(batch[0]))\n",
    "    i += 1\n",
    "    if i % 4 == 0:\n",
    "        break\n",
    "plt.show()"
   ]
  },
  {
   "cell_type": "markdown",
   "metadata": {},
   "source": [
    "## Dropout"
   ]
  },
  {
   "cell_type": "code",
   "execution_count": 71,
   "metadata": {},
   "outputs": [],
   "source": [
    "modelf = models.Sequential()\n",
    "modelf.add(layers.Conv2D(filters= 32, kernel_size=(3, 3), activation='relu', input_shape=(28, 28, 1))) #(image_height, image_width, image_channels) (not including the batch dimension).\n",
    "modelf.add(layers.MaxPooling2D((2, 2)))\n",
    "modelf.add(layers.Conv2D(filters = 64, kernel_size=(3, 3), activation='relu'))\n",
    "modelf.add(layers.MaxPooling2D((2, 2)))\n",
    "modelf.add(layers.Conv2D(filters = 64, kernel_size=(3, 3), activation='relu'))\n",
    "modelf.add(layers.Flatten()) # Output_shape=(None, 3*3*64)\n",
    "modelf.add(layers.Dropout(0.5))\n",
    "modelf.add(layers.Dense(units= 64, activation='relu'))\n",
    "modelf.add(layers.Dense(units=10, activation='softmax'))"
   ]
  },
  {
   "cell_type": "code",
   "execution_count": 75,
   "metadata": {},
   "outputs": [],
   "source": [
    "modelf.compile(optimizer=optimizers.adagrad(),\n",
    "loss=losses.mean_squared_logarithmic_error,\n",
    "metrics=['accuracy'])"
   ]
  },
  {
   "cell_type": "code",
   "execution_count": 76,
   "metadata": {},
   "outputs": [
    {
     "name": "stdout",
     "output_type": "stream",
     "text": [
      "Epoch 1/5\n",
      "500/500 [==============================] - 10s 20ms/step - loss: 1.2736 - acc: 0.5695 - val_loss: 0.3775 - val_acc: 0.9030\n",
      "Epoch 2/5\n",
      "500/500 [==============================] - 10s 20ms/step - loss: 0.9943 - acc: 0.6742 - val_loss: 0.2821 - val_acc: 0.9160\n",
      "Epoch 3/5\n",
      "500/500 [==============================] - 11s 22ms/step - loss: 0.8353 - acc: 0.7338 - val_loss: 0.2389 - val_acc: 0.9300\n",
      "Epoch 4/5\n",
      "500/500 [==============================] - 10s 20ms/step - loss: 0.7255 - acc: 0.7642 - val_loss: 0.2141 - val_acc: 0.9350\n",
      "Epoch 5/5\n",
      "500/500 [==============================] - 10s 20ms/step - loss: 0.6622 - acc: 0.7893 - val_loss: 0.2076 - val_acc: 0.9390\n"
     ]
    }
   ],
   "source": [
    "train_datagen = ImageDataGenerator(\n",
    "rotation_range=40,\n",
    "width_shift_range=0.2,\n",
    "height_shift_range=0.2,\n",
    "shear_range=0.2,\n",
    "zoom_range=0.2,\n",
    "horizontal_flip=True,)\n",
    "\n",
    "history = model.fit_generator(datagen.flow(X_train, X_train_labels, batch_size=12), epochs=5, validation_data=(X_valid, X_valid_labels))\n",
    "#Generate batches of tensor image data with real-time data augmentation. (6000/12 = 500)"
   ]
  },
  {
   "cell_type": "code",
   "execution_count": 77,
   "metadata": {},
   "outputs": [
    {
     "name": "stdout",
     "output_type": "stream",
     "text": [
      "1000/1000 [==============================] - 1s 529us/step\n"
     ]
    },
    {
     "data": {
      "text/plain": [
       "0.971"
      ]
     },
     "execution_count": 77,
     "metadata": {},
     "output_type": "execute_result"
    }
   ],
   "source": [
    "test_lossf, test_accf = modelf.evaluate(X_test, X_test_labels)\n",
    "test_accf"
   ]
  },
  {
   "cell_type": "code",
   "execution_count": null,
   "metadata": {},
   "outputs": [],
   "source": []
  }
 ],
 "metadata": {
  "kernelspec": {
   "display_name": "Python 3",
   "language": "python",
   "name": "python3"
  },
  "language_info": {
   "codemirror_mode": {
    "name": "ipython",
    "version": 3
   },
   "file_extension": ".py",
   "mimetype": "text/x-python",
   "name": "python",
   "nbconvert_exporter": "python",
   "pygments_lexer": "ipython3",
   "version": "3.6.5"
  }
 },
 "nbformat": 4,
 "nbformat_minor": 2
}
